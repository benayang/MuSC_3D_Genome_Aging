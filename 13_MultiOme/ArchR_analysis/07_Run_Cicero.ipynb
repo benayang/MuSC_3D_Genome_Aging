{
 "cells": [
  {
   "cell_type": "code",
   "execution_count": 1,
   "id": "c5eac700-ffb6-4996-a29e-87404e0d1ba1",
   "metadata": {
    "scrolled": true,
    "tags": []
   },
   "outputs": [
    {
     "name": "stderr",
     "output_type": "stream",
     "text": [
      "\n",
      "Attaching package: ‘dplyr’\n",
      "\n",
      "\n",
      "The following objects are masked from ‘package:stats’:\n",
      "\n",
      "    filter, lag\n",
      "\n",
      "\n",
      "The following objects are masked from ‘package:base’:\n",
      "\n",
      "    intersect, setdiff, setequal, union\n",
      "\n",
      "\n",
      "Loading required package: BSgenome\n",
      "\n",
      "Loading required package: BiocGenerics\n",
      "\n",
      "\n",
      "Attaching package: ‘BiocGenerics’\n",
      "\n",
      "\n",
      "The following objects are masked from ‘package:dplyr’:\n",
      "\n",
      "    combine, intersect, setdiff, union\n",
      "\n",
      "\n",
      "The following objects are masked from ‘package:stats’:\n",
      "\n",
      "    IQR, mad, sd, var, xtabs\n",
      "\n",
      "\n",
      "The following objects are masked from ‘package:base’:\n",
      "\n",
      "    anyDuplicated, append, as.data.frame, basename, cbind, colnames,\n",
      "    dirname, do.call, duplicated, eval, evalq, Filter, Find, get, grep,\n",
      "    grepl, intersect, is.unsorted, lapply, Map, mapply, match, mget,\n",
      "    order, paste, pmax, pmax.int, pmin, pmin.int, Position, rank,\n",
      "    rbind, Reduce, rownames, sapply, setdiff, sort, table, tapply,\n",
      "    union, unique, unsplit, which.max, which.min\n",
      "\n",
      "\n",
      "Loading required package: S4Vectors\n",
      "\n",
      "Loading required package: stats4\n",
      "\n",
      "\n",
      "Attaching package: ‘S4Vectors’\n",
      "\n",
      "\n",
      "The following object is masked from ‘package:tidyr’:\n",
      "\n",
      "    expand\n",
      "\n",
      "\n",
      "The following objects are masked from ‘package:dplyr’:\n",
      "\n",
      "    first, rename\n",
      "\n",
      "\n",
      "The following objects are masked from ‘package:base’:\n",
      "\n",
      "    expand.grid, I, unname\n",
      "\n",
      "\n",
      "Loading required package: IRanges\n",
      "\n",
      "\n",
      "Attaching package: ‘IRanges’\n",
      "\n",
      "\n",
      "The following objects are masked from ‘package:dplyr’:\n",
      "\n",
      "    collapse, desc, slice\n",
      "\n",
      "\n",
      "Loading required package: GenomeInfoDb\n",
      "\n",
      "Loading required package: GenomicRanges\n",
      "\n",
      "Loading required package: Biostrings\n",
      "\n",
      "Loading required package: XVector\n",
      "\n",
      "\n",
      "Attaching package: ‘Biostrings’\n",
      "\n",
      "\n",
      "The following object is masked from ‘package:base’:\n",
      "\n",
      "    strsplit\n",
      "\n",
      "\n",
      "Loading required package: rtracklayer\n",
      "\n",
      "Loading required package: Biobase\n",
      "\n",
      "Welcome to Bioconductor\n",
      "\n",
      "    Vignettes contain introductory material; view with\n",
      "    'browseVignettes()'. To cite Bioconductor, see\n",
      "    'citation(\"Biobase\")', and for packages 'citation(\"pkgname\")'.\n",
      "\n",
      "\n",
      "Loading required package: SingleCellExperiment\n",
      "\n",
      "Loading required package: SummarizedExperiment\n",
      "\n",
      "Loading required package: MatrixGenerics\n",
      "\n",
      "Loading required package: matrixStats\n",
      "\n",
      "\n",
      "Attaching package: ‘matrixStats’\n",
      "\n",
      "\n",
      "The following objects are masked from ‘package:Biobase’:\n",
      "\n",
      "    anyMissing, rowMedians\n",
      "\n",
      "\n",
      "The following object is masked from ‘package:dplyr’:\n",
      "\n",
      "    count\n",
      "\n",
      "\n",
      "\n",
      "Attaching package: ‘MatrixGenerics’\n",
      "\n",
      "\n",
      "The following objects are masked from ‘package:matrixStats’:\n",
      "\n",
      "    colAlls, colAnyNAs, colAnys, colAvgsPerRowSet, colCollapse,\n",
      "    colCounts, colCummaxs, colCummins, colCumprods, colCumsums,\n",
      "    colDiffs, colIQRDiffs, colIQRs, colLogSumExps, colMadDiffs,\n",
      "    colMads, colMaxs, colMeans2, colMedians, colMins, colOrderStats,\n",
      "    colProds, colQuantiles, colRanges, colRanks, colSdDiffs, colSds,\n",
      "    colSums2, colTabulates, colVarDiffs, colVars, colWeightedMads,\n",
      "    colWeightedMeans, colWeightedMedians, colWeightedSds,\n",
      "    colWeightedVars, rowAlls, rowAnyNAs, rowAnys, rowAvgsPerColSet,\n",
      "    rowCollapse, rowCounts, rowCummaxs, rowCummins, rowCumprods,\n",
      "    rowCumsums, rowDiffs, rowIQRDiffs, rowIQRs, rowLogSumExps,\n",
      "    rowMadDiffs, rowMads, rowMaxs, rowMeans2, rowMedians, rowMins,\n",
      "    rowOrderStats, rowProds, rowQuantiles, rowRanges, rowRanks,\n",
      "    rowSdDiffs, rowSds, rowSums2, rowTabulates, rowVarDiffs, rowVars,\n",
      "    rowWeightedMads, rowWeightedMeans, rowWeightedMedians,\n",
      "    rowWeightedSds, rowWeightedVars\n",
      "\n",
      "\n",
      "The following object is masked from ‘package:Biobase’:\n",
      "\n",
      "    rowMedians\n",
      "\n",
      "\n",
      "\n",
      "Attaching package: ‘monocle3’\n",
      "\n",
      "\n",
      "The following objects are masked from ‘package:Biobase’:\n",
      "\n",
      "    exprs, fData, fData<-, pData, pData<-\n",
      "\n",
      "\n",
      "Loading required package: Gviz\n",
      "\n",
      "Loading required package: grid\n",
      "\n",
      "\n",
      "Attaching package: ‘grid’\n",
      "\n",
      "\n",
      "The following object is masked from ‘package:Biostrings’:\n",
      "\n",
      "    pattern\n",
      "\n",
      "\n"
     ]
    }
   ],
   "source": [
    "library(dplyr)\n",
    "library(tidyr)\n",
    "library(BSgenome.Mmusculus.UCSC.mm10)\n",
    "library(monocle3)\n",
    "library(cicero)"
   ]
  },
  {
   "cell_type": "code",
   "execution_count": 2,
   "id": "b8351f52-6be1-4c45-aaeb-89ff38d14f2b",
   "metadata": {},
   "outputs": [],
   "source": [
    "projdir <- '/nas/homes/benyang/HiC/13_MultiOme/ArchR_analysis'"
   ]
  },
  {
   "cell_type": "code",
   "execution_count": 9,
   "id": "353b079b-20af-4317-8571-618647c5d225",
   "metadata": {},
   "outputs": [],
   "source": [
    "source(file.path(projdir, 'ArchR_utilities.R'))"
   ]
  },
  {
   "cell_type": "code",
   "execution_count": 12,
   "id": "251284e1-c106-4de5-aa01-f068078785a0",
   "metadata": {},
   "outputs": [],
   "source": [
    "young_MuSC_cicero <- readRDS(file.path(projdir, 'MuSC_subset', 'Cicero_objects', \"young_MuSC_cicero.RDS\"))\n",
    "aged_MuSC_cicero <- readRDS(file.path(projdir, 'MuSC_subset', 'Cicero_objects', \"aged_MuSC_cicero.RDS\"))\n",
    "MuSC_cicero <- readRDS(file.path(projdir, 'MuSC_subset', 'Cicero_objects', \"all_MuSC_cicero.RDS\"))"
   ]
  },
  {
   "cell_type": "code",
   "execution_count": 5,
   "id": "1cd679fe-f4e6-46be-8fb5-96ace89f27ed",
   "metadata": {},
   "outputs": [],
   "source": [
    "MuSC_projAging1 <- readRDS(file.path(projdir, \"MuSC_subset\", \"all_MuSCs\", \"Save-ArchR-Project.rds\"))"
   ]
  },
  {
   "cell_type": "code",
   "execution_count": 8,
   "id": "e6da54d7-cd68-41dd-b92f-1ce38c2bcc82",
   "metadata": {},
   "outputs": [],
   "source": [
    "genome <- as.data.frame(ArchR::getChromSizes(MuSC_projAging1))\n",
    "genome.df <- data.frame(\"chr\" = genome$seqnames, \"length\" = genome$width)"
   ]
  },
  {
   "cell_type": "code",
   "execution_count": 15,
   "id": "1a386127-e836-42a8-a43b-98aef5d439ed",
   "metadata": {},
   "outputs": [
    {
     "name": "stdout",
     "output_type": "stream",
     "text": [
      "[1] \"Starting Cicero\"\n",
      "[1] \"Calculating distance_parameter value\"\n",
      "[1] \"Running models\"\n",
      "[1] \"Assembling connections\"\n",
      "[1] \"Successful cicero models:  6662\"\n",
      "[1] \"Other models: \"\n",
      "\n",
      "Zero or one element in range \n",
      "                        4249 \n",
      "[1] \"Models with errors:  0\"\n",
      "[1] \"Done\"\n",
      "[1] \"Coaccessibility cutoff used: 0.11\"\n"
     ]
    }
   ],
   "source": [
    "run_cicero(young_MuSC_cicero, genome.df, \"Young\", file.path(projdir, \"MuSC_subset\", \"Cicero_objects\"))"
   ]
  },
  {
   "cell_type": "code",
   "execution_count": 16,
   "id": "57b0087a-8c66-40ab-8545-88ddc10925b3",
   "metadata": {},
   "outputs": [
    {
     "name": "stdout",
     "output_type": "stream",
     "text": [
      "[1] \"Starting Cicero\"\n",
      "[1] \"Calculating distance_parameter value\"\n",
      "[1] \"Running models\"\n",
      "[1] \"Assembling connections\"\n",
      "[1] \"Successful cicero models:  6743\"\n",
      "[1] \"Other models: \"\n",
      "\n",
      "Zero or one element in range \n",
      "                        4168 \n",
      "[1] \"Models with errors:  0\"\n",
      "[1] \"Done\"\n",
      "[1] \"Coaccessibility cutoff used: 0.11\"\n"
     ]
    }
   ],
   "source": [
    "run_cicero(aged_MuSC_cicero, genome.df, \"Aged\", file.path(projdir, \"MuSC_subset\", \"Cicero_objects\"))"
   ]
  },
  {
   "cell_type": "code",
   "execution_count": 17,
   "id": "fad4b833-2f16-4629-b025-974ac03f9b31",
   "metadata": {},
   "outputs": [
    {
     "name": "stdout",
     "output_type": "stream",
     "text": [
      "[1] \"Starting Cicero\"\n",
      "[1] \"Calculating distance_parameter value\"\n",
      "[1] \"Running models\"\n",
      "[1] \"Assembling connections\"\n",
      "[1] \"Successful cicero models:  6743\"\n",
      "[1] \"Other models: \"\n",
      "\n",
      "Zero or one element in range \n",
      "                        4168 \n",
      "[1] \"Models with errors:  0\"\n",
      "[1] \"Done\"\n",
      "[1] \"Coaccessibility cutoff used: 0.14\"\n"
     ]
    }
   ],
   "source": [
    "run_cicero(MuSC_cicero, genome.df, \"all_MuSC\", file.path(projdir, \"MuSC_subset\", \"Cicero_objects\"))"
   ]
  }
 ],
 "metadata": {
  "kernelspec": {
   "display_name": "R",
   "language": "R",
   "name": "ir"
  },
  "language_info": {
   "codemirror_mode": "r",
   "file_extension": ".r",
   "mimetype": "text/x-r-source",
   "name": "R",
   "pygments_lexer": "r",
   "version": "4.2.1"
  }
 },
 "nbformat": 4,
 "nbformat_minor": 5
}
