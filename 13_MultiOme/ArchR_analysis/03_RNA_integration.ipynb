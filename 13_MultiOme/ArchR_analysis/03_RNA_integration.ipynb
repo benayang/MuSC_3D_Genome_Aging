{
 "cells": [
  {
   "cell_type": "code",
   "execution_count": 1,
   "metadata": {
    "scrolled": true
   },
   "outputs": [
    {
     "name": "stderr",
     "output_type": "stream",
     "text": [
      "\n",
      "                                                   / |\n",
      "                                                 /    \\\n",
      "            .                                  /      |.\n",
      "            \\\\\\                              /        |.\n",
      "              \\\\\\                          /           `|.\n",
      "                \\\\\\                      /              |.\n",
      "                  \\                    /                |\\\n",
      "                  \\\\#####\\           /                  ||\n",
      "                ==###########>      /                   ||\n",
      "                 \\\\##==......\\    /                     ||\n",
      "            ______ =       =|__ /__                     ||      \\\\\\\n",
      "        ,--' ,----`-,__ ___/'  --,-`-===================##========>\n",
      "       \\               '        ##_______ _____ ,--,__,=##,__   ///\n",
      "        ,    __==    ___,-,__,--'#'  ==='      `-'    | ##,-/\n",
      "        -,____,---'       \\\\####\\\\________________,--\\\\_##,/\n",
      "           ___      .______        ______  __    __  .______      \n",
      "          /   \\     |   _  \\      /      ||  |  |  | |   _  \\     \n",
      "         /  ^  \\    |  |_)  |    |  ,----'|  |__|  | |  |_)  |    \n",
      "        /  /_\\  \\   |      /     |  |     |   __   | |      /     \n",
      "       /  _____  \\  |  |\\  \\\\___ |  `----.|  |  |  | |  |\\  \\\\___.\n",
      "      /__/     \\__\\ | _| `._____| \\______||__|  |__| | _| `._____|\n",
      "    \n",
      "\n",
      "ArchR : Version 1.0.2\n",
      "For more information see our website : www.ArchRProject.com\n",
      "If you encounter a bug please report : https://github.com/GreenleafLab/ArchR/issues\n",
      "\n",
      "Loading Required Packages...\n",
      "\n",
      "\tLoading Package : grid v4.2.1\n",
      "\n",
      "\tLoading Package : gridExtra v2.3\n",
      "\n",
      "\tLoading Package : gtools v3.9.3\n",
      "\n",
      "\tLoading Package : gtable v0.3.1\n",
      "\n",
      "\tLoading Package : ggplot2 v3.3.6\n",
      "\n",
      "\tLoading Package : magrittr v2.0.3\n",
      "\n",
      "\tLoading Package : plyr v1.8.7\n",
      "\n",
      "\tLoading Package : stringr v1.4.1\n",
      "\n",
      "\tLoading Package : data.table v1.14.2\n",
      "\n",
      "\tLoading Package : matrixStats v0.62.0\n",
      "\n",
      "\tLoading Package : S4Vectors v0.34.0\n",
      "\n",
      "\tLoading Package : GenomicRanges v1.48.0\n",
      "\n",
      "\tLoading Package : BiocGenerics v0.42.0\n",
      "\n",
      "\tLoading Package : Matrix v1.5.3\n",
      "\n",
      "\tLoading Package : Rcpp v1.0.9\n",
      "\n",
      "\tLoading Package : SummarizedExperiment v1.26.1\n",
      "\n",
      "\tLoading Package : rhdf5 v2.40.0\n",
      "\n",
      "Attaching SeuratObject\n",
      "\n",
      "Attaching sp\n",
      "\n",
      "\n",
      "Attaching package: ‘Seurat’\n",
      "\n",
      "\n",
      "The following object is masked from ‘package:SummarizedExperiment’:\n",
      "\n",
      "    Assays\n",
      "\n",
      "\n",
      "\n",
      "Attaching package: ‘dplyr’\n",
      "\n",
      "\n",
      "The following object is masked from ‘package:Biobase’:\n",
      "\n",
      "    combine\n",
      "\n",
      "\n",
      "The following objects are masked from ‘package:GenomicRanges’:\n",
      "\n",
      "    intersect, setdiff, union\n",
      "\n",
      "\n",
      "The following object is masked from ‘package:GenomeInfoDb’:\n",
      "\n",
      "    intersect\n",
      "\n",
      "\n",
      "The following objects are masked from ‘package:IRanges’:\n",
      "\n",
      "    collapse, desc, intersect, setdiff, slice, union\n",
      "\n",
      "\n",
      "The following objects are masked from ‘package:S4Vectors’:\n",
      "\n",
      "    first, intersect, rename, setdiff, setequal, union\n",
      "\n",
      "\n",
      "The following objects are masked from ‘package:BiocGenerics’:\n",
      "\n",
      "    combine, intersect, setdiff, union\n",
      "\n",
      "\n",
      "The following object is masked from ‘package:matrixStats’:\n",
      "\n",
      "    count\n",
      "\n",
      "\n",
      "The following objects are masked from ‘package:data.table’:\n",
      "\n",
      "    between, first, last\n",
      "\n",
      "\n",
      "The following objects are masked from ‘package:plyr’:\n",
      "\n",
      "    arrange, count, desc, failwith, id, mutate, rename, summarise,\n",
      "    summarize\n",
      "\n",
      "\n",
      "The following object is masked from ‘package:gridExtra’:\n",
      "\n",
      "    combine\n",
      "\n",
      "\n",
      "The following objects are masked from ‘package:stats’:\n",
      "\n",
      "    filter, lag\n",
      "\n",
      "\n",
      "The following objects are masked from ‘package:base’:\n",
      "\n",
      "    intersect, setdiff, setequal, union\n",
      "\n",
      "\n",
      "\n",
      "Attaching package: ‘tidyr’\n",
      "\n",
      "\n",
      "The following objects are masked from ‘package:Matrix’:\n",
      "\n",
      "    expand, pack, unpack\n",
      "\n",
      "\n",
      "The following object is masked from ‘package:S4Vectors’:\n",
      "\n",
      "    expand\n",
      "\n",
      "\n",
      "The following object is masked from ‘package:magrittr’:\n",
      "\n",
      "    extract\n",
      "\n",
      "\n"
     ]
    }
   ],
   "source": [
    "library(ArchR)\n",
    "library(Seurat)\n",
    "library(dplyr)\n",
    "library(tidyr)\n",
    "library(parallel)"
   ]
  },
  {
   "cell_type": "code",
   "execution_count": 2,
   "metadata": {},
   "outputs": [
    {
     "name": "stderr",
     "output_type": "stream",
     "text": [
      "Setting default genome to Mm10.\n",
      "\n",
      "Setting default number of Parallel threads to 45.\n",
      "\n"
     ]
    }
   ],
   "source": [
    "projdir <- '/nas/homes/benyang/HiC/13_MultiOme/ArchR_analysis'\n",
    "\n",
    "addArchRGenome(\"mm10\")\n",
    "addArchRThreads(threads = 45) \n",
    "\n",
    "projAging3 <- readRDS(file.path(projdir, \"Save-projAging3-01\", \"Save-ArchR-Project.rds\"))"
   ]
  },
  {
   "cell_type": "code",
   "execution_count": 3,
   "metadata": {},
   "outputs": [],
   "source": [
    "scRNA <- readRDS(\"/nas/homes/benyang/HiC/13_MultiOme/TabulaMurisSenis/aging_RNA_integrated_annotated.RDS\")"
   ]
  },
  {
   "cell_type": "code",
   "execution_count": 4,
   "metadata": {
    "scrolled": true,
    "tags": []
   },
   "outputs": [
    {
     "name": "stderr",
     "output_type": "stream",
     "text": [
      "Loading required package: MASS\n",
      "\n",
      "\n",
      "Attaching package: ‘MASS’\n",
      "\n",
      "\n",
      "The following object is masked from ‘package:dplyr’:\n",
      "\n",
      "    select\n",
      "\n",
      "\n",
      "Loading required package: mclust\n",
      "\n",
      "Package 'mclust' version 6.0.0\n",
      "Type 'citation(\"mclust\")' for citing this R package in publications.\n",
      "\n",
      "Loading required package: ChIPseeker\n",
      "\n",
      "\n",
      "\n",
      "ChIPseeker v1.32.1  For help: https://guangchuangyu.github.io/software/ChIPseeker\n",
      "\n",
      "If you use ChIPseeker in published research, please cite:\n",
      "Guangchuang Yu, Li-Gen Wang, Qing-Yu He. ChIPseeker: an R/Bioconductor package for ChIP peak annotation, comparison and visualization. Bioinformatics 2015, 31(14):2382-2383\n",
      "\n",
      "\n",
      "Attaching package: ‘ChIPseeker’\n",
      "\n",
      "\n",
      "The following object is masked from ‘package:plyr’:\n",
      "\n",
      "    .\n",
      "\n",
      "\n",
      "Loading required package: TxDb.Mmusculus.UCSC.mm10.knownGene\n",
      "\n",
      "Loading required package: GenomicFeatures\n",
      "\n",
      "Loading required package: AnnotationDbi\n",
      "\n",
      "\n",
      "Attaching package: ‘AnnotationDbi’\n",
      "\n",
      "\n",
      "The following object is masked from ‘package:MASS’:\n",
      "\n",
      "    select\n",
      "\n",
      "\n",
      "The following object is masked from ‘package:dplyr’:\n",
      "\n",
      "    select\n",
      "\n",
      "\n",
      "Loading required package: GenomicInteractions\n",
      "\n",
      "Loading required package: InteractionSet\n",
      "\n",
      "Loading required package: doParallel\n",
      "\n",
      "Loading required package: foreach\n",
      "\n",
      "Loading required package: iterators\n",
      "\n",
      "Loading required package: maxmatching\n",
      "\n"
     ]
    }
   ],
   "source": [
    "source(file.path(projdir, 'ArchR_utilities.R'))"
   ]
  },
  {
   "cell_type": "code",
   "execution_count": 10,
   "metadata": {},
   "outputs": [
    {
     "name": "stderr",
     "output_type": "stream",
     "text": [
      "\n",
      "           ___      .______        ______  __    __  .______      \n",
      "          /   \\     |   _  \\      /      ||  |  |  | |   _  \\     \n",
      "         /  ^  \\    |  |_)  |    |  ,----'|  |__|  | |  |_)  |    \n",
      "        /  /_\\  \\   |      /     |  |     |   __   | |      /     \n",
      "       /  _____  \\  |  |\\  \\\\___ |  `----.|  |  |  | |  |\\  \\\\___.\n",
      "      /__/     \\__\\ | _| `._____| \\______||__|  |__| | _| `._____|\n",
      "    \n",
      "\n"
     ]
    },
    {
     "data": {
      "text/plain": [
       "class: ArchRProject \n",
       "outputDirectory: /nas/homes/benyang/HiC/13_MultiOme/ArchR_analysis/output \n",
       "samples(4): Aged_v2 Young_v2 Aged Young\n",
       "sampleColData names(1): ArrowFiles\n",
       "cellColData names(23): Sample TSSEnrichment ...\n",
       "  Harmony_Age_Clusters_res0.3 New_Harmony_4iter_Clusters_res0.2\n",
       "numberOfCells(1): 24930\n",
       "medianTSS(1): 21.8735\n",
       "medianFrags(1): 7824"
      ]
     },
     "metadata": {},
     "output_type": "display_data"
    }
   ],
   "source": [
    "projAging3"
   ]
  },
  {
   "cell_type": "markdown",
   "metadata": {},
   "source": [
    "# Unconstrained integration"
   ]
  },
  {
   "cell_type": "code",
   "execution_count": 11,
   "metadata": {
    "scrolled": true
   },
   "outputs": [
    {
     "name": "stderr",
     "output_type": "stream",
     "text": [
      "ArchR logging to : ArchRLogs/ArchR-addGeneIntegrationMatrix-be4b1e611e-Date-2022-12-23_Time-03-57-21.log\n",
      "If there is an issue, please report to github with logFile!\n",
      "\n",
      "2022-12-23 03:57:21 : Running Seurat's Integration Stuart* et al 2019, 0.005 mins elapsed.\n",
      "\n",
      "2022-12-23 03:57:21 : Checking ATAC Input, 0.008 mins elapsed.\n",
      "\n",
      "2022-12-23 03:57:27 : Checking RNA Input, 0.104 mins elapsed.\n",
      "\n",
      "2022-12-23 03:57:32 : Found 22699 overlapping gene names from gene scores and rna matrix!, 0.182 mins elapsed.\n",
      "\n",
      "2022-12-23 03:57:32 : Creating Integration Blocks, 0.182 mins elapsed.\n",
      "\n",
      "2022-12-23 03:57:32 : Prepping Interation Data, 0.191 mins elapsed.\n",
      "\n",
      "Filtering 1 dims correlated > 0.75 to log10(depth + 1)\n",
      "\n",
      "2022-12-23 03:57:33 : Computing Integration in 3 Integration Blocks!, 0 mins elapsed.\n",
      "\n",
      "2022-12-23 04:05:53 : Block (1 of 3) : Plotting Joint UMAP, 8.33 mins elapsed.\n",
      "\n",
      "2022-12-23 04:06:27 : Block (2 of 3) : Plotting Joint UMAP, 8.9 mins elapsed.\n",
      "\n",
      "2022-12-23 04:07:00 : Block (3 of 3) : Plotting Joint UMAP, 9.45 mins elapsed.\n",
      "\n",
      "2022-12-23 04:07:33 : Completed Integration with RNA Matrix, 9.999 mins elapsed.\n",
      "\n",
      "ArchR logging successful to : ArchRLogs/ArchR-addGeneIntegrationMatrix-be4b1e611e-Date-2022-12-23_Time-03-57-21.log\n",
      "\n"
     ]
    }
   ],
   "source": [
    "projAging4 <- addGeneIntegrationMatrix(\n",
    "    ArchRProj = projAging3, \n",
    "    useMatrix = \"GeneScoreMatrix\",\n",
    "    matrixName = \"Harmony_4iter_GeneIntegrationMatrix\",\n",
    "    reducedDims = \"Harmony_4iter\",\n",
    "    seRNA = scRNA,\n",
    "    addToArrow = FALSE,\n",
    "    groupRNA = \"celltype\",\n",
    "    nameCell = \"Harmony_4iter_predictedCell_Un\",\n",
    "    nameGroup = \"Harmony_4iter_predictedGroup_Un\",\n",
    "    nameScore = \"Harmony_4iter_predictedScore_Un\"\n",
    ")"
   ]
  },
  {
   "cell_type": "markdown",
   "metadata": {
    "tags": []
   },
   "source": [
    "## First, we will identify which cell types from the scRNA-seq data are most abundant in each of our scATAC-seq clusters."
   ]
  },
  {
   "cell_type": "code",
   "execution_count": 12,
   "metadata": {},
   "outputs": [
    {
     "data": {
      "text/html": [
       "<table class=\"dataframe\">\n",
       "<caption>A matrix: 11 × 2 of type chr</caption>\n",
       "<thead>\n",
       "\t<tr><th scope=col>preClust</th><th scope=col></th></tr>\n",
       "</thead>\n",
       "<tbody>\n",
       "\t<tr><td>NK Cell      </td><td>C6  </td></tr>\n",
       "\t<tr><td>Endothelial  </td><td>C3  </td></tr>\n",
       "\t<tr><td>Macrophage   </td><td>C8.1</td></tr>\n",
       "\t<tr><td>T Cell       </td><td>C7  </td></tr>\n",
       "\t<tr><td>B Cell       </td><td>C9  </td></tr>\n",
       "\t<tr><td>MSC          </td><td>C1.1</td></tr>\n",
       "\t<tr><td>T Cell       </td><td>C8.2</td></tr>\n",
       "\t<tr><td>MuSC         </td><td>C4  </td></tr>\n",
       "\t<tr><td>Smooth Muscle</td><td>C2  </td></tr>\n",
       "\t<tr><td>Tenocyte     </td><td>C1.2</td></tr>\n",
       "\t<tr><td>Schwann Cell </td><td>C5  </td></tr>\n",
       "</tbody>\n",
       "</table>\n"
      ],
      "text/latex": [
       "A matrix: 11 × 2 of type chr\n",
       "\\begin{tabular}{ll}\n",
       " preClust & \\\\\n",
       "\\hline\n",
       "\t NK Cell       & C6  \\\\\n",
       "\t Endothelial   & C3  \\\\\n",
       "\t Macrophage    & C8.1\\\\\n",
       "\t T Cell        & C7  \\\\\n",
       "\t B Cell        & C9  \\\\\n",
       "\t MSC           & C1.1\\\\\n",
       "\t T Cell        & C8.2\\\\\n",
       "\t MuSC          & C4  \\\\\n",
       "\t Smooth Muscle & C2  \\\\\n",
       "\t Tenocyte      & C1.2\\\\\n",
       "\t Schwann Cell  & C5  \\\\\n",
       "\\end{tabular}\n"
      ],
      "text/markdown": [
       "\n",
       "A matrix: 11 × 2 of type chr\n",
       "\n",
       "| preClust | <!----> |\n",
       "|---|---|\n",
       "| NK Cell       | C6   |\n",
       "| Endothelial   | C3   |\n",
       "| Macrophage    | C8.1 |\n",
       "| T Cell        | C7   |\n",
       "| B Cell        | C9   |\n",
       "| MSC           | C1.1 |\n",
       "| T Cell        | C8.2 |\n",
       "| MuSC          | C4   |\n",
       "| Smooth Muscle | C2   |\n",
       "| Tenocyte      | C1.2 |\n",
       "| Schwann Cell  | C5   |\n",
       "\n"
      ],
      "text/plain": [
       "      preClust          \n",
       " [1,] NK Cell       C6  \n",
       " [2,] Endothelial   C3  \n",
       " [3,] Macrophage    C8.1\n",
       " [4,] T Cell        C7  \n",
       " [5,] B Cell        C9  \n",
       " [6,] MSC           C1.1\n",
       " [7,] T Cell        C8.2\n",
       " [8,] MuSC          C4  \n",
       " [9,] Smooth Muscle C2  \n",
       "[10,] Tenocyte      C1.2\n",
       "[11,] Schwann Cell  C5  "
      ]
     },
     "metadata": {},
     "output_type": "display_data"
    }
   ],
   "source": [
    "cM <- as.matrix(confusionMatrix(projAging4$New_Harmony_4iter_Clusters_res0.2, projAging4$Harmony_4iter_predictedGroup_Un))\n",
    "preClust <- colnames(cM)[apply(cM, 1 , which.max)]\n",
    "preClust_assignments = cbind(preClust, rownames(cM)) #Assignments\n",
    "\n",
    "preClust_assignments\n",
    "#unique(unique(projAging4$predictedGroup_Un))"
   ]
  },
  {
   "cell_type": "markdown",
   "metadata": {},
   "source": [
    "# Constrained integration"
   ]
  },
  {
   "cell_type": "markdown",
   "metadata": {},
   "source": [
    "## Assign clusters to cell types"
   ]
  },
  {
   "cell_type": "code",
   "execution_count": 67,
   "metadata": {},
   "outputs": [],
   "source": [
    "defined_celltype_clusters <- data.frame(celltype = c(\"MuSC\", \"Endothelial\", \"Smooth Muscle\", \"Schwann Cell\", \"Macrophage\"),\n",
    "                                        cluster = c(\"C4\", \"C3\", \"C2\", \"C5\", \"C8.1|C8.2\"))\n",
    "defined_celltype_clusters$pattern <- sapply(defined_celltype_clusters$cluster, function(x) {\n",
    "    x <- paste0(\"\\\\b\",x,\"\\\\b\")\n",
    "    x <- gsub('|',\"\\\\b|\\\\b\",x,fixed=TRUE)\n",
    "    })"
   ]
  },
  {
   "cell_type": "code",
   "execution_count": 68,
   "metadata": {},
   "outputs": [
    {
     "data": {
      "text/html": [
       "<table class=\"dataframe\">\n",
       "<caption>A data.frame: 5 × 3</caption>\n",
       "<thead>\n",
       "\t<tr><th scope=col>celltype</th><th scope=col>cluster</th><th scope=col>pattern</th></tr>\n",
       "\t<tr><th scope=col>&lt;chr&gt;</th><th scope=col>&lt;chr&gt;</th><th scope=col>&lt;chr&gt;</th></tr>\n",
       "</thead>\n",
       "<tbody>\n",
       "\t<tr><td>MuSC         </td><td>C4       </td><td>\\bC4\\b             </td></tr>\n",
       "\t<tr><td>Endothelial  </td><td>C3       </td><td>\\bC3\\b             </td></tr>\n",
       "\t<tr><td>Smooth Muscle</td><td>C2       </td><td>\\bC2\\b             </td></tr>\n",
       "\t<tr><td>Schwann Cell </td><td>C5       </td><td>\\bC5\\b             </td></tr>\n",
       "\t<tr><td>Macrophage   </td><td>C8.1|C8.2</td><td>\\bC8.1\\b|\\bC8.2\\b</td></tr>\n",
       "</tbody>\n",
       "</table>\n"
      ],
      "text/latex": [
       "A data.frame: 5 × 3\n",
       "\\begin{tabular}{lll}\n",
       " celltype & cluster & pattern\\\\\n",
       " <chr> & <chr> & <chr>\\\\\n",
       "\\hline\n",
       "\t MuSC          & C4        & \\textbackslash{}bC4\\textbackslash{}b             \\\\\n",
       "\t Endothelial   & C3        & \\textbackslash{}bC3\\textbackslash{}b             \\\\\n",
       "\t Smooth Muscle & C2        & \\textbackslash{}bC2\\textbackslash{}b             \\\\\n",
       "\t Schwann Cell  & C5        & \\textbackslash{}bC5\\textbackslash{}b             \\\\\n",
       "\t Macrophage    & C8.1\\textbar{}C8.2 & \\textbackslash{}bC8.1\\textbackslash{}b\\textbar{}\\textbackslash{}bC8.2\\textbackslash{}b\\\\\n",
       "\\end{tabular}\n"
      ],
      "text/markdown": [
       "\n",
       "A data.frame: 5 × 3\n",
       "\n",
       "| celltype &lt;chr&gt; | cluster &lt;chr&gt; | pattern &lt;chr&gt; |\n",
       "|---|---|---|\n",
       "| MuSC          | C4        | \\bC4\\b              |\n",
       "| Endothelial   | C3        | \\bC3\\b              |\n",
       "| Smooth Muscle | C2        | \\bC2\\b              |\n",
       "| Schwann Cell  | C5        | \\bC5\\b              |\n",
       "| Macrophage    | C8.1|C8.2 | \\bC8.1\\b|\\bC8.2\\b |\n",
       "\n"
      ],
      "text/plain": [
       "  celltype      cluster   pattern              \n",
       "1 MuSC          C4        \\\\bC4\\\\b             \n",
       "2 Endothelial   C3        \\\\bC3\\\\b             \n",
       "3 Smooth Muscle C2        \\\\bC2\\\\b             \n",
       "4 Schwann Cell  C5        \\\\bC5\\\\b             \n",
       "5 Macrophage    C8.1|C8.2 \\\\bC8.1\\\\b|\\\\bC8.2\\\\b"
      ]
     },
     "metadata": {},
     "output_type": "display_data"
    }
   ],
   "source": [
    "defined_celltype_clusters"
   ]
  },
  {
   "cell_type": "code",
   "execution_count": 69,
   "metadata": {},
   "outputs": [
    {
     "data": {
      "text/html": [
       "'\\\\bC4\\\\b|\\\\bC3\\\\b|\\\\bC2\\\\b|\\\\bC5\\\\b|\\\\bC8.1\\\\b|\\\\bC8.2\\\\b'"
      ],
      "text/latex": [
       "'\\textbackslash{}\\textbackslash{}bC4\\textbackslash{}\\textbackslash{}b\\textbar{}\\textbackslash{}\\textbackslash{}bC3\\textbackslash{}\\textbackslash{}b\\textbar{}\\textbackslash{}\\textbackslash{}bC2\\textbackslash{}\\textbackslash{}b\\textbar{}\\textbackslash{}\\textbackslash{}bC5\\textbackslash{}\\textbackslash{}b\\textbar{}\\textbackslash{}\\textbackslash{}bC8.1\\textbackslash{}\\textbackslash{}b\\textbar{}\\textbackslash{}\\textbackslash{}bC8.2\\textbackslash{}\\textbackslash{}b'"
      ],
      "text/markdown": [
       "'\\\\bC4\\\\b|\\\\bC3\\\\b|\\\\bC2\\\\b|\\\\bC5\\\\b|\\\\bC8.1\\\\b|\\\\bC8.2\\\\b'"
      ],
      "text/plain": [
       "[1] \"\\\\bC4\\\\b|\\\\bC3\\\\b|\\\\bC2\\\\b|\\\\bC5\\\\b|\\\\bC8.1\\\\b|\\\\bC8.2\\\\b\""
      ]
     },
     "metadata": {},
     "output_type": "display_data"
    }
   ],
   "source": [
    "defined_clusters <- paste(sapply(unlist(strsplit(paste(defined_celltype_clusters$cluster, collapse=\"|\"), split='|', fixed=T)), function(x) paste0('\\\\b', x, '\\\\b')), collapse='|')\n",
    "defined_clusters"
   ]
  },
  {
   "cell_type": "markdown",
   "metadata": {},
   "source": [
    "## Make lists of cellnames "
   ]
  },
  {
   "cell_type": "code",
   "execution_count": 70,
   "metadata": {},
   "outputs": [],
   "source": [
    "atac_cellnames <- lapply(defined_celltype_clusters$pattern, function(i) projAging4$cellNames[grepl(pattern = i, x = projAging4$New_Harmony_4iter_Clusters_res0.2)])\n",
    "names(atac_cellnames) <- defined_celltype_clusters$celltype\n",
    "\n",
    "rna_cellnames <- lapply(defined_celltype_clusters$celltype, function(i) Cells(scRNA)[scRNA$celltype %in% i])\n",
    "names(rna_cellnames) <- defined_celltype_clusters$celltype\n",
    "                         \n",
    "atac_non_cellnames <- projAging4$cellNames[!grepl(defined_clusters, projAging4$New_Harmony_4iter_Clusters_res0.2)]\n",
    "rna_non_cellnames <- Cells(scRNA)[!scRNA$celltype %in% unique(defined_celltype_clusters$celltype)]"
   ]
  },
  {
   "cell_type": "code",
   "execution_count": 71,
   "metadata": {},
   "outputs": [
    {
     "name": "stdout",
     "output_type": "stream",
     "text": [
      "List of 5\n",
      " $ MuSC         : chr [1:997] \"Aged_v2#CTAATCCGTTAAGGTT-1\" \"Aged_v2#GTGCTTCTCTTGCTAT-1\" \"Aged_v2#GTGATCAGTGTAACCA-1\" \"Aged_v2#TCCGGTTTCTTTGAGA-1\" ...\n",
      " $ Endothelial  : chr [1:4301] \"Aged_v2#ATGTTTGAGCGATACT-1\" \"Aged_v2#GAGCGATAGGATAAAC-1\" \"Aged_v2#TGATCAATCCTCACTA-1\" \"Aged_v2#TAATGCATCCCGCCTA-1\" ...\n",
      " $ Smooth Muscle: chr [1:2310] \"Aged_v2#GGCTATGTCATGCTTT-1\" \"Aged_v2#GACGCAACACAAACTT-1\" \"Aged_v2#CCAACATAGGTAACGA-1\" \"Aged_v2#GTACTTCGTATTGCAG-1\" ...\n",
      " $ Schwann Cell : chr [1:3823] \"Aged_v2#TTGGCTGAGTTGTCTT-1\" \"Aged_v2#CGTAATGGTGATCAGC-1\" \"Aged_v2#CCGGTAGGTGGATTGC-1\" \"Aged_v2#AGCGGATAGCTTCCCG-1\" ...\n",
      " $ Macrophage   : chr [1:1658] \"Aged_v2#TCTTAGTTCTCCATGC-1\" \"Aged_v2#CTAACCCTCAAGCGCC-1\" \"Aged_v2#AGATGCTTCTAGCGTG-1\" \"Aged_v2#CGGATTAGTTTGAGGC-1\" ...\n"
     ]
    }
   ],
   "source": [
    "str(atac_cellnames)"
   ]
  },
  {
   "cell_type": "code",
   "execution_count": 72,
   "metadata": {},
   "outputs": [],
   "source": [
    "groupList <- SimpleList(\n",
    "    MuSC = SimpleList(\n",
    "        ATAC = atac_cellnames[['MuSC']],\n",
    "        RNA = rna_cellnames[['MuSC']]\n",
    "    ),\n",
    "    Endothelial = SimpleList(\n",
    "        ATAC = atac_cellnames[['Endothelial']],\n",
    "        RNA = rna_cellnames[['Endothelial']]\n",
    "    ),\n",
    "    SmoothMuscle = SimpleList(\n",
    "        ATAC = atac_cellnames[['Smooth Muscle']],\n",
    "        RNA = rna_cellnames[['Smooth Muscle']]\n",
    "    ),\n",
    "    Macrophage = SimpleList(\n",
    "        ATAC = atac_cellnames[['Macrophage']],\n",
    "        RNA = rna_cellnames[['Macrophage']]\n",
    "    ),\n",
    "    Schwann = SimpleList(\n",
    "        ATAC = atac_cellnames[['Schwann Cell']],\n",
    "        RNA = rna_cellnames[['Schwann Cell']]\n",
    "    ),\n",
    "    NonTarget = SimpleList(\n",
    "        ATAC = atac_non_cellnames,\n",
    "        RNA = rna_non_cellnames\n",
    "    )\n",
    ")"
   ]
  },
  {
   "cell_type": "markdown",
   "metadata": {},
   "source": [
    "## Constrained integration"
   ]
  },
  {
   "cell_type": "code",
   "execution_count": 73,
   "metadata": {
    "scrolled": true
   },
   "outputs": [
    {
     "name": "stderr",
     "output_type": "stream",
     "text": [
      "ArchR logging to : ArchRLogs/ArchR-addGeneIntegrationMatrix-be4b68bbd581-Date-2022-12-23_Time-05-43-43.log\n",
      "If there is an issue, please report to github with logFile!\n",
      "\n",
      "2022-12-23 05:43:43 : Running Seurat's Integration Stuart* et al 2019, 0.005 mins elapsed.\n",
      "\n",
      "2022-12-23 05:43:44 : Checking ATAC Input, 0.009 mins elapsed.\n",
      "\n",
      "2022-12-23 05:43:46 : Checking RNA Input, 0.055 mins elapsed.\n",
      "\n",
      "2022-12-23 05:43:51 : Found 22699 overlapping gene names from gene scores and rna matrix!, 0.135 mins elapsed.\n",
      "\n",
      "2022-12-23 05:43:51 : Creating Integration Blocks, 0.135 mins elapsed.\n",
      "\n",
      "2022-12-23 05:43:51 : Prepping Interation Data, 0.138 mins elapsed.\n",
      "\n",
      "Filtering 1 dims correlated > 0.75 to log10(depth + 1)\n",
      "\n",
      "2022-12-23 05:43:52 : Computing Integration in 6 Integration Blocks!, 0 mins elapsed.\n",
      "\n",
      "2022-12-23 05:52:42 : Block (1 of 6) : Plotting Joint UMAP, 8.825 mins elapsed.\n",
      "\n",
      "2022-12-23 05:53:07 : Block (2 of 6) : Plotting Joint UMAP, 9.241 mins elapsed.\n",
      "\n",
      "2022-12-23 05:53:27 : Block (3 of 6) : Plotting Joint UMAP, 9.579 mins elapsed.\n",
      "\n",
      "2022-12-23 05:53:38 : Block (4 of 6) : Plotting Joint UMAP, 9.769 mins elapsed.\n",
      "\n",
      "2022-12-23 05:53:49 : Block (5 of 6) : Plotting Joint UMAP, 9.946 mins elapsed.\n",
      "\n",
      "2022-12-23 05:54:05 : Block (6 of 6) : Plotting Joint UMAP, 10.218 mins elapsed.\n",
      "\n",
      "2022-12-23 05:54:39 : Completed Integration with RNA Matrix, 10.777 mins elapsed.\n",
      "\n",
      "Overriding previous entry for Harmony_4iter_predictedCell_Co\n",
      "\n",
      "Overriding previous entry for Harmony_4iter_predictedGroup_Co\n",
      "\n",
      "Overriding previous entry for Harmony_4iter_predictedScore_Co\n",
      "\n",
      "ArchR logging successful to : ArchRLogs/ArchR-addGeneIntegrationMatrix-be4b68bbd581-Date-2022-12-23_Time-05-43-43.log\n",
      "\n"
     ]
    }
   ],
   "source": [
    "projAging4 <- addGeneIntegrationMatrix(\n",
    "    ArchRProj = projAging4, \n",
    "    useMatrix = \"GeneScoreMatrix\",\n",
    "    matrixName = \"Harmony_4iter_GeneIntegrationMatrix\",\n",
    "    reducedDims = \"Harmony_4iter\",\n",
    "    seRNA = scRNA,\n",
    "    addToArrow = FALSE, \n",
    "    groupList = groupList,\n",
    "    groupRNA = \"celltype\",\n",
    "    nameCell = \"Harmony_4iter_predictedCell_Co\",\n",
    "    nameGroup = \"Harmony_4iter_predictedGroup_Co\",\n",
    "    nameScore = \"Harmony_4iter_predictedScore_Co\"\n",
    ")\n"
   ]
  },
  {
   "cell_type": "code",
   "execution_count": 74,
   "metadata": {
    "scrolled": true
   },
   "outputs": [
    {
     "name": "stderr",
     "output_type": "stream",
     "text": [
      "ArchR logging to : ArchRLogs/ArchR-plotEmbedding-be4b410921b3-Date-2022-12-23_Time-05-54-39.log\n",
      "If there is an issue, please report to github with logFile!\n",
      "\n",
      "Getting UMAP Embedding\n",
      "\n",
      "ColorBy = cellColData\n",
      "\n",
      "Plotting Embedding\n",
      "\n",
      "1 \n",
      "\n",
      "\n",
      "ArchR logging successful to : ArchRLogs/ArchR-plotEmbedding-be4b410921b3-Date-2022-12-23_Time-05-54-39.log\n",
      "\n",
      "ArchR logging to : ArchRLogs/ArchR-plotEmbedding-be4b254136e3-Date-2022-12-23_Time-05-54-43.log\n",
      "If there is an issue, please report to github with logFile!\n",
      "\n",
      "Getting UMAP Embedding\n",
      "\n",
      "ColorBy = cellColData\n",
      "\n",
      "Plotting Embedding\n",
      "\n",
      "1 \n",
      "\n",
      "\n",
      "ArchR logging successful to : ArchRLogs/ArchR-plotEmbedding-be4b254136e3-Date-2022-12-23_Time-05-54-43.log\n",
      "\n",
      "ArchR logging to : ArchRLogs/ArchR-plotEmbedding-be4b1f3bc06d-Date-2022-12-23_Time-05-54-44.log\n",
      "If there is an issue, please report to github with logFile!\n",
      "\n",
      "Getting UMAP Embedding\n",
      "\n",
      "ColorBy = cellColData\n",
      "\n",
      "Plotting Embedding\n",
      "\n",
      "1 \n",
      "\n",
      "\n",
      "ArchR logging successful to : ArchRLogs/ArchR-plotEmbedding-be4b1f3bc06d-Date-2022-12-23_Time-05-54-44.log\n",
      "\n",
      "Plotting Ggplot!\n",
      "\n",
      "Plotting Ggplot!\n",
      "\n",
      "Plotting Ggplot!\n",
      "\n"
     ]
    }
   ],
   "source": [
    "plt_list <- lapply(c('New_Harmony_4iter_Clusters_res0.2','Harmony_4iter_predictedGroup_Un', 'Harmony_4iter_predictedGroup_Co'), \n",
    "                   function(x) plotEmbedding(projAging4, embedding=\"UMAP_Harmony_4iter\", colorBy=\"cellColData\", name=x))\n",
    "plotPDF(plotList = plt_list, \n",
    "        name = \"Plot-UMAP-RNA-Integration.pdf\", \n",
    "        ArchRProj = projAging4, \n",
    "        addDOC = FALSE, width = 4, height = 4)"
   ]
  },
  {
   "cell_type": "markdown",
   "metadata": {},
   "source": [
    "## Store integration matrix in object"
   ]
  },
  {
   "cell_type": "code",
   "execution_count": 75,
   "metadata": {
    "scrolled": true,
    "tags": []
   },
   "outputs": [
    {
     "name": "stderr",
     "output_type": "stream",
     "text": [
      "ArchR logging to : ArchRLogs/ArchR-addGeneIntegrationMatrix-be4b4f513225-Date-2022-12-23_Time-05-56-30.log\n",
      "If there is an issue, please report to github with logFile!\n",
      "\n",
      "2022-12-23 05:56:30 : Running Seurat's Integration Stuart* et al 2019, 0.004 mins elapsed.\n",
      "\n",
      "2022-12-23 05:56:30 : Checking ATAC Input, 0.007 mins elapsed.\n",
      "\n",
      "2022-12-23 05:56:33 : Checking RNA Input, 0.056 mins elapsed.\n",
      "\n",
      "2022-12-23 05:56:38 : Found 22699 overlapping gene names from gene scores and rna matrix!, 0.134 mins elapsed.\n",
      "\n",
      "2022-12-23 05:56:38 : Creating Integration Blocks, 0.134 mins elapsed.\n",
      "\n",
      "2022-12-23 05:56:38 : Prepping Interation Data, 0.136 mins elapsed.\n",
      "\n",
      "Filtering 1 dims correlated > 0.75 to log10(depth + 1)\n",
      "\n",
      "2022-12-23 05:56:39 : Computing Integration in 6 Integration Blocks!, 0 mins elapsed.\n",
      "\n",
      "2022-12-23 06:06:35 : Block (1 of 6) : Plotting Joint UMAP, 9.944 mins elapsed.\n",
      "\n",
      "2022-12-23 06:07:00 : Block (2 of 6) : Plotting Joint UMAP, 10.361 mins elapsed.\n",
      "\n",
      "2022-12-23 06:07:21 : Block (3 of 6) : Plotting Joint UMAP, 10.702 mins elapsed.\n",
      "\n",
      "2022-12-23 06:07:32 : Block (4 of 6) : Plotting Joint UMAP, 10.892 mins elapsed.\n",
      "\n",
      "2022-12-23 06:07:43 : Block (5 of 6) : Plotting Joint UMAP, 11.072 mins elapsed.\n",
      "\n",
      "2022-12-23 06:07:59 : Block (6 of 6) : Plotting Joint UMAP, 11.343 mins elapsed.\n",
      "\n",
      "2022-12-23 06:08:33 : Transferring Data to ArrowFiles, 11.903 mins elapsed.\n",
      "\n",
      "2022-12-23 06:10:37 : Completed Integration with RNA Matrix, 13.967 mins elapsed.\n",
      "\n",
      "Overriding previous entry for Harmony_4iter_predictedCell_Co\n",
      "\n",
      "Overriding previous entry for Harmony_4iter_predictedGroup_Co\n",
      "\n",
      "Overriding previous entry for Harmony_4iter_predictedScore_Co\n",
      "\n",
      "ArchR logging successful to : ArchRLogs/ArchR-addGeneIntegrationMatrix-be4b4f513225-Date-2022-12-23_Time-05-56-30.log\n",
      "\n"
     ]
    }
   ],
   "source": [
    "projAging4 <- addGeneIntegrationMatrix(\n",
    "    ArchRProj = projAging4, \n",
    "    useMatrix = \"GeneScoreMatrix\",\n",
    "    matrixName = \"Harmony_4iter_GeneIntegrationMatrix\",\n",
    "    reducedDims = \"Harmony_4iter\",\n",
    "    seRNA = scRNA,\n",
    "    addToArrow = TRUE, \n",
    "    groupList = groupList,\n",
    "    groupRNA = \"celltype\",\n",
    "    nameCell = \"Harmony_4iter_predictedCell_Co\",\n",
    "    nameGroup = \"Harmony_4iter_predictedGroup_Co\",\n",
    "    nameScore = \"Harmony_4iter_predictedScore_Co\",\n",
    "    force = TRUE\n",
    ")\n"
   ]
  },
  {
   "cell_type": "code",
   "execution_count": 110,
   "metadata": {},
   "outputs": [
    {
     "data": {
      "text/plain": [
       "\n",
       "         B Cell     Endothelial      Macrophage             MSC            MuSC \n",
       "           2591            4301            1658            4713             997 \n",
       "        NK Cell    Schwann Cell Skeletal Muscle   Smooth Muscle          T Cell \n",
       "           1940            3823             472            2310            1192 \n",
       "       Tenocyte \n",
       "            933 "
      ]
     },
     "metadata": {},
     "output_type": "display_data"
    }
   ],
   "source": [
    "table(projAging4$Harmony_4iter_predictedGroup_Co)"
   ]
  },
  {
   "cell_type": "markdown",
   "metadata": {},
   "source": [
    "## Merge skeletal muscle cells with the MSC cluster"
   ]
  },
  {
   "cell_type": "code",
   "execution_count": 122,
   "metadata": {},
   "outputs": [],
   "source": [
    "projAging4$celltype <- projAging4$Harmony_4iter_predictedGroup_Co\n",
    "projAging4$celltype[projAging4$celltype=='Skeletal Muscle'] <- 'MSC'"
   ]
  },
  {
   "cell_type": "code",
   "execution_count": 124,
   "metadata": {},
   "outputs": [
    {
     "data": {
      "text/plain": [
       "                 \n",
       "                  B Cell Endothelial Macrophage  MSC MuSC NK Cell Schwann Cell\n",
       "  B Cell            2591           0          0    0    0       0            0\n",
       "  Endothelial          0        4301          0    0    0       0            0\n",
       "  Macrophage           0           0       1658    0    0       0            0\n",
       "  MSC                  0           0          0 4713    0       0            0\n",
       "  MuSC                 0           0          0    0  997       0            0\n",
       "  NK Cell              0           0          0    0    0    1940            0\n",
       "  Schwann Cell         0           0          0    0    0       0         3823\n",
       "  Skeletal Muscle      0           0          0  472    0       0            0\n",
       "  Smooth Muscle        0           0          0    0    0       0            0\n",
       "  T Cell               0           0          0    0    0       0            0\n",
       "  Tenocyte             0           0          0    0    0       0            0\n",
       "                 \n",
       "                  Smooth Muscle T Cell Tenocyte\n",
       "  B Cell                      0      0        0\n",
       "  Endothelial                 0      0        0\n",
       "  Macrophage                  0      0        0\n",
       "  MSC                         0      0        0\n",
       "  MuSC                        0      0        0\n",
       "  NK Cell                     0      0        0\n",
       "  Schwann Cell                0      0        0\n",
       "  Skeletal Muscle             0      0        0\n",
       "  Smooth Muscle            2310      0        0\n",
       "  T Cell                      0   1192        0\n",
       "  Tenocyte                    0      0      933"
      ]
     },
     "metadata": {},
     "output_type": "display_data"
    }
   ],
   "source": [
    "table(projAging4$Harmony_4iter_predictedGroup_Co, projAging4$celltype)"
   ]
  },
  {
   "cell_type": "markdown",
   "metadata": {},
   "source": [
    "# Make bubble plots for gene activity and gene expression"
   ]
  },
  {
   "cell_type": "markdown",
   "metadata": {},
   "source": [
    "## Calculate marker genes for cell types "
   ]
  },
  {
   "cell_type": "code",
   "execution_count": 125,
   "metadata": {
    "scrolled": true,
    "tags": []
   },
   "outputs": [
    {
     "name": "stderr",
     "output_type": "stream",
     "text": [
      "ArchR logging to : ArchRLogs/ArchR-getMarkerFeatures-be4b4eadbdbf-Date-2022-12-23_Time-06-56-26.log\n",
      "If there is an issue, please report to github with logFile!\n",
      "\n",
      "MatrixClass = Sparse.Double.Matrix\n",
      "\n",
      "2022-12-23 06:56:27 : Matching Known Biases, 0.003 mins elapsed.\n",
      "\n",
      "###########\n",
      "2022-12-23 07:00:23 : Completed Pairwise Tests, 3.943 mins elapsed.\n",
      "###########\n",
      "\n",
      "ArchR logging successful to : ArchRLogs/ArchR-getMarkerFeatures-be4b4eadbdbf-Date-2022-12-23_Time-06-56-26.log\n",
      "\n"
     ]
    }
   ],
   "source": [
    "markersGS <- getMarkerFeatures(\n",
    "    ArchRProj = projAging4, \n",
    "    useMatrix = \"GeneScoreMatrix\", \n",
    "    groupBy = \"celltype\",\n",
    "    bias = c(\"TSSEnrichment\", \"log10(nFrags)\"),\n",
    "    testMethod = \"wilcoxon\"\n",
    ")"
   ]
  },
  {
   "cell_type": "code",
   "execution_count": 126,
   "metadata": {},
   "outputs": [],
   "source": [
    "markerList <- getMarkers(markersGS, cutOff = \"FDR <= 0.01 & Log2FC >= 1.25\")\n",
    "markerListDF <- do.call(rbind, lapply(1:length(markerList), function(x) cbind(markerList[[x]], cluster = names(markerList[x]))))"
   ]
  },
  {
   "cell_type": "code",
   "execution_count": 127,
   "metadata": {
    "scrolled": true,
    "tags": []
   },
   "outputs": [
    {
     "data": {
      "text/html": [
       "<table class=\"dataframe\">\n",
       "<caption>A grouped_df: 50 × 10</caption>\n",
       "<thead>\n",
       "\t<tr><th scope=col>seqnames</th><th scope=col>start</th><th scope=col>end</th><th scope=col>strand</th><th scope=col>name</th><th scope=col>idx</th><th scope=col>Log2FC</th><th scope=col>FDR</th><th scope=col>MeanDiff</th><th scope=col>cluster</th></tr>\n",
       "\t<tr><th scope=col>&lt;chr&gt;</th><th scope=col>&lt;int&gt;</th><th scope=col>&lt;int&gt;</th><th scope=col>&lt;int&gt;</th><th scope=col>&lt;chr&gt;</th><th scope=col>&lt;int&gt;</th><th scope=col>&lt;dbl&gt;</th><th scope=col>&lt;dbl&gt;</th><th scope=col>&lt;dbl&gt;</th><th scope=col>&lt;chr&gt;</th></tr>\n",
       "</thead>\n",
       "<tbody>\n",
       "\t<tr><td>chr17</td><td> 34226175</td><td> 34588543</td><td>1</td><td>Notch4       </td><td> 555</td><td>1.974549</td><td>4.966332e-86</td><td>5.0396836</td><td>B Cell       </td></tr>\n",
       "\t<tr><td>chr17</td><td> 34264832</td><td> 34316674</td><td>1</td><td>H2-Eb1       </td><td> 558</td><td>2.897136</td><td>5.328063e-83</td><td>3.4893409</td><td>B Cell       </td></tr>\n",
       "\t<tr><td>chr17</td><td> 34287771</td><td> 34282751</td><td>2</td><td>H2-Aa        </td><td> 559</td><td>3.095674</td><td>6.739712e-83</td><td>3.5931374</td><td>B Cell       </td></tr>\n",
       "\t<tr><td>chr15</td><td> 82224339</td><td> 82221744</td><td>2</td><td>Tnfrsf13c    </td><td> 540</td><td>3.476168</td><td>3.309043e-81</td><td>3.1038296</td><td>B Cell       </td></tr>\n",
       "\t<tr><td>chr17</td><td> 34325675</td><td> 34341410</td><td>1</td><td>H2-Eb2       </td><td> 560</td><td>3.037537</td><td>1.249548e-80</td><td>1.4715724</td><td>B Cell       </td></tr>\n",
       "\t<tr><td>chr5 </td><td>147725988</td><td>147562196</td><td>2</td><td>Flt1         </td><td>1346</td><td>2.989802</td><td>9.621960e-83</td><td>2.2116868</td><td>Endothelial  </td></tr>\n",
       "\t<tr><td>chr2 </td><td>181671640</td><td>181669837</td><td>2</td><td>Sox18        </td><td>2037</td><td>3.980174</td><td>7.198085e-67</td><td>3.1804990</td><td>Endothelial  </td></tr>\n",
       "\t<tr><td>chr2 </td><td>119325784</td><td>119335666</td><td>1</td><td>Dll4         </td><td>1237</td><td>2.759772</td><td>5.232161e-65</td><td>2.0710101</td><td>Endothelial  </td></tr>\n",
       "\t<tr><td>chr6 </td><td> 31563937</td><td> 31519493</td><td>2</td><td>Podxl        </td><td> 163</td><td>2.821905</td><td>5.540409e-61</td><td>1.2401797</td><td>Endothelial  </td></tr>\n",
       "\t<tr><td>chr2 </td><td> 32652329</td><td> 32652414</td><td>1</td><td>Mir1954      </td><td> 402</td><td>3.471702</td><td>3.695638e-56</td><td>3.0832853</td><td>Endothelial  </td></tr>\n",
       "\t<tr><td>chr11</td><td>114890041</td><td>114904651</td><td>1</td><td>Cd300a       </td><td>1624</td><td>3.201016</td><td>1.944146e-86</td><td>1.7244599</td><td>Macrophage   </td></tr>\n",
       "\t<tr><td>chr4 </td><td>132564067</td><td>132582683</td><td>1</td><td>Ptafr        </td><td>1021</td><td>2.676326</td><td>1.998405e-76</td><td>1.1590307</td><td>Macrophage   </td></tr>\n",
       "\t<tr><td>chr11</td><td> 83582061</td><td> 83623693</td><td>1</td><td>E230016K23Rik</td><td>1037</td><td>3.608960</td><td>3.339022e-75</td><td>0.8046393</td><td>Macrophage   </td></tr>\n",
       "\t<tr><td>chr11</td><td> 83649378</td><td> 83647843</td><td>2</td><td>Ccl3         </td><td>1039</td><td>3.015589</td><td>1.374573e-71</td><td>1.4990828</td><td>Macrophage   </td></tr>\n",
       "\t<tr><td>chr17</td><td> 48232739</td><td> 48246924</td><td>1</td><td>Trem1        </td><td> 893</td><td>4.257858</td><td>2.542443e-70</td><td>0.8902218</td><td>Macrophage   </td></tr>\n",
       "\t<tr><td>chr2 </td><td>125507993</td><td>125300594</td><td>2</td><td>Fbn1         </td><td>1332</td><td>2.147480</td><td>1.797891e-49</td><td>1.1776563</td><td>MSC          </td></tr>\n",
       "\t<tr><td>chr1 </td><td>170110559</td><td>169972307</td><td>2</td><td>Ddr2         </td><td>1079</td><td>2.277916</td><td>7.268596e-48</td><td>1.0725068</td><td>MSC          </td></tr>\n",
       "\t<tr><td>chr10</td><td> 71159634</td><td> 70925086</td><td>2</td><td>Bicc1        </td><td> 418</td><td>1.986976</td><td>2.844285e-46</td><td>1.1084179</td><td>MSC          </td></tr>\n",
       "\t<tr><td>chr13</td><td> 58806569</td><td> 59133970</td><td>1</td><td>Ntrk2        </td><td> 523</td><td>2.208735</td><td>7.582047e-46</td><td>0.8803817</td><td>MSC          </td></tr>\n",
       "\t<tr><td>chr10</td><td> 76726044</td><td> 76708792</td><td>2</td><td>Col6a1       </td><td> 477</td><td>2.061084</td><td>5.215071e-45</td><td>0.9160989</td><td>MSC          </td></tr>\n",
       "\t<tr><td>chr2 </td><td>164443188</td><td>164424247</td><td>2</td><td>Sdc4         </td><td>1811</td><td>2.215291</td><td>3.720915e-43</td><td>2.0587783</td><td>MuSC         </td></tr>\n",
       "\t<tr><td>chr4 </td><td> 57434475</td><td> 57896984</td><td>1</td><td>Pakap        </td><td> 354</td><td>1.393313</td><td>1.500098e-37</td><td>2.0294531</td><td>MuSC         </td></tr>\n",
       "\t<tr><td>chr7 </td><td> 37773575</td><td> 37318643</td><td>2</td><td>Zfp536       </td><td> 751</td><td>1.984616</td><td>1.939787e-37</td><td>1.3999421</td><td>MuSC         </td></tr>\n",
       "\t<tr><td>chr6 </td><td> 29433153</td><td> 29461888</td><td>1</td><td>Flnc         </td><td> 124</td><td>2.522104</td><td>1.715762e-35</td><td>1.8910730</td><td>MuSC         </td></tr>\n",
       "\t<tr><td>chr7 </td><td> 46371403</td><td> 46372492</td><td>1</td><td>Gm45923      </td><td> 965</td><td>3.683385</td><td>2.825502e-33</td><td>0.7159555</td><td>MuSC         </td></tr>\n",
       "\t<tr><td>chr3 </td><td>131110297</td><td>131224357</td><td>1</td><td>Lef1         </td><td> 975</td><td>2.669212</td><td>6.341863e-82</td><td>1.6527420</td><td>NK Cell      </td></tr>\n",
       "\t<tr><td>chr12</td><td>108003414</td><td>107910403</td><td>2</td><td>Bcl11b       </td><td> 648</td><td>2.656467</td><td>2.102380e-81</td><td>2.1388806</td><td>NK Cell      </td></tr>\n",
       "\t<tr><td>chr1 </td><td>161788495</td><td>161780691</td><td>2</td><td>Fasl         </td><td>1000</td><td>1.544034</td><td>6.967193e-75</td><td>1.3765315</td><td>NK Cell      </td></tr>\n",
       "\t<tr><td>chr2 </td><td> 11172382</td><td> 11301226</td><td>1</td><td>Prkcq        </td><td>  87</td><td>2.160722</td><td>1.716388e-74</td><td>1.3429434</td><td>NK Cell      </td></tr>\n",
       "\t<tr><td>chr11</td><td> 46389515</td><td> 46325148</td><td>2</td><td>Itk          </td><td> 282</td><td>2.032270</td><td>2.335072e-71</td><td>1.6671085</td><td>NK Cell      </td></tr>\n",
       "\t<tr><td>chrX </td><td> 50635321</td><td> 50555745</td><td>2</td><td>Firre        </td><td> 299</td><td>1.577593</td><td>1.032226e-04</td><td>0.5167272</td><td>Schwann Cell </td></tr>\n",
       "\t<tr><td>chr12</td><td>104044443</td><td>104028769</td><td>2</td><td>Serpina12    </td><td> 607</td><td>2.276216</td><td>2.431619e-04</td><td>0.3026707</td><td>Schwann Cell </td></tr>\n",
       "\t<tr><td>chr18</td><td> 89176969</td><td> 89270327</td><td>1</td><td>Cd226        </td><td> 598</td><td>1.416640</td><td>9.065103e-04</td><td>0.3660302</td><td>Schwann Cell </td></tr>\n",
       "\t<tr><td>chr1 </td><td>138273738</td><td>138289462</td><td>1</td><td>Atp6v1g3     </td><td> 867</td><td>1.404402</td><td>9.885324e-04</td><td>0.3857230</td><td>Schwann Cell </td></tr>\n",
       "\t<tr><td>chr10</td><td> 14760289</td><td> 14770556</td><td>1</td><td>Nmbr         </td><td>  66</td><td>2.767874</td><td>1.060679e-03</td><td>0.2782019</td><td>Schwann Cell </td></tr>\n",
       "\t<tr><td>chr18</td><td> 61665538</td><td> 61645878</td><td>2</td><td>Carmn        </td><td> 432</td><td>2.912042</td><td>7.679799e-90</td><td>2.8264586</td><td>Smooth Muscle</td></tr>\n",
       "\t<tr><td>chr2 </td><td> 93957100</td><td> 93955810</td><td>2</td><td>Gm13889      </td><td>1044</td><td>3.086733</td><td>1.216135e-86</td><td>2.8445735</td><td>Smooth Muscle</td></tr>\n",
       "\t<tr><td>chr18</td><td> 61649258</td><td> 61649196</td><td>2</td><td>Mir143       </td><td> 434</td><td>2.917650</td><td>3.855055e-86</td><td>3.5497816</td><td>Smooth Muscle</td></tr>\n",
       "\t<tr><td>chr2 </td><td> 93869157</td><td> 93855360</td><td>2</td><td>Accsl        </td><td>1043</td><td>3.285923</td><td>2.150601e-84</td><td>1.1544763</td><td>Smooth Muscle</td></tr>\n",
       "\t<tr><td>chr7 </td><td>144738592</td><td>144588549</td><td>2</td><td>Ano1         </td><td>2160</td><td>2.785110</td><td>1.757838e-80</td><td>1.2346333</td><td>Smooth Muscle</td></tr>\n",
       "\t<tr><td>chr15</td><td>  9529876</td><td>  9506159</td><td>2</td><td>Il7r         </td><td>  41</td><td>2.142974</td><td>5.312733e-74</td><td>0.9399212</td><td>T Cell       </td></tr>\n",
       "\t<tr><td>chr11</td><td> 46389515</td><td> 46325148</td><td>2</td><td>Itk          </td><td> 282</td><td>1.967904</td><td>1.205897e-72</td><td>1.7477237</td><td>T Cell       </td></tr>\n",
       "\t<tr><td>chr9 </td><td>123806477</td><td>123811754</td><td>1</td><td>Cxcr6        </td><td>1342</td><td>2.698137</td><td>2.691221e-70</td><td>1.5165579</td><td>T Cell       </td></tr>\n",
       "\t<tr><td>chr13</td><td>117220573</td><td>117274415</td><td>1</td><td>Emb          </td><td> 914</td><td>1.965485</td><td>3.296344e-69</td><td>1.2496610</td><td>T Cell       </td></tr>\n",
       "\t<tr><td>chr9 </td><td>123851899</td><td>123789500</td><td>2</td><td>Fyco1        </td><td>1341</td><td>2.230994</td><td>3.195663e-68</td><td>1.1567216</td><td>T Cell       </td></tr>\n",
       "\t<tr><td>chr14</td><td> 24014491</td><td> 23298694</td><td>2</td><td>Kcnma1       </td><td> 113</td><td>2.084849</td><td>2.467597e-80</td><td>1.8490185</td><td>Tenocyte     </td></tr>\n",
       "\t<tr><td>chr13</td><td> 92794818</td><td> 92751586</td><td>2</td><td>Thbs4        </td><td> 742</td><td>3.409609</td><td>4.750080e-72</td><td>1.2957414</td><td>Tenocyte     </td></tr>\n",
       "\t<tr><td>chr13</td><td> 92844787</td><td> 92858230</td><td>1</td><td>Mtx3         </td><td> 743</td><td>2.600187</td><td>5.031272e-70</td><td>0.9494504</td><td>Tenocyte     </td></tr>\n",
       "\t<tr><td>chr10</td><td> 61979108</td><td> 61838234</td><td>2</td><td>Col13a1      </td><td> 359</td><td>2.390377</td><td>1.423013e-66</td><td>1.0640705</td><td>Tenocyte     </td></tr>\n",
       "\t<tr><td>chr19</td><td> 42612806</td><td> 42592279</td><td>2</td><td>Loxl4        </td><td> 614</td><td>1.869540</td><td>4.872455e-61</td><td>0.9415617</td><td>Tenocyte     </td></tr>\n",
       "</tbody>\n",
       "</table>\n"
      ],
      "text/latex": [
       "A grouped\\_df: 50 × 10\n",
       "\\begin{tabular}{llllllllll}\n",
       " seqnames & start & end & strand & name & idx & Log2FC & FDR & MeanDiff & cluster\\\\\n",
       " <chr> & <int> & <int> & <int> & <chr> & <int> & <dbl> & <dbl> & <dbl> & <chr>\\\\\n",
       "\\hline\n",
       "\t chr17 &  34226175 &  34588543 & 1 & Notch4        &  555 & 1.974549 & 4.966332e-86 & 5.0396836 & B Cell       \\\\\n",
       "\t chr17 &  34264832 &  34316674 & 1 & H2-Eb1        &  558 & 2.897136 & 5.328063e-83 & 3.4893409 & B Cell       \\\\\n",
       "\t chr17 &  34287771 &  34282751 & 2 & H2-Aa         &  559 & 3.095674 & 6.739712e-83 & 3.5931374 & B Cell       \\\\\n",
       "\t chr15 &  82224339 &  82221744 & 2 & Tnfrsf13c     &  540 & 3.476168 & 3.309043e-81 & 3.1038296 & B Cell       \\\\\n",
       "\t chr17 &  34325675 &  34341410 & 1 & H2-Eb2        &  560 & 3.037537 & 1.249548e-80 & 1.4715724 & B Cell       \\\\\n",
       "\t chr5  & 147725988 & 147562196 & 2 & Flt1          & 1346 & 2.989802 & 9.621960e-83 & 2.2116868 & Endothelial  \\\\\n",
       "\t chr2  & 181671640 & 181669837 & 2 & Sox18         & 2037 & 3.980174 & 7.198085e-67 & 3.1804990 & Endothelial  \\\\\n",
       "\t chr2  & 119325784 & 119335666 & 1 & Dll4          & 1237 & 2.759772 & 5.232161e-65 & 2.0710101 & Endothelial  \\\\\n",
       "\t chr6  &  31563937 &  31519493 & 2 & Podxl         &  163 & 2.821905 & 5.540409e-61 & 1.2401797 & Endothelial  \\\\\n",
       "\t chr2  &  32652329 &  32652414 & 1 & Mir1954       &  402 & 3.471702 & 3.695638e-56 & 3.0832853 & Endothelial  \\\\\n",
       "\t chr11 & 114890041 & 114904651 & 1 & Cd300a        & 1624 & 3.201016 & 1.944146e-86 & 1.7244599 & Macrophage   \\\\\n",
       "\t chr4  & 132564067 & 132582683 & 1 & Ptafr         & 1021 & 2.676326 & 1.998405e-76 & 1.1590307 & Macrophage   \\\\\n",
       "\t chr11 &  83582061 &  83623693 & 1 & E230016K23Rik & 1037 & 3.608960 & 3.339022e-75 & 0.8046393 & Macrophage   \\\\\n",
       "\t chr11 &  83649378 &  83647843 & 2 & Ccl3          & 1039 & 3.015589 & 1.374573e-71 & 1.4990828 & Macrophage   \\\\\n",
       "\t chr17 &  48232739 &  48246924 & 1 & Trem1         &  893 & 4.257858 & 2.542443e-70 & 0.8902218 & Macrophage   \\\\\n",
       "\t chr2  & 125507993 & 125300594 & 2 & Fbn1          & 1332 & 2.147480 & 1.797891e-49 & 1.1776563 & MSC          \\\\\n",
       "\t chr1  & 170110559 & 169972307 & 2 & Ddr2          & 1079 & 2.277916 & 7.268596e-48 & 1.0725068 & MSC          \\\\\n",
       "\t chr10 &  71159634 &  70925086 & 2 & Bicc1         &  418 & 1.986976 & 2.844285e-46 & 1.1084179 & MSC          \\\\\n",
       "\t chr13 &  58806569 &  59133970 & 1 & Ntrk2         &  523 & 2.208735 & 7.582047e-46 & 0.8803817 & MSC          \\\\\n",
       "\t chr10 &  76726044 &  76708792 & 2 & Col6a1        &  477 & 2.061084 & 5.215071e-45 & 0.9160989 & MSC          \\\\\n",
       "\t chr2  & 164443188 & 164424247 & 2 & Sdc4          & 1811 & 2.215291 & 3.720915e-43 & 2.0587783 & MuSC         \\\\\n",
       "\t chr4  &  57434475 &  57896984 & 1 & Pakap         &  354 & 1.393313 & 1.500098e-37 & 2.0294531 & MuSC         \\\\\n",
       "\t chr7  &  37773575 &  37318643 & 2 & Zfp536        &  751 & 1.984616 & 1.939787e-37 & 1.3999421 & MuSC         \\\\\n",
       "\t chr6  &  29433153 &  29461888 & 1 & Flnc          &  124 & 2.522104 & 1.715762e-35 & 1.8910730 & MuSC         \\\\\n",
       "\t chr7  &  46371403 &  46372492 & 1 & Gm45923       &  965 & 3.683385 & 2.825502e-33 & 0.7159555 & MuSC         \\\\\n",
       "\t chr3  & 131110297 & 131224357 & 1 & Lef1          &  975 & 2.669212 & 6.341863e-82 & 1.6527420 & NK Cell      \\\\\n",
       "\t chr12 & 108003414 & 107910403 & 2 & Bcl11b        &  648 & 2.656467 & 2.102380e-81 & 2.1388806 & NK Cell      \\\\\n",
       "\t chr1  & 161788495 & 161780691 & 2 & Fasl          & 1000 & 1.544034 & 6.967193e-75 & 1.3765315 & NK Cell      \\\\\n",
       "\t chr2  &  11172382 &  11301226 & 1 & Prkcq         &   87 & 2.160722 & 1.716388e-74 & 1.3429434 & NK Cell      \\\\\n",
       "\t chr11 &  46389515 &  46325148 & 2 & Itk           &  282 & 2.032270 & 2.335072e-71 & 1.6671085 & NK Cell      \\\\\n",
       "\t chrX  &  50635321 &  50555745 & 2 & Firre         &  299 & 1.577593 & 1.032226e-04 & 0.5167272 & Schwann Cell \\\\\n",
       "\t chr12 & 104044443 & 104028769 & 2 & Serpina12     &  607 & 2.276216 & 2.431619e-04 & 0.3026707 & Schwann Cell \\\\\n",
       "\t chr18 &  89176969 &  89270327 & 1 & Cd226         &  598 & 1.416640 & 9.065103e-04 & 0.3660302 & Schwann Cell \\\\\n",
       "\t chr1  & 138273738 & 138289462 & 1 & Atp6v1g3      &  867 & 1.404402 & 9.885324e-04 & 0.3857230 & Schwann Cell \\\\\n",
       "\t chr10 &  14760289 &  14770556 & 1 & Nmbr          &   66 & 2.767874 & 1.060679e-03 & 0.2782019 & Schwann Cell \\\\\n",
       "\t chr18 &  61665538 &  61645878 & 2 & Carmn         &  432 & 2.912042 & 7.679799e-90 & 2.8264586 & Smooth Muscle\\\\\n",
       "\t chr2  &  93957100 &  93955810 & 2 & Gm13889       & 1044 & 3.086733 & 1.216135e-86 & 2.8445735 & Smooth Muscle\\\\\n",
       "\t chr18 &  61649258 &  61649196 & 2 & Mir143        &  434 & 2.917650 & 3.855055e-86 & 3.5497816 & Smooth Muscle\\\\\n",
       "\t chr2  &  93869157 &  93855360 & 2 & Accsl         & 1043 & 3.285923 & 2.150601e-84 & 1.1544763 & Smooth Muscle\\\\\n",
       "\t chr7  & 144738592 & 144588549 & 2 & Ano1          & 2160 & 2.785110 & 1.757838e-80 & 1.2346333 & Smooth Muscle\\\\\n",
       "\t chr15 &   9529876 &   9506159 & 2 & Il7r          &   41 & 2.142974 & 5.312733e-74 & 0.9399212 & T Cell       \\\\\n",
       "\t chr11 &  46389515 &  46325148 & 2 & Itk           &  282 & 1.967904 & 1.205897e-72 & 1.7477237 & T Cell       \\\\\n",
       "\t chr9  & 123806477 & 123811754 & 1 & Cxcr6         & 1342 & 2.698137 & 2.691221e-70 & 1.5165579 & T Cell       \\\\\n",
       "\t chr13 & 117220573 & 117274415 & 1 & Emb           &  914 & 1.965485 & 3.296344e-69 & 1.2496610 & T Cell       \\\\\n",
       "\t chr9  & 123851899 & 123789500 & 2 & Fyco1         & 1341 & 2.230994 & 3.195663e-68 & 1.1567216 & T Cell       \\\\\n",
       "\t chr14 &  24014491 &  23298694 & 2 & Kcnma1        &  113 & 2.084849 & 2.467597e-80 & 1.8490185 & Tenocyte     \\\\\n",
       "\t chr13 &  92794818 &  92751586 & 2 & Thbs4         &  742 & 3.409609 & 4.750080e-72 & 1.2957414 & Tenocyte     \\\\\n",
       "\t chr13 &  92844787 &  92858230 & 1 & Mtx3          &  743 & 2.600187 & 5.031272e-70 & 0.9494504 & Tenocyte     \\\\\n",
       "\t chr10 &  61979108 &  61838234 & 2 & Col13a1       &  359 & 2.390377 & 1.423013e-66 & 1.0640705 & Tenocyte     \\\\\n",
       "\t chr19 &  42612806 &  42592279 & 2 & Loxl4         &  614 & 1.869540 & 4.872455e-61 & 0.9415617 & Tenocyte     \\\\\n",
       "\\end{tabular}\n"
      ],
      "text/markdown": [
       "\n",
       "A grouped_df: 50 × 10\n",
       "\n",
       "| seqnames &lt;chr&gt; | start &lt;int&gt; | end &lt;int&gt; | strand &lt;int&gt; | name &lt;chr&gt; | idx &lt;int&gt; | Log2FC &lt;dbl&gt; | FDR &lt;dbl&gt; | MeanDiff &lt;dbl&gt; | cluster &lt;chr&gt; |\n",
       "|---|---|---|---|---|---|---|---|---|---|\n",
       "| chr17 |  34226175 |  34588543 | 1 | Notch4        |  555 | 1.974549 | 4.966332e-86 | 5.0396836 | B Cell        |\n",
       "| chr17 |  34264832 |  34316674 | 1 | H2-Eb1        |  558 | 2.897136 | 5.328063e-83 | 3.4893409 | B Cell        |\n",
       "| chr17 |  34287771 |  34282751 | 2 | H2-Aa         |  559 | 3.095674 | 6.739712e-83 | 3.5931374 | B Cell        |\n",
       "| chr15 |  82224339 |  82221744 | 2 | Tnfrsf13c     |  540 | 3.476168 | 3.309043e-81 | 3.1038296 | B Cell        |\n",
       "| chr17 |  34325675 |  34341410 | 1 | H2-Eb2        |  560 | 3.037537 | 1.249548e-80 | 1.4715724 | B Cell        |\n",
       "| chr5  | 147725988 | 147562196 | 2 | Flt1          | 1346 | 2.989802 | 9.621960e-83 | 2.2116868 | Endothelial   |\n",
       "| chr2  | 181671640 | 181669837 | 2 | Sox18         | 2037 | 3.980174 | 7.198085e-67 | 3.1804990 | Endothelial   |\n",
       "| chr2  | 119325784 | 119335666 | 1 | Dll4          | 1237 | 2.759772 | 5.232161e-65 | 2.0710101 | Endothelial   |\n",
       "| chr6  |  31563937 |  31519493 | 2 | Podxl         |  163 | 2.821905 | 5.540409e-61 | 1.2401797 | Endothelial   |\n",
       "| chr2  |  32652329 |  32652414 | 1 | Mir1954       |  402 | 3.471702 | 3.695638e-56 | 3.0832853 | Endothelial   |\n",
       "| chr11 | 114890041 | 114904651 | 1 | Cd300a        | 1624 | 3.201016 | 1.944146e-86 | 1.7244599 | Macrophage    |\n",
       "| chr4  | 132564067 | 132582683 | 1 | Ptafr         | 1021 | 2.676326 | 1.998405e-76 | 1.1590307 | Macrophage    |\n",
       "| chr11 |  83582061 |  83623693 | 1 | E230016K23Rik | 1037 | 3.608960 | 3.339022e-75 | 0.8046393 | Macrophage    |\n",
       "| chr11 |  83649378 |  83647843 | 2 | Ccl3          | 1039 | 3.015589 | 1.374573e-71 | 1.4990828 | Macrophage    |\n",
       "| chr17 |  48232739 |  48246924 | 1 | Trem1         |  893 | 4.257858 | 2.542443e-70 | 0.8902218 | Macrophage    |\n",
       "| chr2  | 125507993 | 125300594 | 2 | Fbn1          | 1332 | 2.147480 | 1.797891e-49 | 1.1776563 | MSC           |\n",
       "| chr1  | 170110559 | 169972307 | 2 | Ddr2          | 1079 | 2.277916 | 7.268596e-48 | 1.0725068 | MSC           |\n",
       "| chr10 |  71159634 |  70925086 | 2 | Bicc1         |  418 | 1.986976 | 2.844285e-46 | 1.1084179 | MSC           |\n",
       "| chr13 |  58806569 |  59133970 | 1 | Ntrk2         |  523 | 2.208735 | 7.582047e-46 | 0.8803817 | MSC           |\n",
       "| chr10 |  76726044 |  76708792 | 2 | Col6a1        |  477 | 2.061084 | 5.215071e-45 | 0.9160989 | MSC           |\n",
       "| chr2  | 164443188 | 164424247 | 2 | Sdc4          | 1811 | 2.215291 | 3.720915e-43 | 2.0587783 | MuSC          |\n",
       "| chr4  |  57434475 |  57896984 | 1 | Pakap         |  354 | 1.393313 | 1.500098e-37 | 2.0294531 | MuSC          |\n",
       "| chr7  |  37773575 |  37318643 | 2 | Zfp536        |  751 | 1.984616 | 1.939787e-37 | 1.3999421 | MuSC          |\n",
       "| chr6  |  29433153 |  29461888 | 1 | Flnc          |  124 | 2.522104 | 1.715762e-35 | 1.8910730 | MuSC          |\n",
       "| chr7  |  46371403 |  46372492 | 1 | Gm45923       |  965 | 3.683385 | 2.825502e-33 | 0.7159555 | MuSC          |\n",
       "| chr3  | 131110297 | 131224357 | 1 | Lef1          |  975 | 2.669212 | 6.341863e-82 | 1.6527420 | NK Cell       |\n",
       "| chr12 | 108003414 | 107910403 | 2 | Bcl11b        |  648 | 2.656467 | 2.102380e-81 | 2.1388806 | NK Cell       |\n",
       "| chr1  | 161788495 | 161780691 | 2 | Fasl          | 1000 | 1.544034 | 6.967193e-75 | 1.3765315 | NK Cell       |\n",
       "| chr2  |  11172382 |  11301226 | 1 | Prkcq         |   87 | 2.160722 | 1.716388e-74 | 1.3429434 | NK Cell       |\n",
       "| chr11 |  46389515 |  46325148 | 2 | Itk           |  282 | 2.032270 | 2.335072e-71 | 1.6671085 | NK Cell       |\n",
       "| chrX  |  50635321 |  50555745 | 2 | Firre         |  299 | 1.577593 | 1.032226e-04 | 0.5167272 | Schwann Cell  |\n",
       "| chr12 | 104044443 | 104028769 | 2 | Serpina12     |  607 | 2.276216 | 2.431619e-04 | 0.3026707 | Schwann Cell  |\n",
       "| chr18 |  89176969 |  89270327 | 1 | Cd226         |  598 | 1.416640 | 9.065103e-04 | 0.3660302 | Schwann Cell  |\n",
       "| chr1  | 138273738 | 138289462 | 1 | Atp6v1g3      |  867 | 1.404402 | 9.885324e-04 | 0.3857230 | Schwann Cell  |\n",
       "| chr10 |  14760289 |  14770556 | 1 | Nmbr          |   66 | 2.767874 | 1.060679e-03 | 0.2782019 | Schwann Cell  |\n",
       "| chr18 |  61665538 |  61645878 | 2 | Carmn         |  432 | 2.912042 | 7.679799e-90 | 2.8264586 | Smooth Muscle |\n",
       "| chr2  |  93957100 |  93955810 | 2 | Gm13889       | 1044 | 3.086733 | 1.216135e-86 | 2.8445735 | Smooth Muscle |\n",
       "| chr18 |  61649258 |  61649196 | 2 | Mir143        |  434 | 2.917650 | 3.855055e-86 | 3.5497816 | Smooth Muscle |\n",
       "| chr2  |  93869157 |  93855360 | 2 | Accsl         | 1043 | 3.285923 | 2.150601e-84 | 1.1544763 | Smooth Muscle |\n",
       "| chr7  | 144738592 | 144588549 | 2 | Ano1          | 2160 | 2.785110 | 1.757838e-80 | 1.2346333 | Smooth Muscle |\n",
       "| chr15 |   9529876 |   9506159 | 2 | Il7r          |   41 | 2.142974 | 5.312733e-74 | 0.9399212 | T Cell        |\n",
       "| chr11 |  46389515 |  46325148 | 2 | Itk           |  282 | 1.967904 | 1.205897e-72 | 1.7477237 | T Cell        |\n",
       "| chr9  | 123806477 | 123811754 | 1 | Cxcr6         | 1342 | 2.698137 | 2.691221e-70 | 1.5165579 | T Cell        |\n",
       "| chr13 | 117220573 | 117274415 | 1 | Emb           |  914 | 1.965485 | 3.296344e-69 | 1.2496610 | T Cell        |\n",
       "| chr9  | 123851899 | 123789500 | 2 | Fyco1         | 1341 | 2.230994 | 3.195663e-68 | 1.1567216 | T Cell        |\n",
       "| chr14 |  24014491 |  23298694 | 2 | Kcnma1        |  113 | 2.084849 | 2.467597e-80 | 1.8490185 | Tenocyte      |\n",
       "| chr13 |  92794818 |  92751586 | 2 | Thbs4         |  742 | 3.409609 | 4.750080e-72 | 1.2957414 | Tenocyte      |\n",
       "| chr13 |  92844787 |  92858230 | 1 | Mtx3          |  743 | 2.600187 | 5.031272e-70 | 0.9494504 | Tenocyte      |\n",
       "| chr10 |  61979108 |  61838234 | 2 | Col13a1       |  359 | 2.390377 | 1.423013e-66 | 1.0640705 | Tenocyte      |\n",
       "| chr19 |  42612806 |  42592279 | 2 | Loxl4         |  614 | 1.869540 | 4.872455e-61 | 0.9415617 | Tenocyte      |\n",
       "\n"
      ],
      "text/plain": [
       "   seqnames start     end       strand name          idx  Log2FC   FDR         \n",
       "1  chr17     34226175  34588543 1      Notch4         555 1.974549 4.966332e-86\n",
       "2  chr17     34264832  34316674 1      H2-Eb1         558 2.897136 5.328063e-83\n",
       "3  chr17     34287771  34282751 2      H2-Aa          559 3.095674 6.739712e-83\n",
       "4  chr15     82224339  82221744 2      Tnfrsf13c      540 3.476168 3.309043e-81\n",
       "5  chr17     34325675  34341410 1      H2-Eb2         560 3.037537 1.249548e-80\n",
       "6  chr5     147725988 147562196 2      Flt1          1346 2.989802 9.621960e-83\n",
       "7  chr2     181671640 181669837 2      Sox18         2037 3.980174 7.198085e-67\n",
       "8  chr2     119325784 119335666 1      Dll4          1237 2.759772 5.232161e-65\n",
       "9  chr6      31563937  31519493 2      Podxl          163 2.821905 5.540409e-61\n",
       "10 chr2      32652329  32652414 1      Mir1954        402 3.471702 3.695638e-56\n",
       "11 chr11    114890041 114904651 1      Cd300a        1624 3.201016 1.944146e-86\n",
       "12 chr4     132564067 132582683 1      Ptafr         1021 2.676326 1.998405e-76\n",
       "13 chr11     83582061  83623693 1      E230016K23Rik 1037 3.608960 3.339022e-75\n",
       "14 chr11     83649378  83647843 2      Ccl3          1039 3.015589 1.374573e-71\n",
       "15 chr17     48232739  48246924 1      Trem1          893 4.257858 2.542443e-70\n",
       "16 chr2     125507993 125300594 2      Fbn1          1332 2.147480 1.797891e-49\n",
       "17 chr1     170110559 169972307 2      Ddr2          1079 2.277916 7.268596e-48\n",
       "18 chr10     71159634  70925086 2      Bicc1          418 1.986976 2.844285e-46\n",
       "19 chr13     58806569  59133970 1      Ntrk2          523 2.208735 7.582047e-46\n",
       "20 chr10     76726044  76708792 2      Col6a1         477 2.061084 5.215071e-45\n",
       "21 chr2     164443188 164424247 2      Sdc4          1811 2.215291 3.720915e-43\n",
       "22 chr4      57434475  57896984 1      Pakap          354 1.393313 1.500098e-37\n",
       "23 chr7      37773575  37318643 2      Zfp536         751 1.984616 1.939787e-37\n",
       "24 chr6      29433153  29461888 1      Flnc           124 2.522104 1.715762e-35\n",
       "25 chr7      46371403  46372492 1      Gm45923        965 3.683385 2.825502e-33\n",
       "26 chr3     131110297 131224357 1      Lef1           975 2.669212 6.341863e-82\n",
       "27 chr12    108003414 107910403 2      Bcl11b         648 2.656467 2.102380e-81\n",
       "28 chr1     161788495 161780691 2      Fasl          1000 1.544034 6.967193e-75\n",
       "29 chr2      11172382  11301226 1      Prkcq           87 2.160722 1.716388e-74\n",
       "30 chr11     46389515  46325148 2      Itk            282 2.032270 2.335072e-71\n",
       "31 chrX      50635321  50555745 2      Firre          299 1.577593 1.032226e-04\n",
       "32 chr12    104044443 104028769 2      Serpina12      607 2.276216 2.431619e-04\n",
       "33 chr18     89176969  89270327 1      Cd226          598 1.416640 9.065103e-04\n",
       "34 chr1     138273738 138289462 1      Atp6v1g3       867 1.404402 9.885324e-04\n",
       "35 chr10     14760289  14770556 1      Nmbr            66 2.767874 1.060679e-03\n",
       "36 chr18     61665538  61645878 2      Carmn          432 2.912042 7.679799e-90\n",
       "37 chr2      93957100  93955810 2      Gm13889       1044 3.086733 1.216135e-86\n",
       "38 chr18     61649258  61649196 2      Mir143         434 2.917650 3.855055e-86\n",
       "39 chr2      93869157  93855360 2      Accsl         1043 3.285923 2.150601e-84\n",
       "40 chr7     144738592 144588549 2      Ano1          2160 2.785110 1.757838e-80\n",
       "41 chr15      9529876   9506159 2      Il7r            41 2.142974 5.312733e-74\n",
       "42 chr11     46389515  46325148 2      Itk            282 1.967904 1.205897e-72\n",
       "43 chr9     123806477 123811754 1      Cxcr6         1342 2.698137 2.691221e-70\n",
       "44 chr13    117220573 117274415 1      Emb            914 1.965485 3.296344e-69\n",
       "45 chr9     123851899 123789500 2      Fyco1         1341 2.230994 3.195663e-68\n",
       "46 chr14     24014491  23298694 2      Kcnma1         113 2.084849 2.467597e-80\n",
       "47 chr13     92794818  92751586 2      Thbs4          742 3.409609 4.750080e-72\n",
       "48 chr13     92844787  92858230 1      Mtx3           743 2.600187 5.031272e-70\n",
       "49 chr10     61979108  61838234 2      Col13a1        359 2.390377 1.423013e-66\n",
       "50 chr19     42612806  42592279 2      Loxl4          614 1.869540 4.872455e-61\n",
       "   MeanDiff  cluster      \n",
       "1  5.0396836 B Cell       \n",
       "2  3.4893409 B Cell       \n",
       "3  3.5931374 B Cell       \n",
       "4  3.1038296 B Cell       \n",
       "5  1.4715724 B Cell       \n",
       "6  2.2116868 Endothelial  \n",
       "7  3.1804990 Endothelial  \n",
       "8  2.0710101 Endothelial  \n",
       "9  1.2401797 Endothelial  \n",
       "10 3.0832853 Endothelial  \n",
       "11 1.7244599 Macrophage   \n",
       "12 1.1590307 Macrophage   \n",
       "13 0.8046393 Macrophage   \n",
       "14 1.4990828 Macrophage   \n",
       "15 0.8902218 Macrophage   \n",
       "16 1.1776563 MSC          \n",
       "17 1.0725068 MSC          \n",
       "18 1.1084179 MSC          \n",
       "19 0.8803817 MSC          \n",
       "20 0.9160989 MSC          \n",
       "21 2.0587783 MuSC         \n",
       "22 2.0294531 MuSC         \n",
       "23 1.3999421 MuSC         \n",
       "24 1.8910730 MuSC         \n",
       "25 0.7159555 MuSC         \n",
       "26 1.6527420 NK Cell      \n",
       "27 2.1388806 NK Cell      \n",
       "28 1.3765315 NK Cell      \n",
       "29 1.3429434 NK Cell      \n",
       "30 1.6671085 NK Cell      \n",
       "31 0.5167272 Schwann Cell \n",
       "32 0.3026707 Schwann Cell \n",
       "33 0.3660302 Schwann Cell \n",
       "34 0.3857230 Schwann Cell \n",
       "35 0.2782019 Schwann Cell \n",
       "36 2.8264586 Smooth Muscle\n",
       "37 2.8445735 Smooth Muscle\n",
       "38 3.5497816 Smooth Muscle\n",
       "39 1.1544763 Smooth Muscle\n",
       "40 1.2346333 Smooth Muscle\n",
       "41 0.9399212 T Cell       \n",
       "42 1.7477237 T Cell       \n",
       "43 1.5165579 T Cell       \n",
       "44 1.2496610 T Cell       \n",
       "45 1.1567216 T Cell       \n",
       "46 1.8490185 Tenocyte     \n",
       "47 1.2957414 Tenocyte     \n",
       "48 0.9494504 Tenocyte     \n",
       "49 1.0640705 Tenocyte     \n",
       "50 0.9415617 Tenocyte     "
      ]
     },
     "metadata": {},
     "output_type": "display_data"
    }
   ],
   "source": [
    "as.data.frame(markerListDF) %>% group_by(cluster) %>% slice(1:5)"
   ]
  },
  {
   "cell_type": "code",
   "execution_count": 133,
   "metadata": {
    "scrolled": true,
    "tags": []
   },
   "outputs": [
    {
     "data": {
      "text/html": [
       "<table class=\"dataframe\">\n",
       "<caption>A data.frame: 701 × 10</caption>\n",
       "<thead>\n",
       "\t<tr><th></th><th scope=col>seqnames</th><th scope=col>start</th><th scope=col>end</th><th scope=col>strand</th><th scope=col>name</th><th scope=col>idx</th><th scope=col>Log2FC</th><th scope=col>FDR</th><th scope=col>MeanDiff</th><th scope=col>cluster</th></tr>\n",
       "\t<tr><th></th><th scope=col>&lt;chr&gt;</th><th scope=col>&lt;int&gt;</th><th scope=col>&lt;int&gt;</th><th scope=col>&lt;int&gt;</th><th scope=col>&lt;chr&gt;</th><th scope=col>&lt;int&gt;</th><th scope=col>&lt;dbl&gt;</th><th scope=col>&lt;dbl&gt;</th><th scope=col>&lt;dbl&gt;</th><th scope=col>&lt;chr&gt;</th></tr>\n",
       "</thead>\n",
       "<tbody>\n",
       "\t<tr><th scope=row>4129</th><td>chr11</td><td>114890041</td><td>114904651</td><td>1</td><td>Cd300a       </td><td>1624</td><td>3.201016</td><td>1.944146e-86</td><td>1.7244599</td><td>Macrophage</td></tr>\n",
       "\t<tr><th scope=row>15460</th><td>chr4 </td><td>132564067</td><td>132582683</td><td>1</td><td>Ptafr        </td><td>1021</td><td>2.676326</td><td>1.998405e-76</td><td>1.1590307</td><td>Macrophage</td></tr>\n",
       "\t<tr><th scope=row>3542</th><td>chr11</td><td> 83582061</td><td> 83623693</td><td>1</td><td>E230016K23Rik</td><td>1037</td><td>3.608960</td><td>3.339022e-75</td><td>0.8046393</td><td>Macrophage</td></tr>\n",
       "\t<tr><th scope=row>3544</th><td>chr11</td><td> 83649378</td><td> 83647843</td><td>2</td><td>Ccl3         </td><td>1039</td><td>3.015589</td><td>1.374573e-71</td><td>1.4990828</td><td>Macrophage</td></tr>\n",
       "\t<tr><th scope=row>9565</th><td>chr17</td><td> 48232739</td><td> 48246924</td><td>1</td><td>Trem1        </td><td> 893</td><td>4.257858</td><td>2.542443e-70</td><td>0.8902218</td><td>Macrophage</td></tr>\n",
       "\t<tr><th scope=row>3543</th><td>chr11</td><td> 83593087</td><td> 83587886</td><td>2</td><td>Ccl6         </td><td>1038</td><td>3.189794</td><td>1.406171e-69</td><td>0.8731051</td><td>Macrophage</td></tr>\n",
       "\t<tr><th scope=row>4130</th><td>chr11</td><td>114934386</td><td>114922781</td><td>2</td><td>Cd300lb      </td><td>1625</td><td>3.425979</td><td>1.760722e-69</td><td>0.7905405</td><td>Macrophage</td></tr>\n",
       "\t<tr><th scope=row>18254</th><td>chr6 </td><td>123262107</td><td>123275268</td><td>1</td><td>Clec4d       </td><td> 967</td><td>4.388525</td><td>2.788113e-69</td><td>1.0721976</td><td>Macrophage</td></tr>\n",
       "\t<tr><th scope=row>10189</th><td>chr18</td><td> 46465816</td><td> 46464934</td><td>2</td><td>Mospd4       </td><td> 333</td><td>2.831458</td><td>2.913832e-68</td><td>1.7067180</td><td>Macrophage</td></tr>\n",
       "\t<tr><th scope=row>12646</th><td>chr2 </td><td>129371139</td><td>129364578</td><td>2</td><td>Il1b         </td><td>1393</td><td>3.465640</td><td>1.203983e-65</td><td>1.1933346</td><td>Macrophage</td></tr>\n",
       "\t<tr><th scope=row>19397</th><td>chr7 </td><td> 43533171</td><td> 43527456</td><td>2</td><td>Cd33         </td><td> 801</td><td>3.802055</td><td>7.044145e-65</td><td>0.9147078</td><td>Macrophage</td></tr>\n",
       "\t<tr><th scope=row>11042</th><td>chr19</td><td> 41385070</td><td> 41274218</td><td>2</td><td>Pik3ap1      </td><td> 586</td><td>1.806673</td><td>1.374222e-60</td><td>1.5039337</td><td>Macrophage</td></tr>\n",
       "\t<tr><th scope=row>1845</th><td>chr10</td><td> 77530348</td><td> 77565674</td><td>1</td><td>Itgb2        </td><td> 487</td><td>2.025243</td><td>7.003071e-59</td><td>1.2869602</td><td>Macrophage</td></tr>\n",
       "\t<tr><th scope=row>18166</th><td>chr6 </td><td>116461178</td><td>116410071</td><td>2</td><td>Alox5        </td><td> 879</td><td>3.071200</td><td>2.103344e-58</td><td>0.5102542</td><td>Macrophage</td></tr>\n",
       "\t<tr><th scope=row>8506</th><td>chr16</td><td> 75953332</td><td> 75858794</td><td>2</td><td>Samsn1       </td><td> 603</td><td>2.117652</td><td>5.127653e-58</td><td>0.9422746</td><td>Macrophage</td></tr>\n",
       "\t<tr><th scope=row>9466</th><td>chr17</td><td> 43016555</td><td> 43089188</td><td>1</td><td>Tnfrsf21     </td><td> 794</td><td>1.676970</td><td>5.127653e-58</td><td>0.6509418</td><td>Macrophage</td></tr>\n",
       "\t<tr><th scope=row>1636</th><td>chr10</td><td> 51490898</td><td> 51496613</td><td>1</td><td>Lilrb4a      </td><td> 278</td><td>2.890149</td><td>1.172850e-57</td><td>0.9052301</td><td>Macrophage</td></tr>\n",
       "\t<tr><th scope=row>20781</th><td>chr8 </td><td>  3665762</td><td>  3668905</td><td>1</td><td>Mcemp1       </td><td>  16</td><td>4.185386</td><td>2.574634e-57</td><td>1.3534679</td><td>Macrophage</td></tr>\n",
       "\t<tr><th scope=row>2626</th><td>chr11</td><td> 17052381</td><td> 16971206</td><td>2</td><td>Plek         </td><td> 121</td><td>1.920833</td><td>3.631470e-57</td><td>1.0742081</td><td>Macrophage</td></tr>\n",
       "\t<tr><th scope=row>20500</th><td>chr7 </td><td>128062640</td><td>128128160</td><td>1</td><td>Itgam        </td><td>1904</td><td>2.144241</td><td>2.507356e-56</td><td>0.7069740</td><td>Macrophage</td></tr>\n",
       "\t<tr><th scope=row>9564</th><td>chr17</td><td> 48167257</td><td> 48151708</td><td>2</td><td>A530064D06Rik</td><td> 892</td><td>2.663115</td><td>2.518935e-56</td><td>0.3786917</td><td>Macrophage</td></tr>\n",
       "\t<tr><th scope=row>5607</th><td>chr13</td><td> 52573225</td><td> 52569880</td><td>2</td><td>Gm2848       </td><td> 432</td><td>2.628368</td><td>4.774308e-56</td><td>1.2561353</td><td>Macrophage</td></tr>\n",
       "\t<tr><th scope=row>12647</th><td>chr2 </td><td>129369902</td><td>129375733</td><td>1</td><td>Il1bos       </td><td>1394</td><td>2.781184</td><td>2.083989e-55</td><td>1.1758973</td><td>Macrophage</td></tr>\n",
       "\t<tr><th scope=row>15336</th><td>chr4 </td><td>126024659</td><td>126044975</td><td>1</td><td>Csf3r        </td><td> 897</td><td>3.035031</td><td>2.133117e-55</td><td>0.7455765</td><td>Macrophage</td></tr>\n",
       "\t<tr><th scope=row>7905</th><td>chr16</td><td>  3718124</td><td>  3707215</td><td>2</td><td>Mefv         </td><td>   2</td><td>2.644073</td><td>3.424155e-55</td><td>0.7341676</td><td>Macrophage</td></tr>\n",
       "\t<tr><th scope=row>9726</th><td>chr17</td><td> 71311556</td><td> 71252176</td><td>2</td><td>Emilin2      </td><td>1054</td><td>2.051153</td><td>2.185712e-54</td><td>1.1403548</td><td>Macrophage</td></tr>\n",
       "\t<tr><th scope=row>13492</th><td>chr3 </td><td> 50443613</td><td> 50364936</td><td>2</td><td>Slc7a11      </td><td> 194</td><td>3.001008</td><td>1.116922e-53</td><td>0.7885524</td><td>Macrophage</td></tr>\n",
       "\t<tr><th scope=row>9472</th><td>chr17</td><td> 43568451</td><td> 43612201</td><td>1</td><td>Pla2g7       </td><td> 800</td><td>3.065642</td><td>1.149518e-53</td><td>0.6324658</td><td>Macrophage</td></tr>\n",
       "\t<tr><th scope=row>7233</th><td>chr15</td><td> 59794959</td><td> 59788417</td><td>2</td><td>Gm19510      </td><td> 243</td><td>1.524366</td><td>2.747690e-52</td><td>1.3850729</td><td>Macrophage</td></tr>\n",
       "\t<tr><th scope=row>4343</th><td>chr11</td><td>121830218</td><td>121843914</td><td>1</td><td>Ptchd3       </td><td>1838</td><td>1.963289</td><td>4.442683e-52</td><td>0.4593367</td><td>Macrophage</td></tr>\n",
       "\t<tr><th scope=row>⋮</th><td>⋮</td><td>⋮</td><td>⋮</td><td>⋮</td><td>⋮</td><td>⋮</td><td>⋮</td><td>⋮</td><td>⋮</td><td>⋮</td></tr>\n",
       "\t<tr><th scope=row>18602</th><td>chr7 </td><td>  3219259</td><td>  3219198</td><td>2</td><td>Mir292b      </td><td>   6</td><td>1.883045</td><td>8.431674e-05</td><td>0.10764924</td><td>Macrophage</td></tr>\n",
       "\t<tr><th scope=row>1485</th><td>chr10</td><td> 23851462</td><td> 23869843</td><td>1</td><td>Vnn3         </td><td> 127</td><td>1.493278</td><td>1.102051e-04</td><td>0.08527419</td><td>Macrophage</td></tr>\n",
       "\t<tr><th scope=row>13823</th><td>chr3 </td><td> 90654302</td><td> 90658130</td><td>1</td><td>S100a7a      </td><td> 525</td><td>1.263982</td><td>1.214269e-04</td><td>0.38474407</td><td>Macrophage</td></tr>\n",
       "\t<tr><th scope=row>11084</th><td>chr19</td><td> 43838803</td><td> 43840845</td><td>1</td><td>Gm10768      </td><td> 628</td><td>1.483215</td><td>1.466012e-04</td><td>0.10810094</td><td>Macrophage</td></tr>\n",
       "\t<tr><th scope=row>21021</th><td>chr8 </td><td> 27142910</td><td> 27149706</td><td>1</td><td>4933416M07Rik</td><td> 256</td><td>1.297538</td><td>1.543801e-04</td><td>0.12366137</td><td>Macrophage</td></tr>\n",
       "\t<tr><th scope=row>6041</th><td>chr13</td><td>109324744</td><td>109324824</td><td>1</td><td>Mir582       </td><td> 866</td><td>1.610088</td><td>1.548313e-04</td><td>0.15265752</td><td>Macrophage</td></tr>\n",
       "\t<tr><th scope=row>20086</th><td>chr7 </td><td>104022316</td><td>104021372</td><td>2</td><td>Olfr640      </td><td>1490</td><td>3.171972</td><td>1.683133e-04</td><td>0.06314913</td><td>Macrophage</td></tr>\n",
       "\t<tr><th scope=row>4126</th><td>chr11</td><td>114795892</td><td>114790669</td><td>2</td><td>Btbd17       </td><td>1621</td><td>1.256814</td><td>1.744978e-04</td><td>0.14024218</td><td>Macrophage</td></tr>\n",
       "\t<tr><th scope=row>184</th><td>chr1 </td><td> 39548840</td><td> 39548747</td><td>2</td><td>Snord89      </td><td> 184</td><td>1.656516</td><td>2.101506e-04</td><td>0.12591941</td><td>Macrophage</td></tr>\n",
       "\t<tr><th scope=row>18383</th><td>chr6 </td><td>129397297</td><td>129405413</td><td>1</td><td>Clec1b       </td><td>1096</td><td>1.277872</td><td>3.582312e-04</td><td>0.08760286</td><td>Macrophage</td></tr>\n",
       "\t<tr><th scope=row>23968</th><td>chrX </td><td>103573085</td><td>103573133</td><td>1</td><td>Mir374c      </td><td> 678</td><td>2.487204</td><td>4.454449e-04</td><td>0.04621771</td><td>Macrophage</td></tr>\n",
       "\t<tr><th scope=row>546</th><td>chr1 </td><td> 87784571</td><td> 87784818</td><td>1</td><td>Scarna6      </td><td> 546</td><td>1.322370</td><td>5.496471e-04</td><td>0.09926833</td><td>Macrophage</td></tr>\n",
       "\t<tr><th scope=row>19055</th><td>chr7 </td><td> 24709259</td><td> 24714535</td><td>1</td><td>BC049730     </td><td> 459</td><td>1.546736</td><td>6.469103e-04</td><td>0.09165730</td><td>Macrophage</td></tr>\n",
       "\t<tr><th scope=row>7818</th><td>chr15</td><td>101463765</td><td>101459061</td><td>2</td><td>Krt81        </td><td> 828</td><td>1.722206</td><td>7.292818e-04</td><td>0.10998194</td><td>Macrophage</td></tr>\n",
       "\t<tr><th scope=row>5704</th><td>chr13</td><td> 59706197</td><td> 59700083</td><td>2</td><td>Spata31d1a   </td><td> 529</td><td>1.522110</td><td>7.347190e-04</td><td>0.08546779</td><td>Macrophage</td></tr>\n",
       "\t<tr><th scope=row>15564</th><td>chr4 </td><td>136898844</td><td>136895916</td><td>2</td><td>C1qa         </td><td>1125</td><td>2.599838</td><td>7.559058e-04</td><td>0.18989314</td><td>Macrophage</td></tr>\n",
       "\t<tr><th scope=row>14479</th><td>chr4 </td><td> 11134097</td><td> 11134182</td><td>1</td><td>Mir684-2     </td><td>  40</td><td>1.319230</td><td>8.344014e-04</td><td>0.25995794</td><td>Macrophage</td></tr>\n",
       "\t<tr><th scope=row>1467</th><td>chr10</td><td> 22068079</td><td> 22066309</td><td>2</td><td>4930444G20Rik</td><td> 109</td><td>1.438798</td><td>1.044311e-03</td><td>0.16119147</td><td>Macrophage</td></tr>\n",
       "\t<tr><th scope=row>10757</th><td>chr19</td><td> 11660559</td><td> 11647284</td><td>2</td><td>Oosp2        </td><td> 301</td><td>1.535632</td><td>1.109221e-03</td><td>0.03758872</td><td>Macrophage</td></tr>\n",
       "\t<tr><th scope=row>9315</th><td>chr17</td><td> 35470089</td><td> 35474563</td><td>1</td><td>H2-Q10       </td><td> 643</td><td>1.334358</td><td>1.120246e-03</td><td>0.05878224</td><td>Macrophage</td></tr>\n",
       "\t<tr><th scope=row>8292</th><td>chr16</td><td> 36184212</td><td> 36188111</td><td>1</td><td>Gm5483       </td><td> 389</td><td>2.858409</td><td>1.740821e-03</td><td>0.07783680</td><td>Macrophage</td></tr>\n",
       "\t<tr><th scope=row>21788</th><td>chr8 </td><td>117681622</td><td>117693198</td><td>1</td><td>Gm38416      </td><td>1023</td><td>1.874489</td><td>2.019697e-03</td><td>0.03590929</td><td>Macrophage</td></tr>\n",
       "\t<tr><th scope=row>14959</th><td>chr4 </td><td> 88827416</td><td> 88827985</td><td>1</td><td>Ifna6        </td><td> 520</td><td>1.424820</td><td>2.553543e-03</td><td>0.04367937</td><td>Macrophage</td></tr>\n",
       "\t<tr><th scope=row>1498</th><td>chr10</td><td> 24076500</td><td> 24077534</td><td>1</td><td>Taar8a       </td><td> 140</td><td>1.341606</td><td>2.820690e-03</td><td>0.03928017</td><td>Macrophage</td></tr>\n",
       "\t<tr><th scope=row>20526</th><td>chr7 </td><td>130908268</td><td>130908335</td><td>1</td><td>Mir7061      </td><td>1930</td><td>1.319756</td><td>3.433661e-03</td><td>0.26362744</td><td>Macrophage</td></tr>\n",
       "\t<tr><th scope=row>23969</th><td>chrX </td><td>103572996</td><td>103572921</td><td>2</td><td>Mir421       </td><td> 679</td><td>1.827110</td><td>4.164448e-03</td><td>0.03598391</td><td>Macrophage</td></tr>\n",
       "\t<tr><th scope=row>22325</th><td>chr9 </td><td> 39909805</td><td> 39910728</td><td>1</td><td>Olfr229      </td><td> 387</td><td>2.100312</td><td>5.652979e-03</td><td>0.12699988</td><td>Macrophage</td></tr>\n",
       "\t<tr><th scope=row>6614</th><td>chr14</td><td> 56030495</td><td> 56026864</td><td>2</td><td>Mcpt9        </td><td> 500</td><td>1.640965</td><td>6.349604e-03</td><td>0.04208869</td><td>Macrophage</td></tr>\n",
       "\t<tr><th scope=row>20886</th><td>chr8 </td><td> 19026529</td><td> 19023464</td><td>2</td><td>Defb38       </td><td> 121</td><td>1.284675</td><td>9.098730e-03</td><td>0.05166524</td><td>Macrophage</td></tr>\n",
       "\t<tr><th scope=row>15618</th><td>chr4 </td><td>139644042</td><td>139644111</td><td>1</td><td>Mir7020      </td><td>1179</td><td>1.374277</td><td>9.908057e-03</td><td>0.18183288</td><td>Macrophage</td></tr>\n",
       "</tbody>\n",
       "</table>\n"
      ],
      "text/latex": [
       "A data.frame: 701 × 10\n",
       "\\begin{tabular}{r|llllllllll}\n",
       "  & seqnames & start & end & strand & name & idx & Log2FC & FDR & MeanDiff & cluster\\\\\n",
       "  & <chr> & <int> & <int> & <int> & <chr> & <int> & <dbl> & <dbl> & <dbl> & <chr>\\\\\n",
       "\\hline\n",
       "\t4129 & chr11 & 114890041 & 114904651 & 1 & Cd300a        & 1624 & 3.201016 & 1.944146e-86 & 1.7244599 & Macrophage\\\\\n",
       "\t15460 & chr4  & 132564067 & 132582683 & 1 & Ptafr         & 1021 & 2.676326 & 1.998405e-76 & 1.1590307 & Macrophage\\\\\n",
       "\t3542 & chr11 &  83582061 &  83623693 & 1 & E230016K23Rik & 1037 & 3.608960 & 3.339022e-75 & 0.8046393 & Macrophage\\\\\n",
       "\t3544 & chr11 &  83649378 &  83647843 & 2 & Ccl3          & 1039 & 3.015589 & 1.374573e-71 & 1.4990828 & Macrophage\\\\\n",
       "\t9565 & chr17 &  48232739 &  48246924 & 1 & Trem1         &  893 & 4.257858 & 2.542443e-70 & 0.8902218 & Macrophage\\\\\n",
       "\t3543 & chr11 &  83593087 &  83587886 & 2 & Ccl6          & 1038 & 3.189794 & 1.406171e-69 & 0.8731051 & Macrophage\\\\\n",
       "\t4130 & chr11 & 114934386 & 114922781 & 2 & Cd300lb       & 1625 & 3.425979 & 1.760722e-69 & 0.7905405 & Macrophage\\\\\n",
       "\t18254 & chr6  & 123262107 & 123275268 & 1 & Clec4d        &  967 & 4.388525 & 2.788113e-69 & 1.0721976 & Macrophage\\\\\n",
       "\t10189 & chr18 &  46465816 &  46464934 & 2 & Mospd4        &  333 & 2.831458 & 2.913832e-68 & 1.7067180 & Macrophage\\\\\n",
       "\t12646 & chr2  & 129371139 & 129364578 & 2 & Il1b          & 1393 & 3.465640 & 1.203983e-65 & 1.1933346 & Macrophage\\\\\n",
       "\t19397 & chr7  &  43533171 &  43527456 & 2 & Cd33          &  801 & 3.802055 & 7.044145e-65 & 0.9147078 & Macrophage\\\\\n",
       "\t11042 & chr19 &  41385070 &  41274218 & 2 & Pik3ap1       &  586 & 1.806673 & 1.374222e-60 & 1.5039337 & Macrophage\\\\\n",
       "\t1845 & chr10 &  77530348 &  77565674 & 1 & Itgb2         &  487 & 2.025243 & 7.003071e-59 & 1.2869602 & Macrophage\\\\\n",
       "\t18166 & chr6  & 116461178 & 116410071 & 2 & Alox5         &  879 & 3.071200 & 2.103344e-58 & 0.5102542 & Macrophage\\\\\n",
       "\t8506 & chr16 &  75953332 &  75858794 & 2 & Samsn1        &  603 & 2.117652 & 5.127653e-58 & 0.9422746 & Macrophage\\\\\n",
       "\t9466 & chr17 &  43016555 &  43089188 & 1 & Tnfrsf21      &  794 & 1.676970 & 5.127653e-58 & 0.6509418 & Macrophage\\\\\n",
       "\t1636 & chr10 &  51490898 &  51496613 & 1 & Lilrb4a       &  278 & 2.890149 & 1.172850e-57 & 0.9052301 & Macrophage\\\\\n",
       "\t20781 & chr8  &   3665762 &   3668905 & 1 & Mcemp1        &   16 & 4.185386 & 2.574634e-57 & 1.3534679 & Macrophage\\\\\n",
       "\t2626 & chr11 &  17052381 &  16971206 & 2 & Plek          &  121 & 1.920833 & 3.631470e-57 & 1.0742081 & Macrophage\\\\\n",
       "\t20500 & chr7  & 128062640 & 128128160 & 1 & Itgam         & 1904 & 2.144241 & 2.507356e-56 & 0.7069740 & Macrophage\\\\\n",
       "\t9564 & chr17 &  48167257 &  48151708 & 2 & A530064D06Rik &  892 & 2.663115 & 2.518935e-56 & 0.3786917 & Macrophage\\\\\n",
       "\t5607 & chr13 &  52573225 &  52569880 & 2 & Gm2848        &  432 & 2.628368 & 4.774308e-56 & 1.2561353 & Macrophage\\\\\n",
       "\t12647 & chr2  & 129369902 & 129375733 & 1 & Il1bos        & 1394 & 2.781184 & 2.083989e-55 & 1.1758973 & Macrophage\\\\\n",
       "\t15336 & chr4  & 126024659 & 126044975 & 1 & Csf3r         &  897 & 3.035031 & 2.133117e-55 & 0.7455765 & Macrophage\\\\\n",
       "\t7905 & chr16 &   3718124 &   3707215 & 2 & Mefv          &    2 & 2.644073 & 3.424155e-55 & 0.7341676 & Macrophage\\\\\n",
       "\t9726 & chr17 &  71311556 &  71252176 & 2 & Emilin2       & 1054 & 2.051153 & 2.185712e-54 & 1.1403548 & Macrophage\\\\\n",
       "\t13492 & chr3  &  50443613 &  50364936 & 2 & Slc7a11       &  194 & 3.001008 & 1.116922e-53 & 0.7885524 & Macrophage\\\\\n",
       "\t9472 & chr17 &  43568451 &  43612201 & 1 & Pla2g7        &  800 & 3.065642 & 1.149518e-53 & 0.6324658 & Macrophage\\\\\n",
       "\t7233 & chr15 &  59794959 &  59788417 & 2 & Gm19510       &  243 & 1.524366 & 2.747690e-52 & 1.3850729 & Macrophage\\\\\n",
       "\t4343 & chr11 & 121830218 & 121843914 & 1 & Ptchd3        & 1838 & 1.963289 & 4.442683e-52 & 0.4593367 & Macrophage\\\\\n",
       "\t⋮ & ⋮ & ⋮ & ⋮ & ⋮ & ⋮ & ⋮ & ⋮ & ⋮ & ⋮ & ⋮\\\\\n",
       "\t18602 & chr7  &   3219259 &   3219198 & 2 & Mir292b       &    6 & 1.883045 & 8.431674e-05 & 0.10764924 & Macrophage\\\\\n",
       "\t1485 & chr10 &  23851462 &  23869843 & 1 & Vnn3          &  127 & 1.493278 & 1.102051e-04 & 0.08527419 & Macrophage\\\\\n",
       "\t13823 & chr3  &  90654302 &  90658130 & 1 & S100a7a       &  525 & 1.263982 & 1.214269e-04 & 0.38474407 & Macrophage\\\\\n",
       "\t11084 & chr19 &  43838803 &  43840845 & 1 & Gm10768       &  628 & 1.483215 & 1.466012e-04 & 0.10810094 & Macrophage\\\\\n",
       "\t21021 & chr8  &  27142910 &  27149706 & 1 & 4933416M07Rik &  256 & 1.297538 & 1.543801e-04 & 0.12366137 & Macrophage\\\\\n",
       "\t6041 & chr13 & 109324744 & 109324824 & 1 & Mir582        &  866 & 1.610088 & 1.548313e-04 & 0.15265752 & Macrophage\\\\\n",
       "\t20086 & chr7  & 104022316 & 104021372 & 2 & Olfr640       & 1490 & 3.171972 & 1.683133e-04 & 0.06314913 & Macrophage\\\\\n",
       "\t4126 & chr11 & 114795892 & 114790669 & 2 & Btbd17        & 1621 & 1.256814 & 1.744978e-04 & 0.14024218 & Macrophage\\\\\n",
       "\t184 & chr1  &  39548840 &  39548747 & 2 & Snord89       &  184 & 1.656516 & 2.101506e-04 & 0.12591941 & Macrophage\\\\\n",
       "\t18383 & chr6  & 129397297 & 129405413 & 1 & Clec1b        & 1096 & 1.277872 & 3.582312e-04 & 0.08760286 & Macrophage\\\\\n",
       "\t23968 & chrX  & 103573085 & 103573133 & 1 & Mir374c       &  678 & 2.487204 & 4.454449e-04 & 0.04621771 & Macrophage\\\\\n",
       "\t546 & chr1  &  87784571 &  87784818 & 1 & Scarna6       &  546 & 1.322370 & 5.496471e-04 & 0.09926833 & Macrophage\\\\\n",
       "\t19055 & chr7  &  24709259 &  24714535 & 1 & BC049730      &  459 & 1.546736 & 6.469103e-04 & 0.09165730 & Macrophage\\\\\n",
       "\t7818 & chr15 & 101463765 & 101459061 & 2 & Krt81         &  828 & 1.722206 & 7.292818e-04 & 0.10998194 & Macrophage\\\\\n",
       "\t5704 & chr13 &  59706197 &  59700083 & 2 & Spata31d1a    &  529 & 1.522110 & 7.347190e-04 & 0.08546779 & Macrophage\\\\\n",
       "\t15564 & chr4  & 136898844 & 136895916 & 2 & C1qa          & 1125 & 2.599838 & 7.559058e-04 & 0.18989314 & Macrophage\\\\\n",
       "\t14479 & chr4  &  11134097 &  11134182 & 1 & Mir684-2      &   40 & 1.319230 & 8.344014e-04 & 0.25995794 & Macrophage\\\\\n",
       "\t1467 & chr10 &  22068079 &  22066309 & 2 & 4930444G20Rik &  109 & 1.438798 & 1.044311e-03 & 0.16119147 & Macrophage\\\\\n",
       "\t10757 & chr19 &  11660559 &  11647284 & 2 & Oosp2         &  301 & 1.535632 & 1.109221e-03 & 0.03758872 & Macrophage\\\\\n",
       "\t9315 & chr17 &  35470089 &  35474563 & 1 & H2-Q10        &  643 & 1.334358 & 1.120246e-03 & 0.05878224 & Macrophage\\\\\n",
       "\t8292 & chr16 &  36184212 &  36188111 & 1 & Gm5483        &  389 & 2.858409 & 1.740821e-03 & 0.07783680 & Macrophage\\\\\n",
       "\t21788 & chr8  & 117681622 & 117693198 & 1 & Gm38416       & 1023 & 1.874489 & 2.019697e-03 & 0.03590929 & Macrophage\\\\\n",
       "\t14959 & chr4  &  88827416 &  88827985 & 1 & Ifna6         &  520 & 1.424820 & 2.553543e-03 & 0.04367937 & Macrophage\\\\\n",
       "\t1498 & chr10 &  24076500 &  24077534 & 1 & Taar8a        &  140 & 1.341606 & 2.820690e-03 & 0.03928017 & Macrophage\\\\\n",
       "\t20526 & chr7  & 130908268 & 130908335 & 1 & Mir7061       & 1930 & 1.319756 & 3.433661e-03 & 0.26362744 & Macrophage\\\\\n",
       "\t23969 & chrX  & 103572996 & 103572921 & 2 & Mir421        &  679 & 1.827110 & 4.164448e-03 & 0.03598391 & Macrophage\\\\\n",
       "\t22325 & chr9  &  39909805 &  39910728 & 1 & Olfr229       &  387 & 2.100312 & 5.652979e-03 & 0.12699988 & Macrophage\\\\\n",
       "\t6614 & chr14 &  56030495 &  56026864 & 2 & Mcpt9         &  500 & 1.640965 & 6.349604e-03 & 0.04208869 & Macrophage\\\\\n",
       "\t20886 & chr8  &  19026529 &  19023464 & 2 & Defb38        &  121 & 1.284675 & 9.098730e-03 & 0.05166524 & Macrophage\\\\\n",
       "\t15618 & chr4  & 139644042 & 139644111 & 1 & Mir7020       & 1179 & 1.374277 & 9.908057e-03 & 0.18183288 & Macrophage\\\\\n",
       "\\end{tabular}\n"
      ],
      "text/markdown": [
       "\n",
       "A data.frame: 701 × 10\n",
       "\n",
       "| <!--/--> | seqnames &lt;chr&gt; | start &lt;int&gt; | end &lt;int&gt; | strand &lt;int&gt; | name &lt;chr&gt; | idx &lt;int&gt; | Log2FC &lt;dbl&gt; | FDR &lt;dbl&gt; | MeanDiff &lt;dbl&gt; | cluster &lt;chr&gt; |\n",
       "|---|---|---|---|---|---|---|---|---|---|---|\n",
       "| 4129 | chr11 | 114890041 | 114904651 | 1 | Cd300a        | 1624 | 3.201016 | 1.944146e-86 | 1.7244599 | Macrophage |\n",
       "| 15460 | chr4  | 132564067 | 132582683 | 1 | Ptafr         | 1021 | 2.676326 | 1.998405e-76 | 1.1590307 | Macrophage |\n",
       "| 3542 | chr11 |  83582061 |  83623693 | 1 | E230016K23Rik | 1037 | 3.608960 | 3.339022e-75 | 0.8046393 | Macrophage |\n",
       "| 3544 | chr11 |  83649378 |  83647843 | 2 | Ccl3          | 1039 | 3.015589 | 1.374573e-71 | 1.4990828 | Macrophage |\n",
       "| 9565 | chr17 |  48232739 |  48246924 | 1 | Trem1         |  893 | 4.257858 | 2.542443e-70 | 0.8902218 | Macrophage |\n",
       "| 3543 | chr11 |  83593087 |  83587886 | 2 | Ccl6          | 1038 | 3.189794 | 1.406171e-69 | 0.8731051 | Macrophage |\n",
       "| 4130 | chr11 | 114934386 | 114922781 | 2 | Cd300lb       | 1625 | 3.425979 | 1.760722e-69 | 0.7905405 | Macrophage |\n",
       "| 18254 | chr6  | 123262107 | 123275268 | 1 | Clec4d        |  967 | 4.388525 | 2.788113e-69 | 1.0721976 | Macrophage |\n",
       "| 10189 | chr18 |  46465816 |  46464934 | 2 | Mospd4        |  333 | 2.831458 | 2.913832e-68 | 1.7067180 | Macrophage |\n",
       "| 12646 | chr2  | 129371139 | 129364578 | 2 | Il1b          | 1393 | 3.465640 | 1.203983e-65 | 1.1933346 | Macrophage |\n",
       "| 19397 | chr7  |  43533171 |  43527456 | 2 | Cd33          |  801 | 3.802055 | 7.044145e-65 | 0.9147078 | Macrophage |\n",
       "| 11042 | chr19 |  41385070 |  41274218 | 2 | Pik3ap1       |  586 | 1.806673 | 1.374222e-60 | 1.5039337 | Macrophage |\n",
       "| 1845 | chr10 |  77530348 |  77565674 | 1 | Itgb2         |  487 | 2.025243 | 7.003071e-59 | 1.2869602 | Macrophage |\n",
       "| 18166 | chr6  | 116461178 | 116410071 | 2 | Alox5         |  879 | 3.071200 | 2.103344e-58 | 0.5102542 | Macrophage |\n",
       "| 8506 | chr16 |  75953332 |  75858794 | 2 | Samsn1        |  603 | 2.117652 | 5.127653e-58 | 0.9422746 | Macrophage |\n",
       "| 9466 | chr17 |  43016555 |  43089188 | 1 | Tnfrsf21      |  794 | 1.676970 | 5.127653e-58 | 0.6509418 | Macrophage |\n",
       "| 1636 | chr10 |  51490898 |  51496613 | 1 | Lilrb4a       |  278 | 2.890149 | 1.172850e-57 | 0.9052301 | Macrophage |\n",
       "| 20781 | chr8  |   3665762 |   3668905 | 1 | Mcemp1        |   16 | 4.185386 | 2.574634e-57 | 1.3534679 | Macrophage |\n",
       "| 2626 | chr11 |  17052381 |  16971206 | 2 | Plek          |  121 | 1.920833 | 3.631470e-57 | 1.0742081 | Macrophage |\n",
       "| 20500 | chr7  | 128062640 | 128128160 | 1 | Itgam         | 1904 | 2.144241 | 2.507356e-56 | 0.7069740 | Macrophage |\n",
       "| 9564 | chr17 |  48167257 |  48151708 | 2 | A530064D06Rik |  892 | 2.663115 | 2.518935e-56 | 0.3786917 | Macrophage |\n",
       "| 5607 | chr13 |  52573225 |  52569880 | 2 | Gm2848        |  432 | 2.628368 | 4.774308e-56 | 1.2561353 | Macrophage |\n",
       "| 12647 | chr2  | 129369902 | 129375733 | 1 | Il1bos        | 1394 | 2.781184 | 2.083989e-55 | 1.1758973 | Macrophage |\n",
       "| 15336 | chr4  | 126024659 | 126044975 | 1 | Csf3r         |  897 | 3.035031 | 2.133117e-55 | 0.7455765 | Macrophage |\n",
       "| 7905 | chr16 |   3718124 |   3707215 | 2 | Mefv          |    2 | 2.644073 | 3.424155e-55 | 0.7341676 | Macrophage |\n",
       "| 9726 | chr17 |  71311556 |  71252176 | 2 | Emilin2       | 1054 | 2.051153 | 2.185712e-54 | 1.1403548 | Macrophage |\n",
       "| 13492 | chr3  |  50443613 |  50364936 | 2 | Slc7a11       |  194 | 3.001008 | 1.116922e-53 | 0.7885524 | Macrophage |\n",
       "| 9472 | chr17 |  43568451 |  43612201 | 1 | Pla2g7        |  800 | 3.065642 | 1.149518e-53 | 0.6324658 | Macrophage |\n",
       "| 7233 | chr15 |  59794959 |  59788417 | 2 | Gm19510       |  243 | 1.524366 | 2.747690e-52 | 1.3850729 | Macrophage |\n",
       "| 4343 | chr11 | 121830218 | 121843914 | 1 | Ptchd3        | 1838 | 1.963289 | 4.442683e-52 | 0.4593367 | Macrophage |\n",
       "| ⋮ | ⋮ | ⋮ | ⋮ | ⋮ | ⋮ | ⋮ | ⋮ | ⋮ | ⋮ | ⋮ |\n",
       "| 18602 | chr7  |   3219259 |   3219198 | 2 | Mir292b       |    6 | 1.883045 | 8.431674e-05 | 0.10764924 | Macrophage |\n",
       "| 1485 | chr10 |  23851462 |  23869843 | 1 | Vnn3          |  127 | 1.493278 | 1.102051e-04 | 0.08527419 | Macrophage |\n",
       "| 13823 | chr3  |  90654302 |  90658130 | 1 | S100a7a       |  525 | 1.263982 | 1.214269e-04 | 0.38474407 | Macrophage |\n",
       "| 11084 | chr19 |  43838803 |  43840845 | 1 | Gm10768       |  628 | 1.483215 | 1.466012e-04 | 0.10810094 | Macrophage |\n",
       "| 21021 | chr8  |  27142910 |  27149706 | 1 | 4933416M07Rik |  256 | 1.297538 | 1.543801e-04 | 0.12366137 | Macrophage |\n",
       "| 6041 | chr13 | 109324744 | 109324824 | 1 | Mir582        |  866 | 1.610088 | 1.548313e-04 | 0.15265752 | Macrophage |\n",
       "| 20086 | chr7  | 104022316 | 104021372 | 2 | Olfr640       | 1490 | 3.171972 | 1.683133e-04 | 0.06314913 | Macrophage |\n",
       "| 4126 | chr11 | 114795892 | 114790669 | 2 | Btbd17        | 1621 | 1.256814 | 1.744978e-04 | 0.14024218 | Macrophage |\n",
       "| 184 | chr1  |  39548840 |  39548747 | 2 | Snord89       |  184 | 1.656516 | 2.101506e-04 | 0.12591941 | Macrophage |\n",
       "| 18383 | chr6  | 129397297 | 129405413 | 1 | Clec1b        | 1096 | 1.277872 | 3.582312e-04 | 0.08760286 | Macrophage |\n",
       "| 23968 | chrX  | 103573085 | 103573133 | 1 | Mir374c       |  678 | 2.487204 | 4.454449e-04 | 0.04621771 | Macrophage |\n",
       "| 546 | chr1  |  87784571 |  87784818 | 1 | Scarna6       |  546 | 1.322370 | 5.496471e-04 | 0.09926833 | Macrophage |\n",
       "| 19055 | chr7  |  24709259 |  24714535 | 1 | BC049730      |  459 | 1.546736 | 6.469103e-04 | 0.09165730 | Macrophage |\n",
       "| 7818 | chr15 | 101463765 | 101459061 | 2 | Krt81         |  828 | 1.722206 | 7.292818e-04 | 0.10998194 | Macrophage |\n",
       "| 5704 | chr13 |  59706197 |  59700083 | 2 | Spata31d1a    |  529 | 1.522110 | 7.347190e-04 | 0.08546779 | Macrophage |\n",
       "| 15564 | chr4  | 136898844 | 136895916 | 2 | C1qa          | 1125 | 2.599838 | 7.559058e-04 | 0.18989314 | Macrophage |\n",
       "| 14479 | chr4  |  11134097 |  11134182 | 1 | Mir684-2      |   40 | 1.319230 | 8.344014e-04 | 0.25995794 | Macrophage |\n",
       "| 1467 | chr10 |  22068079 |  22066309 | 2 | 4930444G20Rik |  109 | 1.438798 | 1.044311e-03 | 0.16119147 | Macrophage |\n",
       "| 10757 | chr19 |  11660559 |  11647284 | 2 | Oosp2         |  301 | 1.535632 | 1.109221e-03 | 0.03758872 | Macrophage |\n",
       "| 9315 | chr17 |  35470089 |  35474563 | 1 | H2-Q10        |  643 | 1.334358 | 1.120246e-03 | 0.05878224 | Macrophage |\n",
       "| 8292 | chr16 |  36184212 |  36188111 | 1 | Gm5483        |  389 | 2.858409 | 1.740821e-03 | 0.07783680 | Macrophage |\n",
       "| 21788 | chr8  | 117681622 | 117693198 | 1 | Gm38416       | 1023 | 1.874489 | 2.019697e-03 | 0.03590929 | Macrophage |\n",
       "| 14959 | chr4  |  88827416 |  88827985 | 1 | Ifna6         |  520 | 1.424820 | 2.553543e-03 | 0.04367937 | Macrophage |\n",
       "| 1498 | chr10 |  24076500 |  24077534 | 1 | Taar8a        |  140 | 1.341606 | 2.820690e-03 | 0.03928017 | Macrophage |\n",
       "| 20526 | chr7  | 130908268 | 130908335 | 1 | Mir7061       | 1930 | 1.319756 | 3.433661e-03 | 0.26362744 | Macrophage |\n",
       "| 23969 | chrX  | 103572996 | 103572921 | 2 | Mir421        |  679 | 1.827110 | 4.164448e-03 | 0.03598391 | Macrophage |\n",
       "| 22325 | chr9  |  39909805 |  39910728 | 1 | Olfr229       |  387 | 2.100312 | 5.652979e-03 | 0.12699988 | Macrophage |\n",
       "| 6614 | chr14 |  56030495 |  56026864 | 2 | Mcpt9         |  500 | 1.640965 | 6.349604e-03 | 0.04208869 | Macrophage |\n",
       "| 20886 | chr8  |  19026529 |  19023464 | 2 | Defb38        |  121 | 1.284675 | 9.098730e-03 | 0.05166524 | Macrophage |\n",
       "| 15618 | chr4  | 139644042 | 139644111 | 1 | Mir7020       | 1179 | 1.374277 | 9.908057e-03 | 0.18183288 | Macrophage |\n",
       "\n"
      ],
      "text/plain": [
       "      seqnames start     end       strand name          idx  Log2FC  \n",
       "4129  chr11    114890041 114904651 1      Cd300a        1624 3.201016\n",
       "15460 chr4     132564067 132582683 1      Ptafr         1021 2.676326\n",
       "3542  chr11     83582061  83623693 1      E230016K23Rik 1037 3.608960\n",
       "3544  chr11     83649378  83647843 2      Ccl3          1039 3.015589\n",
       "9565  chr17     48232739  48246924 1      Trem1          893 4.257858\n",
       "3543  chr11     83593087  83587886 2      Ccl6          1038 3.189794\n",
       "4130  chr11    114934386 114922781 2      Cd300lb       1625 3.425979\n",
       "18254 chr6     123262107 123275268 1      Clec4d         967 4.388525\n",
       "10189 chr18     46465816  46464934 2      Mospd4         333 2.831458\n",
       "12646 chr2     129371139 129364578 2      Il1b          1393 3.465640\n",
       "19397 chr7      43533171  43527456 2      Cd33           801 3.802055\n",
       "11042 chr19     41385070  41274218 2      Pik3ap1        586 1.806673\n",
       "1845  chr10     77530348  77565674 1      Itgb2          487 2.025243\n",
       "18166 chr6     116461178 116410071 2      Alox5          879 3.071200\n",
       "8506  chr16     75953332  75858794 2      Samsn1         603 2.117652\n",
       "9466  chr17     43016555  43089188 1      Tnfrsf21       794 1.676970\n",
       "1636  chr10     51490898  51496613 1      Lilrb4a        278 2.890149\n",
       "20781 chr8       3665762   3668905 1      Mcemp1          16 4.185386\n",
       "2626  chr11     17052381  16971206 2      Plek           121 1.920833\n",
       "20500 chr7     128062640 128128160 1      Itgam         1904 2.144241\n",
       "9564  chr17     48167257  48151708 2      A530064D06Rik  892 2.663115\n",
       "5607  chr13     52573225  52569880 2      Gm2848         432 2.628368\n",
       "12647 chr2     129369902 129375733 1      Il1bos        1394 2.781184\n",
       "15336 chr4     126024659 126044975 1      Csf3r          897 3.035031\n",
       "7905  chr16      3718124   3707215 2      Mefv             2 2.644073\n",
       "9726  chr17     71311556  71252176 2      Emilin2       1054 2.051153\n",
       "13492 chr3      50443613  50364936 2      Slc7a11        194 3.001008\n",
       "9472  chr17     43568451  43612201 1      Pla2g7         800 3.065642\n",
       "7233  chr15     59794959  59788417 2      Gm19510        243 1.524366\n",
       "4343  chr11    121830218 121843914 1      Ptchd3        1838 1.963289\n",
       "⋮     ⋮        ⋮         ⋮         ⋮      ⋮             ⋮    ⋮       \n",
       "18602 chr7       3219259   3219198 2      Mir292b          6 1.883045\n",
       "1485  chr10     23851462  23869843 1      Vnn3           127 1.493278\n",
       "13823 chr3      90654302  90658130 1      S100a7a        525 1.263982\n",
       "11084 chr19     43838803  43840845 1      Gm10768        628 1.483215\n",
       "21021 chr8      27142910  27149706 1      4933416M07Rik  256 1.297538\n",
       "6041  chr13    109324744 109324824 1      Mir582         866 1.610088\n",
       "20086 chr7     104022316 104021372 2      Olfr640       1490 3.171972\n",
       "4126  chr11    114795892 114790669 2      Btbd17        1621 1.256814\n",
       "184   chr1      39548840  39548747 2      Snord89        184 1.656516\n",
       "18383 chr6     129397297 129405413 1      Clec1b        1096 1.277872\n",
       "23968 chrX     103573085 103573133 1      Mir374c        678 2.487204\n",
       "546   chr1      87784571  87784818 1      Scarna6        546 1.322370\n",
       "19055 chr7      24709259  24714535 1      BC049730       459 1.546736\n",
       "7818  chr15    101463765 101459061 2      Krt81          828 1.722206\n",
       "5704  chr13     59706197  59700083 2      Spata31d1a     529 1.522110\n",
       "15564 chr4     136898844 136895916 2      C1qa          1125 2.599838\n",
       "14479 chr4      11134097  11134182 1      Mir684-2        40 1.319230\n",
       "1467  chr10     22068079  22066309 2      4930444G20Rik  109 1.438798\n",
       "10757 chr19     11660559  11647284 2      Oosp2          301 1.535632\n",
       "9315  chr17     35470089  35474563 1      H2-Q10         643 1.334358\n",
       "8292  chr16     36184212  36188111 1      Gm5483         389 2.858409\n",
       "21788 chr8     117681622 117693198 1      Gm38416       1023 1.874489\n",
       "14959 chr4      88827416  88827985 1      Ifna6          520 1.424820\n",
       "1498  chr10     24076500  24077534 1      Taar8a         140 1.341606\n",
       "20526 chr7     130908268 130908335 1      Mir7061       1930 1.319756\n",
       "23969 chrX     103572996 103572921 2      Mir421         679 1.827110\n",
       "22325 chr9      39909805  39910728 1      Olfr229        387 2.100312\n",
       "6614  chr14     56030495  56026864 2      Mcpt9          500 1.640965\n",
       "20886 chr8      19026529  19023464 2      Defb38         121 1.284675\n",
       "15618 chr4     139644042 139644111 1      Mir7020       1179 1.374277\n",
       "      FDR          MeanDiff   cluster   \n",
       "4129  1.944146e-86 1.7244599  Macrophage\n",
       "15460 1.998405e-76 1.1590307  Macrophage\n",
       "3542  3.339022e-75 0.8046393  Macrophage\n",
       "3544  1.374573e-71 1.4990828  Macrophage\n",
       "9565  2.542443e-70 0.8902218  Macrophage\n",
       "3543  1.406171e-69 0.8731051  Macrophage\n",
       "4130  1.760722e-69 0.7905405  Macrophage\n",
       "18254 2.788113e-69 1.0721976  Macrophage\n",
       "10189 2.913832e-68 1.7067180  Macrophage\n",
       "12646 1.203983e-65 1.1933346  Macrophage\n",
       "19397 7.044145e-65 0.9147078  Macrophage\n",
       "11042 1.374222e-60 1.5039337  Macrophage\n",
       "1845  7.003071e-59 1.2869602  Macrophage\n",
       "18166 2.103344e-58 0.5102542  Macrophage\n",
       "8506  5.127653e-58 0.9422746  Macrophage\n",
       "9466  5.127653e-58 0.6509418  Macrophage\n",
       "1636  1.172850e-57 0.9052301  Macrophage\n",
       "20781 2.574634e-57 1.3534679  Macrophage\n",
       "2626  3.631470e-57 1.0742081  Macrophage\n",
       "20500 2.507356e-56 0.7069740  Macrophage\n",
       "9564  2.518935e-56 0.3786917  Macrophage\n",
       "5607  4.774308e-56 1.2561353  Macrophage\n",
       "12647 2.083989e-55 1.1758973  Macrophage\n",
       "15336 2.133117e-55 0.7455765  Macrophage\n",
       "7905  3.424155e-55 0.7341676  Macrophage\n",
       "9726  2.185712e-54 1.1403548  Macrophage\n",
       "13492 1.116922e-53 0.7885524  Macrophage\n",
       "9472  1.149518e-53 0.6324658  Macrophage\n",
       "7233  2.747690e-52 1.3850729  Macrophage\n",
       "4343  4.442683e-52 0.4593367  Macrophage\n",
       "⋮     ⋮            ⋮          ⋮         \n",
       "18602 8.431674e-05 0.10764924 Macrophage\n",
       "1485  1.102051e-04 0.08527419 Macrophage\n",
       "13823 1.214269e-04 0.38474407 Macrophage\n",
       "11084 1.466012e-04 0.10810094 Macrophage\n",
       "21021 1.543801e-04 0.12366137 Macrophage\n",
       "6041  1.548313e-04 0.15265752 Macrophage\n",
       "20086 1.683133e-04 0.06314913 Macrophage\n",
       "4126  1.744978e-04 0.14024218 Macrophage\n",
       "184   2.101506e-04 0.12591941 Macrophage\n",
       "18383 3.582312e-04 0.08760286 Macrophage\n",
       "23968 4.454449e-04 0.04621771 Macrophage\n",
       "546   5.496471e-04 0.09926833 Macrophage\n",
       "19055 6.469103e-04 0.09165730 Macrophage\n",
       "7818  7.292818e-04 0.10998194 Macrophage\n",
       "5704  7.347190e-04 0.08546779 Macrophage\n",
       "15564 7.559058e-04 0.18989314 Macrophage\n",
       "14479 8.344014e-04 0.25995794 Macrophage\n",
       "1467  1.044311e-03 0.16119147 Macrophage\n",
       "10757 1.109221e-03 0.03758872 Macrophage\n",
       "9315  1.120246e-03 0.05878224 Macrophage\n",
       "8292  1.740821e-03 0.07783680 Macrophage\n",
       "21788 2.019697e-03 0.03590929 Macrophage\n",
       "14959 2.553543e-03 0.04367937 Macrophage\n",
       "1498  2.820690e-03 0.03928017 Macrophage\n",
       "20526 3.433661e-03 0.26362744 Macrophage\n",
       "23969 4.164448e-03 0.03598391 Macrophage\n",
       "22325 5.652979e-03 0.12699988 Macrophage\n",
       "6614  6.349604e-03 0.04208869 Macrophage\n",
       "20886 9.098730e-03 0.05166524 Macrophage\n",
       "15618 9.908057e-03 0.18183288 Macrophage"
      ]
     },
     "metadata": {},
     "output_type": "display_data"
    }
   ],
   "source": [
    "as.data.frame(markerListDF[markerListDF$cluster==\"Macrophage\", ])"
   ]
  },
  {
   "cell_type": "code",
   "execution_count": 6,
   "metadata": {},
   "outputs": [],
   "source": [
    "cell_order <- c(\"Endothelial\",\"Smooth Muscle\",\"MuSC\",\"Tenocyte\",\"MSC\",\"Schwann Cell\",\"B Cell\",\"T Cell\",\"NK Cell\",\"Macrophage\")\n",
    "\n",
    "gene_list  <- c(\"Flt1\",\"Sox18\",\"Dll4\",\n",
    "                \"Carmn\",\"Ano1\",\"Accsl\",\n",
    "                \"Pax7\",\"Sdc4\",\"Chrdl2\",\n",
    "                \"Loxl4\",\"Prelp\",\"Thbs4\",\n",
    "                \"Ddr2\",\"Col6a1\",\"Smoc2\",\n",
    "                \"Oprm1\",\"Ipcef1\",\"Ptpn22\",\n",
    "                \"H2-Eb1\",\"H2-Eb2\",\"H2-Aa\",\n",
    "                \"Il7r\",\"Cxcr6\",\"Itk\",\n",
    "                \"Bcl11b\",\"Lef1\",\"Prkcq\",\n",
    "                \"Cd300a\",\"Ptafr\",\"Plek\")"
   ]
  },
  {
   "cell_type": "code",
   "execution_count": 143,
   "metadata": {},
   "outputs": [],
   "source": [
    "saveRDS(markersGS, file.path(projdir, 'output', 'celltype_markersGS.RDS'))"
   ]
  },
  {
   "cell_type": "code",
   "execution_count": 6,
   "metadata": {},
   "outputs": [],
   "source": [
    "markersGS <- readRDS(file.path(projdir, 'output', 'celltype_markersGS.RDS'))"
   ]
  },
  {
   "cell_type": "markdown",
   "metadata": {},
   "source": [
    "## Get assay matrices for plotting"
   ]
  },
  {
   "cell_type": "code",
   "execution_count": 7,
   "metadata": {
    "scrolled": true,
    "tags": []
   },
   "outputs": [
    {
     "name": "stderr",
     "output_type": "stream",
     "text": [
      "ArchR logging to : ArchRLogs/ArchR-getMatrixFromProject-b5c442cb61a-Date-2022-12-25_Time-21-32-13.log\n",
      "If there is an issue, please report to github with logFile!\n",
      "\n",
      "2022-12-25 21:33:33 : Organizing colData, 1.335 mins elapsed.\n",
      "\n",
      "2022-12-25 21:33:33 : Organizing rowData, 1.339 mins elapsed.\n",
      "\n",
      "2022-12-25 21:33:33 : Organizing rowRanges, 1.339 mins elapsed.\n",
      "\n",
      "2022-12-25 21:33:33 : Organizing Assays (1 of 1), 1.34 mins elapsed.\n",
      "\n",
      "2022-12-25 21:33:42 : Constructing SummarizedExperiment, 1.489 mins elapsed.\n",
      "\n",
      "2022-12-25 21:33:43 : Finished Matrix Creation, 1.512 mins elapsed.\n",
      "\n"
     ]
    }
   ],
   "source": [
    "genescores <- getMatrixFromProject(projAging4, useMatrix=\"GeneScoreMatrix\")\n",
    "genescoredata <- assay(genescores)\n",
    "genedata <- as.data.frame(rowData(genescores))\n",
    "celldata <- as.data.frame(colData(genescores))\n",
    "numcells <- genescoredata@Dim[2]"
   ]
  },
  {
   "cell_type": "code",
   "execution_count": 8,
   "metadata": {
    "scrolled": true,
    "tags": []
   },
   "outputs": [
    {
     "name": "stderr",
     "output_type": "stream",
     "text": [
      "ArchR logging to : ArchRLogs/ArchR-getMatrixFromProject-b5c41e083d2-Date-2022-12-25_Time-21-33-43.log\n",
      "If there is an issue, please report to github with logFile!\n",
      "\n",
      "2022-12-25 21:35:01 : Organizing colData, 1.295 mins elapsed.\n",
      "\n",
      "2022-12-25 21:35:01 : Organizing rowData, 1.3 mins elapsed.\n",
      "\n",
      "2022-12-25 21:35:01 : Organizing rowRanges, 1.3 mins elapsed.\n",
      "\n",
      "2022-12-25 21:35:01 : Organizing Assays (1 of 1), 1.3 mins elapsed.\n",
      "\n",
      "2022-12-25 21:35:13 : Constructing SummarizedExperiment, 1.489 mins elapsed.\n",
      "\n",
      "2022-12-25 21:35:14 : Finished Matrix Creation, 1.512 mins elapsed.\n",
      "\n"
     ]
    }
   ],
   "source": [
    "geneintegrationscores <- getMatrixFromProject(projAging4, useMatrix=\"Harmony_4iter_GeneIntegrationMatrix\")\n",
    "geneintegrationscoredata <- assay(geneintegrationscores)\n",
    "geneintdata <- as.data.frame(rowData(geneintegrationscores))\n",
    "cellintdata <- as.data.frame(colData(geneintegrationscores))\n",
    "numintcells <- geneintegrationscoredata@Dim[2]"
   ]
  },
  {
   "cell_type": "code",
   "execution_count": 13,
   "metadata": {},
   "outputs": [],
   "source": [
    "plt <- custom_DotPlot(gene_list, \n",
    "                      genedata, \n",
    "                      celldata, \n",
    "                      genescoredata, \n",
    "                      \"celltype\", \n",
    "                      cell_order, \n",
    "                      \"Average\\nGene\\nActivity\") + \n",
    "        theme(text = element_text(family=\"Arial\"))\n",
    "ggsave(plt, filename=file.path(getOutputDirectory(projAging4), \"Plots\", \"Bubble-plot-ATAC-celltype.png\"), width=11, height=4.5, dpi=300)"
   ]
  },
  {
   "cell_type": "code",
   "execution_count": 14,
   "metadata": {},
   "outputs": [],
   "source": [
    "plt2 <- custom_DotPlot(gene_list, \n",
    "                       geneintdata, \n",
    "                       cellintdata, \n",
    "                       geneintegrationscoredata, \n",
    "                       \"celltype\", \n",
    "                       cell_order, \n",
    "                       \"Average\\nIntegrated\\nExpression\") + \n",
    "        theme(text = element_text(family=\"Arial\"))\n",
    "ggsave(plt2, filename=file.path(getOutputDirectory(projAging4), \"Plots\", \"Bubble-plot-integrated-RNA-celltype.png\"), width=11, height=4.5, dpi=300)"
   ]
  },
  {
   "cell_type": "markdown",
   "metadata": {},
   "source": [
    "# Calculate per cell type statistics"
   ]
  },
  {
   "cell_type": "code",
   "execution_count": 150,
   "metadata": {},
   "outputs": [
    {
     "name": "stderr",
     "output_type": "stream",
     "text": [
      "\u001b[1m\u001b[22m`summarise()` has grouped output by 'celltype'. You can override using the `.groups` argument.\n"
     ]
    },
    {
     "data": {
      "text/html": [
       "<table class=\"dataframe\">\n",
       "<caption>A grouped_df: 20 × 6</caption>\n",
       "<thead>\n",
       "\t<tr><th scope=col>celltype</th><th scope=col>Age</th><th scope=col>num</th><th scope=col>med_nfrag</th><th scope=col>med_tss</th><th scope=col>med_blklist</th></tr>\n",
       "\t<tr><th scope=col>&lt;chr&gt;</th><th scope=col>&lt;chr&gt;</th><th scope=col>&lt;int&gt;</th><th scope=col>&lt;dbl&gt;</th><th scope=col>&lt;dbl&gt;</th><th scope=col>&lt;dbl&gt;</th></tr>\n",
       "</thead>\n",
       "<tbody>\n",
       "\t<tr><td>B Cell       </td><td>Aged </td><td>2103</td><td>20670.0</td><td>19.0530</td><td>0.02373838</td></tr>\n",
       "\t<tr><td>B Cell       </td><td>Young</td><td> 488</td><td> 2207.5</td><td>27.9350</td><td>0.02405901</td></tr>\n",
       "\t<tr><td>Endothelial  </td><td>Aged </td><td>1674</td><td> 6670.0</td><td>17.6875</td><td>0.02303322</td></tr>\n",
       "\t<tr><td>Endothelial  </td><td>Young</td><td>2627</td><td> 6287.0</td><td>25.7170</td><td>0.02390107</td></tr>\n",
       "\t<tr><td>Macrophage   </td><td>Aged </td><td>1279</td><td>15726.0</td><td>19.0490</td><td>0.02285852</td></tr>\n",
       "\t<tr><td>Macrophage   </td><td>Young</td><td> 379</td><td> 8501.0</td><td>22.9930</td><td>0.02317798</td></tr>\n",
       "\t<tr><td>MSC          </td><td>Aged </td><td>2713</td><td> 6384.0</td><td>22.6760</td><td>0.02050096</td></tr>\n",
       "\t<tr><td>MSC          </td><td>Young</td><td>2472</td><td> 7075.0</td><td>26.2295</td><td>0.02137217</td></tr>\n",
       "\t<tr><td>MuSC         </td><td>Aged </td><td> 457</td><td>10350.0</td><td>18.9530</td><td>0.02362131</td></tr>\n",
       "\t<tr><td>MuSC         </td><td>Young</td><td> 540</td><td> 3766.5</td><td>27.9435</td><td>0.02499256</td></tr>\n",
       "\t<tr><td>NK Cell      </td><td>Aged </td><td>1687</td><td>20258.0</td><td>20.6040</td><td>0.02524494</td></tr>\n",
       "\t<tr><td>NK Cell      </td><td>Young</td><td> 253</td><td> 2294.0</td><td>25.3840</td><td>0.02408994</td></tr>\n",
       "\t<tr><td>Schwann Cell </td><td>Aged </td><td>2584</td><td> 3534.0</td><td>17.4950</td><td>0.02366736</td></tr>\n",
       "\t<tr><td>Schwann Cell </td><td>Young</td><td>1239</td><td> 1601.0</td><td>19.7030</td><td>0.02313555</td></tr>\n",
       "\t<tr><td>Smooth Muscle</td><td>Aged </td><td> 500</td><td> 9753.5</td><td>19.3905</td><td>0.02135197</td></tr>\n",
       "\t<tr><td>Smooth Muscle</td><td>Young</td><td>1810</td><td>11489.0</td><td>23.8180</td><td>0.02104353</td></tr>\n",
       "\t<tr><td>T Cell       </td><td>Aged </td><td>1125</td><td>20047.0</td><td>19.7360</td><td>0.02280010</td></tr>\n",
       "\t<tr><td>T Cell       </td><td>Young</td><td>  67</td><td> 1956.0</td><td>22.8710</td><td>0.02496373</td></tr>\n",
       "\t<tr><td>Tenocyte     </td><td>Aged </td><td> 205</td><td> 9496.0</td><td>19.1930</td><td>0.02253341</td></tr>\n",
       "\t<tr><td>Tenocyte     </td><td>Young</td><td> 728</td><td>10595.0</td><td>27.0560</td><td>0.03048147</td></tr>\n",
       "</tbody>\n",
       "</table>\n"
      ],
      "text/latex": [
       "A grouped\\_df: 20 × 6\n",
       "\\begin{tabular}{llllll}\n",
       " celltype & Age & num & med\\_nfrag & med\\_tss & med\\_blklist\\\\\n",
       " <chr> & <chr> & <int> & <dbl> & <dbl> & <dbl>\\\\\n",
       "\\hline\n",
       "\t B Cell        & Aged  & 2103 & 20670.0 & 19.0530 & 0.02373838\\\\\n",
       "\t B Cell        & Young &  488 &  2207.5 & 27.9350 & 0.02405901\\\\\n",
       "\t Endothelial   & Aged  & 1674 &  6670.0 & 17.6875 & 0.02303322\\\\\n",
       "\t Endothelial   & Young & 2627 &  6287.0 & 25.7170 & 0.02390107\\\\\n",
       "\t Macrophage    & Aged  & 1279 & 15726.0 & 19.0490 & 0.02285852\\\\\n",
       "\t Macrophage    & Young &  379 &  8501.0 & 22.9930 & 0.02317798\\\\\n",
       "\t MSC           & Aged  & 2713 &  6384.0 & 22.6760 & 0.02050096\\\\\n",
       "\t MSC           & Young & 2472 &  7075.0 & 26.2295 & 0.02137217\\\\\n",
       "\t MuSC          & Aged  &  457 & 10350.0 & 18.9530 & 0.02362131\\\\\n",
       "\t MuSC          & Young &  540 &  3766.5 & 27.9435 & 0.02499256\\\\\n",
       "\t NK Cell       & Aged  & 1687 & 20258.0 & 20.6040 & 0.02524494\\\\\n",
       "\t NK Cell       & Young &  253 &  2294.0 & 25.3840 & 0.02408994\\\\\n",
       "\t Schwann Cell  & Aged  & 2584 &  3534.0 & 17.4950 & 0.02366736\\\\\n",
       "\t Schwann Cell  & Young & 1239 &  1601.0 & 19.7030 & 0.02313555\\\\\n",
       "\t Smooth Muscle & Aged  &  500 &  9753.5 & 19.3905 & 0.02135197\\\\\n",
       "\t Smooth Muscle & Young & 1810 & 11489.0 & 23.8180 & 0.02104353\\\\\n",
       "\t T Cell        & Aged  & 1125 & 20047.0 & 19.7360 & 0.02280010\\\\\n",
       "\t T Cell        & Young &   67 &  1956.0 & 22.8710 & 0.02496373\\\\\n",
       "\t Tenocyte      & Aged  &  205 &  9496.0 & 19.1930 & 0.02253341\\\\\n",
       "\t Tenocyte      & Young &  728 & 10595.0 & 27.0560 & 0.03048147\\\\\n",
       "\\end{tabular}\n"
      ],
      "text/markdown": [
       "\n",
       "A grouped_df: 20 × 6\n",
       "\n",
       "| celltype &lt;chr&gt; | Age &lt;chr&gt; | num &lt;int&gt; | med_nfrag &lt;dbl&gt; | med_tss &lt;dbl&gt; | med_blklist &lt;dbl&gt; |\n",
       "|---|---|---|---|---|---|\n",
       "| B Cell        | Aged  | 2103 | 20670.0 | 19.0530 | 0.02373838 |\n",
       "| B Cell        | Young |  488 |  2207.5 | 27.9350 | 0.02405901 |\n",
       "| Endothelial   | Aged  | 1674 |  6670.0 | 17.6875 | 0.02303322 |\n",
       "| Endothelial   | Young | 2627 |  6287.0 | 25.7170 | 0.02390107 |\n",
       "| Macrophage    | Aged  | 1279 | 15726.0 | 19.0490 | 0.02285852 |\n",
       "| Macrophage    | Young |  379 |  8501.0 | 22.9930 | 0.02317798 |\n",
       "| MSC           | Aged  | 2713 |  6384.0 | 22.6760 | 0.02050096 |\n",
       "| MSC           | Young | 2472 |  7075.0 | 26.2295 | 0.02137217 |\n",
       "| MuSC          | Aged  |  457 | 10350.0 | 18.9530 | 0.02362131 |\n",
       "| MuSC          | Young |  540 |  3766.5 | 27.9435 | 0.02499256 |\n",
       "| NK Cell       | Aged  | 1687 | 20258.0 | 20.6040 | 0.02524494 |\n",
       "| NK Cell       | Young |  253 |  2294.0 | 25.3840 | 0.02408994 |\n",
       "| Schwann Cell  | Aged  | 2584 |  3534.0 | 17.4950 | 0.02366736 |\n",
       "| Schwann Cell  | Young | 1239 |  1601.0 | 19.7030 | 0.02313555 |\n",
       "| Smooth Muscle | Aged  |  500 |  9753.5 | 19.3905 | 0.02135197 |\n",
       "| Smooth Muscle | Young | 1810 | 11489.0 | 23.8180 | 0.02104353 |\n",
       "| T Cell        | Aged  | 1125 | 20047.0 | 19.7360 | 0.02280010 |\n",
       "| T Cell        | Young |   67 |  1956.0 | 22.8710 | 0.02496373 |\n",
       "| Tenocyte      | Aged  |  205 |  9496.0 | 19.1930 | 0.02253341 |\n",
       "| Tenocyte      | Young |  728 | 10595.0 | 27.0560 | 0.03048147 |\n",
       "\n"
      ],
      "text/plain": [
       "   celltype      Age   num  med_nfrag med_tss med_blklist\n",
       "1  B Cell        Aged  2103 20670.0   19.0530 0.02373838 \n",
       "2  B Cell        Young  488  2207.5   27.9350 0.02405901 \n",
       "3  Endothelial   Aged  1674  6670.0   17.6875 0.02303322 \n",
       "4  Endothelial   Young 2627  6287.0   25.7170 0.02390107 \n",
       "5  Macrophage    Aged  1279 15726.0   19.0490 0.02285852 \n",
       "6  Macrophage    Young  379  8501.0   22.9930 0.02317798 \n",
       "7  MSC           Aged  2713  6384.0   22.6760 0.02050096 \n",
       "8  MSC           Young 2472  7075.0   26.2295 0.02137217 \n",
       "9  MuSC          Aged   457 10350.0   18.9530 0.02362131 \n",
       "10 MuSC          Young  540  3766.5   27.9435 0.02499256 \n",
       "11 NK Cell       Aged  1687 20258.0   20.6040 0.02524494 \n",
       "12 NK Cell       Young  253  2294.0   25.3840 0.02408994 \n",
       "13 Schwann Cell  Aged  2584  3534.0   17.4950 0.02366736 \n",
       "14 Schwann Cell  Young 1239  1601.0   19.7030 0.02313555 \n",
       "15 Smooth Muscle Aged   500  9753.5   19.3905 0.02135197 \n",
       "16 Smooth Muscle Young 1810 11489.0   23.8180 0.02104353 \n",
       "17 T Cell        Aged  1125 20047.0   19.7360 0.02280010 \n",
       "18 T Cell        Young   67  1956.0   22.8710 0.02496373 \n",
       "19 Tenocyte      Aged   205  9496.0   19.1930 0.02253341 \n",
       "20 Tenocyte      Young  728 10595.0   27.0560 0.03048147 "
      ]
     },
     "metadata": {},
     "output_type": "display_data"
    }
   ],
   "source": [
    "projAging4@cellColData %>% as.data.frame() %>% group_by(celltype, Age) %>% summarise(num = n(), med_nfrag = median(nFrags), med_tss = median(TSSEnrichment), med_blklist = median(BlacklistRatio)) "
   ]
  },
  {
   "cell_type": "code",
   "execution_count": 151,
   "metadata": {},
   "outputs": [
    {
     "data": {
      "text/html": [
       "<table class=\"dataframe\">\n",
       "<caption>A tibble: 2 × 5</caption>\n",
       "<thead>\n",
       "\t<tr><th scope=col>Age</th><th scope=col>num</th><th scope=col>med_nfrag</th><th scope=col>med_tss</th><th scope=col>med_blklist</th></tr>\n",
       "\t<tr><th scope=col>&lt;chr&gt;</th><th scope=col>&lt;int&gt;</th><th scope=col>&lt;dbl&gt;</th><th scope=col>&lt;dbl&gt;</th><th scope=col>&lt;dbl&gt;</th></tr>\n",
       "</thead>\n",
       "<tbody>\n",
       "\t<tr><td>Aged </td><td>14327</td><td>10016</td><td>19.407</td><td>0.02299889</td></tr>\n",
       "\t<tr><td>Young</td><td>10603</td><td> 5451</td><td>25.149</td><td>0.02278177</td></tr>\n",
       "</tbody>\n",
       "</table>\n"
      ],
      "text/latex": [
       "A tibble: 2 × 5\n",
       "\\begin{tabular}{lllll}\n",
       " Age & num & med\\_nfrag & med\\_tss & med\\_blklist\\\\\n",
       " <chr> & <int> & <dbl> & <dbl> & <dbl>\\\\\n",
       "\\hline\n",
       "\t Aged  & 14327 & 10016 & 19.407 & 0.02299889\\\\\n",
       "\t Young & 10603 &  5451 & 25.149 & 0.02278177\\\\\n",
       "\\end{tabular}\n"
      ],
      "text/markdown": [
       "\n",
       "A tibble: 2 × 5\n",
       "\n",
       "| Age &lt;chr&gt; | num &lt;int&gt; | med_nfrag &lt;dbl&gt; | med_tss &lt;dbl&gt; | med_blklist &lt;dbl&gt; |\n",
       "|---|---|---|---|---|\n",
       "| Aged  | 14327 | 10016 | 19.407 | 0.02299889 |\n",
       "| Young | 10603 |  5451 | 25.149 | 0.02278177 |\n",
       "\n"
      ],
      "text/plain": [
       "  Age   num   med_nfrag med_tss med_blklist\n",
       "1 Aged  14327 10016     19.407  0.02299889 \n",
       "2 Young 10603  5451     25.149  0.02278177 "
      ]
     },
     "metadata": {},
     "output_type": "display_data"
    }
   ],
   "source": [
    "projAging4@cellColData %>% as.data.frame() %>% group_by(Age) %>% summarise(num = n(), med_nfrag = median(nFrags), med_tss = median(TSSEnrichment), med_blklist = median(BlacklistRatio)) "
   ]
  },
  {
   "cell_type": "code",
   "execution_count": 141,
   "metadata": {
    "scrolled": true,
    "tags": []
   },
   "outputs": [
    {
     "name": "stderr",
     "output_type": "stream",
     "text": [
      "Copying ArchRProject to new outputDirectory : /nas/homes/benyang/HiC/13_MultiOme/ArchR_analysis/Save-projAging4-01\n",
      "\n",
      "Copying Arrow Files...\n",
      "\n",
      "Copying Arrow Files (1 of 4)\n",
      "\n",
      "Copying Arrow Files (2 of 4)\n",
      "\n",
      "Copying Arrow Files (3 of 4)\n",
      "\n",
      "Copying Arrow Files (4 of 4)\n",
      "\n",
      "Getting ImputeWeights\n",
      "\n",
      "No imputeWeights found, returning NULL\n",
      "\n",
      "Copying Other Files...\n",
      "\n",
      "Copying Other Files (1 of 22): Aged\n",
      "\n",
      "Copying Other Files (2 of 22): Aged_v2\n",
      "\n",
      "Copying Other Files (3 of 22): Embeddings\n",
      "\n",
      "Copying Other Files (4 of 22): Harmony_4iter_Clusters_res0.2_cluster_markersGS.RDS\n",
      "\n",
      "Copying Other Files (5 of 22): Harmony_Age_Clusters_res0.3_cluster_markersGS.RDS\n",
      "\n",
      "Copying Other Files (6 of 22): IterativeLSI\n",
      "\n",
      "Copying Other Files (7 of 22): IterativeLSI_4iter\n",
      "\n",
      "Copying Other Files (8 of 22): IterativeLSI_4iter_10kvar\n",
      "\n",
      "Copying Other Files (9 of 22): New_Harmony_4iter_Clusters_res0.2_cluster_markersGS.RDS\n",
      "\n",
      "Copying Other Files (10 of 22): Plots\n",
      "\n",
      "Copying Other Files (11 of 22): projAging1-01.RDS\n",
      "\n",
      "Copying Other Files (12 of 22): projAging2-01-doubScores.RDS\n",
      "\n",
      "Copying Other Files (13 of 22): projAging2-01-filtered.RDS\n",
      "\n",
      "Copying Other Files (14 of 22): projAging2-01.RDS\n",
      "\n",
      "Copying Other Files (15 of 22): projAging3-01-scoreMat.RDS\n",
      "\n",
      "Copying Other Files (16 of 22): projAging3-01.RDS\n",
      "\n",
      "Copying Other Files (17 of 22): QualityControl\n",
      "\n",
      "Copying Other Files (18 of 22): RNAIntegration\n",
      "\n",
      "Copying Other Files (19 of 22): Save-projAging1-01\n",
      "\n",
      "Copying Other Files (20 of 22): tmp.png\n",
      "\n",
      "Copying Other Files (21 of 22): Young\n",
      "\n",
      "Copying Other Files (22 of 22): Young_v2\n",
      "\n",
      "Saving ArchRProject...\n",
      "\n"
     ]
    }
   ],
   "source": [
    "saveArchRProject(ArchRProj = projAging4, outputDirectory = file.path(projdir,\"Save-projAging4-01\"), load = FALSE)\n",
    "#projAging4 <- readRDS(file.path(projdir, \"Save-projAging4-01\", \"Save-ArchR-Project.rds\"))"
   ]
  },
  {
   "cell_type": "code",
   "execution_count": 5,
   "metadata": {},
   "outputs": [],
   "source": [
    "projAging4 <- readRDS(file.path(projdir, \"Save-projAging4-01\", \"Save-ArchR-Project.rds\"))"
   ]
  },
  {
   "cell_type": "markdown",
   "metadata": {},
   "source": [
    "# Make UMAP plots"
   ]
  },
  {
   "cell_type": "markdown",
   "metadata": {},
   "source": [
    "## RNA integration"
   ]
  },
  {
   "cell_type": "code",
   "execution_count": 6,
   "metadata": {},
   "outputs": [
    {
     "data": {
      "text/html": [
       "<style>\n",
       ".list-inline {list-style: none; margin:0; padding: 0}\n",
       ".list-inline>li {display: inline-block}\n",
       ".list-inline>li:not(:last-child)::after {content: \"\\00b7\"; padding: 0 .5ex}\n",
       "</style>\n",
       "<ol class=list-inline><li>'GeneScoreMatrix'</li><li>'TileMatrix'</li></ol>\n"
      ],
      "text/latex": [
       "\\begin{enumerate*}\n",
       "\\item 'GeneScoreMatrix'\n",
       "\\item 'TileMatrix'\n",
       "\\end{enumerate*}\n"
      ],
      "text/markdown": [
       "1. 'GeneScoreMatrix'\n",
       "2. 'TileMatrix'\n",
       "\n",
       "\n"
      ],
      "text/plain": [
       "[1] \"GeneScoreMatrix\" \"TileMatrix\"     "
      ]
     },
     "metadata": {},
     "output_type": "display_data"
    }
   ],
   "source": [
    "getAvailableMatrices(projAging4)"
   ]
  },
  {
   "cell_type": "code",
   "execution_count": 5,
   "metadata": {},
   "outputs": [],
   "source": [
    "projAging4 <- readRDS(file.path(projdir,\"Save-projAging4-01\",'Save-ArchR-Project.rds'))"
   ]
  },
  {
   "cell_type": "code",
   "execution_count": 12,
   "metadata": {
    "scrolled": true,
    "tags": []
   },
   "outputs": [
    {
     "name": "stderr",
     "output_type": "stream",
     "text": [
      "Getting ImputeWeights\n",
      "\n",
      "No imputeWeights found, returning NULL\n",
      "\n",
      "ArchR logging to : ArchRLogs/ArchR-plotEmbedding-214e58c6315c-Date-2022-12-24_Time-00-38-28.log\n",
      "If there is an issue, please report to github with logFile!\n",
      "\n",
      "Getting UMAP Embedding\n",
      "\n",
      "ColorBy = Harmony_4iter_GeneIntegrationMatrix\n",
      "\n",
      "Getting Matrix Values...\n",
      "\n",
      "2022-12-24 00:38:29 : \n",
      "\n",
      "\n",
      "\n",
      "Plotting Embedding\n",
      "\n",
      "1 \n",
      "2 \n",
      "3 \n",
      "4 \n",
      "5 \n",
      "6 \n",
      "7 \n",
      "8 \n",
      "9 \n",
      "10 \n",
      "11 \n",
      "12 \n",
      "13 \n",
      "14 \n",
      "15 \n",
      "16 \n",
      "17 \n",
      "18 \n",
      "19 \n",
      "20 \n",
      "21 \n",
      "22 \n",
      "23 \n",
      "24 \n",
      "25 \n",
      "26 \n",
      "27 \n",
      "28 \n",
      "29 \n",
      "30 \n",
      "\n",
      "\n",
      "ArchR logging successful to : ArchRLogs/ArchR-plotEmbedding-214e58c6315c-Date-2022-12-24_Time-00-38-28.log\n",
      "\n"
     ]
    }
   ],
   "source": [
    "rna_plt <- plotEmbedding(projAging4, embedding = 'UMAP_Harmony_4iter', \n",
    "              pal = paletteContinuous(set = \"horizonExtra\", n = 256, reverse = FALSE),\n",
    "              colorBy = \"Harmony_4iter_GeneIntegrationMatrix\", \n",
    "              name = gene_list) "
   ]
  },
  {
   "cell_type": "code",
   "execution_count": 15,
   "metadata": {},
   "outputs": [
    {
     "data": {
      "text/html": [
       "7"
      ],
      "text/latex": [
       "7"
      ],
      "text/markdown": [
       "7"
      ],
      "text/plain": [
       "[1] 7"
      ]
     },
     "metadata": {},
     "output_type": "display_data"
    }
   ],
   "source": [
    "which(gene_list=='Pax7')"
   ]
  },
  {
   "cell_type": "code",
   "execution_count": 14,
   "metadata": {
    "scrolled": true,
    "tags": []
   },
   "outputs": [
    {
     "name": "stderr",
     "output_type": "stream",
     "text": [
      "Plotting Ggplot!\n",
      "\n",
      "Plotting Ggplot!\n",
      "\n",
      "Plotting Ggplot!\n",
      "\n",
      "Plotting Ggplot!\n",
      "\n",
      "Plotting Ggplot!\n",
      "\n",
      "Plotting Ggplot!\n",
      "\n",
      "Plotting Ggplot!\n",
      "\n",
      "Plotting Ggplot!\n",
      "\n",
      "Plotting Ggplot!\n",
      "\n",
      "Plotting Ggplot!\n",
      "\n",
      "Plotting Ggplot!\n",
      "\n",
      "Plotting Ggplot!\n",
      "\n",
      "Plotting Ggplot!\n",
      "\n",
      "Plotting Ggplot!\n",
      "\n",
      "Plotting Ggplot!\n",
      "\n",
      "Plotting Ggplot!\n",
      "\n",
      "Plotting Ggplot!\n",
      "\n",
      "Plotting Ggplot!\n",
      "\n",
      "Plotting Ggplot!\n",
      "\n",
      "Plotting Ggplot!\n",
      "\n",
      "Plotting Ggplot!\n",
      "\n",
      "Plotting Ggplot!\n",
      "\n",
      "Plotting Ggplot!\n",
      "\n",
      "Plotting Ggplot!\n",
      "\n",
      "Plotting Ggplot!\n",
      "\n",
      "Plotting Ggplot!\n",
      "\n",
      "Plotting Ggplot!\n",
      "\n",
      "Plotting Ggplot!\n",
      "\n",
      "Plotting Ggplot!\n",
      "\n",
      "Plotting Ggplot!\n",
      "\n"
     ]
    }
   ],
   "source": [
    "plotPDF(plotList = rna_plt, \n",
    "    name = \"Plot-UMAP-Marker-Gene-Expression-Harmony-4iter.pdf\", \n",
    "    ArchRProj = projAging4, \n",
    "    addDOC = FALSE, width = 4, height = 4)"
   ]
  },
  {
   "cell_type": "markdown",
   "metadata": {},
   "source": [
    "## Cell type clustering"
   ]
  },
  {
   "cell_type": "code",
   "execution_count": 7,
   "metadata": {},
   "outputs": [
    {
     "name": "stderr",
     "output_type": "stream",
     "text": [
      "ArchR logging to : ArchRLogs/ArchR-plotEmbedding-4a3956c9a6a-Date-2022-12-25_Time-23-02-07.log\n",
      "If there is an issue, please report to github with logFile!\n",
      "\n",
      "Getting UMAP Embedding\n",
      "\n",
      "ColorBy = cellColData\n",
      "\n",
      "Plotting Embedding\n",
      "\n",
      "1 \n",
      "\n",
      "\n",
      "ArchR logging successful to : ArchRLogs/ArchR-plotEmbedding-4a3956c9a6a-Date-2022-12-25_Time-23-02-07.log\n",
      "\n"
     ]
    }
   ],
   "source": [
    "celltype_plt <- plotEmbedding(projAging4, embedding = 'UMAP_Harmony_4iter',\n",
    "                              colorBy = \"cellColData\",\n",
    "                              name = 'celltype') "
   ]
  },
  {
   "cell_type": "code",
   "execution_count": 10,
   "metadata": {},
   "outputs": [
    {
     "name": "stderr",
     "output_type": "stream",
     "text": [
      "Plotting Ggplot!\n",
      "\n"
     ]
    },
    {
     "data": {
      "image/png": "[encoded data removed]",
      "text/plain": [
       "plot without title"
      ]
     },
     "metadata": {
      "image/png": {
       "height": 420,
       "width": 420
      }
     },
     "output_type": "display_data"
    }
   ],
   "source": [
    "celltype_plt\n",
    "\n",
    "plotPDF(celltype_plt, \n",
    "    name = \"Plot-UMAP-celltype-Harmony-4iter.pdf\", \n",
    "    ArchRProj = projAging4, \n",
    "    addDOC = FALSE, width = 4, height = 4)"
   ]
  }
 ],
 "metadata": {
  "kernelspec": {
   "display_name": "R",
   "language": "R",
   "name": "ir"
  },
  "language_info": {
   "codemirror_mode": "r",
   "file_extension": ".r",
   "mimetype": "text/x-r-source",
   "name": "R",
   "pygments_lexer": "r",
   "version": "4.2.1"
  },
  "toc-autonumbering": true
 },
 "nbformat": 4,
 "nbformat_minor": 4
}
