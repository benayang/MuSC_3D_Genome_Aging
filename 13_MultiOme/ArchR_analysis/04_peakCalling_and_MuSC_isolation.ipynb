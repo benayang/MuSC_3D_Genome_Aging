{
 "cells": [
  {
   "cell_type": "code",
   "execution_count": 9,
   "id": "981f1176-384c-476e-bff0-0b867356d3ec",
   "metadata": {
    "scrolled": true,
    "tags": []
   },
   "outputs": [
    {
     "name": "stderr",
     "output_type": "stream",
     "text": [
      "========================================\n",
      "ComplexHeatmap version 2.12.1\n",
      "Bioconductor page: http://bioconductor.org/packages/ComplexHeatmap/\n",
      "Github page: https://github.com/jokergoo/ComplexHeatmap\n",
      "Documentation: http://jokergoo.github.io/ComplexHeatmap-reference\n",
      "\n",
      "If you use it in published research, please cite either one:\n",
      "- Gu, Z. Complex heatmaps reveal patterns and correlations in multidimensional \n",
      "    genomic data. Bioinformatics 2016.\n",
      "- Gu, Z. Complex Heatmap Visualization. iMeta 2022.\n",
      "\n",
      "\n",
      "The new InteractiveComplexHeatmap package can directly export static \n",
      "complex heatmaps into an interactive Shiny app with zero effort. Have a try!\n",
      "\n",
      "This message can be suppressed by:\n",
      "  suppressPackageStartupMessages(library(ComplexHeatmap))\n",
      "========================================\n",
      "\n",
      "\n"
     ]
    }
   ],
   "source": [
    "library(ArchR)\n",
    "library(Seurat)\n",
    "library(dplyr)\n",
    "library(tidyr)\n",
    "library(parallel)\n",
    "library(ComplexHeatmap)\n",
    "library(BSgenome.Mmusculus.UCSC.mm10)"
   ]
  },
  {
   "cell_type": "code",
   "execution_count": 2,
   "id": "4e6068b4-0c9c-4288-82e9-6fab896dce72",
   "metadata": {},
   "outputs": [
    {
     "name": "stderr",
     "output_type": "stream",
     "text": [
      "Setting default genome to Mm10.\n",
      "\n",
      "Setting default number of Parallel threads to 45.\n",
      "\n"
     ]
    }
   ],
   "source": [
    "projdir <- '/nas/homes/benyang/HiC/13_MultiOme/ArchR_analysis'\n",
    "\n",
    "addArchRGenome(\"mm10\")\n",
    "addArchRThreads(threads = 45) \n",
    "\n",
    "projAging4 <- readRDS(file.path(projdir, \"Save-projAging4-01\", \"Save-ArchR-Project.rds\"))"
   ]
  },
  {
   "cell_type": "code",
   "execution_count": 3,
   "id": "6b3c1057-65d7-446b-8715-ee7376b36bd5",
   "metadata": {
    "scrolled": true,
    "tags": []
   },
   "outputs": [
    {
     "name": "stderr",
     "output_type": "stream",
     "text": [
      "Loading required package: MASS\n",
      "\n",
      "\n",
      "Attaching package: ‘MASS’\n",
      "\n",
      "\n",
      "The following object is masked from ‘package:dplyr’:\n",
      "\n",
      "    select\n",
      "\n",
      "\n",
      "Loading required package: mclust\n",
      "\n",
      "Package 'mclust' version 6.0.0\n",
      "Type 'citation(\"mclust\")' for citing this R package in publications.\n",
      "\n",
      "Loading required package: ChIPseeker\n",
      "\n",
      "\n",
      "\n",
      "ChIPseeker v1.32.1  For help: https://guangchuangyu.github.io/software/ChIPseeker\n",
      "\n",
      "If you use ChIPseeker in published research, please cite:\n",
      "Guangchuang Yu, Li-Gen Wang, Qing-Yu He. ChIPseeker: an R/Bioconductor package for ChIP peak annotation, comparison and visualization. Bioinformatics 2015, 31(14):2382-2383\n",
      "\n",
      "\n",
      "Attaching package: ‘ChIPseeker’\n",
      "\n",
      "\n",
      "The following object is masked from ‘package:plyr’:\n",
      "\n",
      "    .\n",
      "\n",
      "\n",
      "Loading required package: TxDb.Mmusculus.UCSC.mm10.knownGene\n",
      "\n",
      "Loading required package: GenomicFeatures\n",
      "\n",
      "Loading required package: AnnotationDbi\n",
      "\n",
      "\n",
      "Attaching package: ‘AnnotationDbi’\n",
      "\n",
      "\n",
      "The following object is masked from ‘package:MASS’:\n",
      "\n",
      "    select\n",
      "\n",
      "\n",
      "The following object is masked from ‘package:dplyr’:\n",
      "\n",
      "    select\n",
      "\n",
      "\n",
      "Loading required package: GenomicInteractions\n",
      "\n",
      "Loading required package: InteractionSet\n",
      "\n",
      "Loading required package: doParallel\n",
      "\n",
      "Loading required package: foreach\n",
      "\n",
      "Loading required package: iterators\n",
      "\n",
      "Loading required package: maxmatching\n",
      "\n"
     ]
    }
   ],
   "source": [
    "source(file.path(projdir, 'ArchR_utilities.R'))"
   ]
  },
  {
   "cell_type": "markdown",
   "id": "581f6f43-edab-4bc2-94d1-81c0e3ae6127",
   "metadata": {},
   "source": [
    "# Group coverages per cell type"
   ]
  },
  {
   "cell_type": "code",
   "execution_count": 4,
   "id": "d8f9aacc-da0b-4991-b11a-bf9ffe9c992b",
   "metadata": {
    "scrolled": true,
    "tags": []
   },
   "outputs": [
    {
     "name": "stderr",
     "output_type": "stream",
     "text": [
      "ArchR logging to : ArchRLogs/ArchR-addGroupCoverages-259b417a2cf9-Date-2022-12-23_Time-16-05-08.log\n",
      "If there is an issue, please report to github with logFile!\n",
      "\n",
      "B Cell (1 of 10) : CellGroups N = 4\n",
      "\n",
      "Endothelial (2 of 10) : CellGroups N = 4\n",
      "\n",
      "Macrophage (3 of 10) : CellGroups N = 4\n",
      "\n",
      "MSC (4 of 10) : CellGroups N = 4\n",
      "\n",
      "MuSC (5 of 10) : CellGroups N = 4\n",
      "\n",
      "NK Cell (6 of 10) : CellGroups N = 3\n",
      "\n",
      "Schwann Cell (7 of 10) : CellGroups N = 4\n",
      "\n",
      "Smooth Muscle (8 of 10) : CellGroups N = 4\n",
      "\n",
      "T Cell (9 of 10) : CellGroups N = 3\n",
      "\n",
      "Tenocyte (10 of 10) : CellGroups N = 4\n",
      "\n",
      "2022-12-23 16:05:22 : Creating Coverage Files!, 0.227 mins elapsed.\n",
      "\n",
      "2022-12-23 16:05:22 : Batch Execution w/ safelapply!, 0.227 mins elapsed.\n",
      "\n",
      "2022-12-23 16:06:46 : Adding Kmer Bias to Coverage Files!, 1.636 mins elapsed.\n",
      "\n",
      "Completed Kmer Bias Calculation\n",
      "\n",
      "Adding Kmer Bias (1 of 38)\n",
      "\n",
      "Adding Kmer Bias (2 of 38)\n",
      "\n",
      "Adding Kmer Bias (3 of 38)\n",
      "\n",
      "Adding Kmer Bias (4 of 38)\n",
      "\n",
      "Adding Kmer Bias (5 of 38)\n",
      "\n",
      "Adding Kmer Bias (6 of 38)\n",
      "\n",
      "Adding Kmer Bias (7 of 38)\n",
      "\n",
      "Adding Kmer Bias (8 of 38)\n",
      "\n",
      "Adding Kmer Bias (9 of 38)\n",
      "\n",
      "Adding Kmer Bias (10 of 38)\n",
      "\n",
      "Adding Kmer Bias (11 of 38)\n",
      "\n",
      "Adding Kmer Bias (12 of 38)\n",
      "\n",
      "Adding Kmer Bias (13 of 38)\n",
      "\n",
      "Adding Kmer Bias (14 of 38)\n",
      "\n",
      "Adding Kmer Bias (15 of 38)\n",
      "\n",
      "Adding Kmer Bias (16 of 38)\n",
      "\n",
      "Adding Kmer Bias (17 of 38)\n",
      "\n",
      "Adding Kmer Bias (18 of 38)\n",
      "\n",
      "Adding Kmer Bias (19 of 38)\n",
      "\n",
      "Adding Kmer Bias (20 of 38)\n",
      "\n",
      "Adding Kmer Bias (21 of 38)\n",
      "\n",
      "Adding Kmer Bias (22 of 38)\n",
      "\n",
      "Adding Kmer Bias (23 of 38)\n",
      "\n",
      "Adding Kmer Bias (24 of 38)\n",
      "\n",
      "Adding Kmer Bias (25 of 38)\n",
      "\n",
      "Adding Kmer Bias (26 of 38)\n",
      "\n",
      "Adding Kmer Bias (27 of 38)\n",
      "\n",
      "Adding Kmer Bias (28 of 38)\n",
      "\n",
      "Adding Kmer Bias (29 of 38)\n",
      "\n",
      "Adding Kmer Bias (30 of 38)\n",
      "\n",
      "Adding Kmer Bias (31 of 38)\n",
      "\n",
      "Adding Kmer Bias (32 of 38)\n",
      "\n",
      "Adding Kmer Bias (33 of 38)\n",
      "\n",
      "Adding Kmer Bias (34 of 38)\n",
      "\n",
      "Adding Kmer Bias (35 of 38)\n",
      "\n",
      "Adding Kmer Bias (36 of 38)\n",
      "\n",
      "Adding Kmer Bias (37 of 38)\n",
      "\n",
      "Adding Kmer Bias (38 of 38)\n",
      "\n",
      "2022-12-23 16:08:18 : Finished Creation of Coverage Files!, 3.166 mins elapsed.\n",
      "\n",
      "ArchR logging successful to : ArchRLogs/ArchR-addGroupCoverages-259b417a2cf9-Date-2022-12-23_Time-16-05-08.log\n",
      "\n"
     ]
    }
   ],
   "source": [
    "projAging4 <- addGroupCoverages(ArchRProj = projAging4, groupBy = \"celltype\", minCells = 50, maxCells=500, minReplicates = 3, maxReplicates=6)"
   ]
  },
  {
   "cell_type": "code",
   "execution_count": 5,
   "id": "23fd6971-ed2e-45b2-97f1-f4758cce07d0",
   "metadata": {},
   "outputs": [
    {
     "name": "stderr",
     "output_type": "stream",
     "text": [
      "Searching For MACS2..\n",
      "\n",
      "Found with $path!\n",
      "\n"
     ]
    }
   ],
   "source": [
    "pathToMacs2 <- findMacs2()"
   ]
  },
  {
   "cell_type": "markdown",
   "id": "b175e9c6-5213-4799-86bd-77d5f3c09bd8",
   "metadata": {},
   "source": [
    "## Add peak set"
   ]
  },
  {
   "cell_type": "code",
   "execution_count": 6,
   "id": "a72eedf6-849a-4dfa-a17c-291ebb09e6dc",
   "metadata": {
    "scrolled": true,
    "tags": []
   },
   "outputs": [
    {
     "name": "stderr",
     "output_type": "stream",
     "text": [
      "ArchR logging to : ArchRLogs/ArchR-addReproduciblePeakSet-259b7d7def6a-Date-2022-12-23_Time-16-08-19.log\n",
      "If there is an issue, please report to github with logFile!\n",
      "\n",
      "Calling Peaks with Macs2\n",
      "\n",
      "2022-12-23 16:08:19 : Peak Calling Parameters!, 0.009 mins elapsed.\n",
      "\n"
     ]
    },
    {
     "name": "stdout",
     "output_type": "stream",
     "text": [
      "                      Group nCells nCellsUsed nReplicates nMin nMax maxPeaks\n",
      "B Cell               B Cell   2591       1256           4   81  500   150000\n",
      "Endothelial     Endothelial   4301       2000           4  500  500   150000\n",
      "Macrophage       Macrophage   1658        959           4   80  500   150000\n",
      "MSC                     MSC   5185       2000           4  500  500   150000\n",
      "MuSC                   MuSC    997        997           4  191  289   150000\n",
      "NK Cell             NK Cell   1940        845           3  138  500   150000\n",
      "Schwann Cell   Schwann Cell   3823       1985           4  485  500   150000\n",
      "Smooth Muscle Smooth Muscle   2310       1500           4  245  500   150000\n",
      "T Cell               T Cell   1192        621           3   55  500   150000\n",
      "Tenocyte           Tenocyte    933        933           4   96  499   150000\n"
     ]
    },
    {
     "name": "stderr",
     "output_type": "stream",
     "text": [
      "2022-12-23 16:08:19 : Batching Peak Calls!, 0.01 mins elapsed.\n",
      "\n",
      "2022-12-23 16:08:19 : Batch Execution w/ safelapply!, 0 mins elapsed.\n",
      "\n",
      "2022-12-23 16:11:36 : Identifying Reproducible Peaks!, 3.293 mins elapsed.\n",
      "\n",
      "2022-12-23 16:11:50 : Creating Union Peak Set!, 3.529 mins elapsed.\n",
      "\n",
      "Converged after 10 iterations!\n",
      "\n",
      "Plotting Ggplot!\n",
      "\n",
      "2022-12-23 16:12:01 : Finished Creating Union Peak Set (213488)!, 3.698 mins elapsed.\n",
      "\n"
     ]
    }
   ],
   "source": [
    "projAging5 <- addReproduciblePeakSet(\n",
    "    ArchRProj = projAging4, \n",
    "    groupBy = \"celltype\", \n",
    "    pathToMacs2 = pathToMacs2\n",
    ")"
   ]
  },
  {
   "cell_type": "code",
   "execution_count": 9,
   "id": "6f1f7546-5c73-482d-bb9f-5fb7c51fcd1e",
   "metadata": {
    "scrolled": true,
    "tags": []
   },
   "outputs": [
    {
     "data": {
      "text/plain": [
       "GRanges object with 213488 ranges and 13 metadata columns:\n",
       "                seqnames              ranges strand |     score\n",
       "                   <Rle>           <IRanges>  <Rle> | <numeric>\n",
       "  Smooth Muscle     chr1     3119787-3120287      * |  23.47013\n",
       "            MSC     chr1     3120300-3120800      * |   2.87557\n",
       "  Smooth Muscle     chr1     3121291-3121791      * |  13.20154\n",
       "    Endothelial     chr1     3670793-3671293      * |  26.59403\n",
       "            MSC     chr1     3671406-3671906      * |  66.96361\n",
       "            ...      ...                 ...    ... .       ...\n",
       "            MSC     chrX 169898939-169899439      * |   2.87543\n",
       "    Endothelial     chrX 169899514-169900014      * |   2.11086\n",
       "    Endothelial     chrX 169909808-169910308      * |  15.19923\n",
       "    Endothelial     chrX 169915870-169916370      * |   4.08275\n",
       "    Endothelial     chrX 169936780-169937280      * |   5.15871\n",
       "                replicateScoreQuantile groupScoreQuantile Reproducibility\n",
       "                             <numeric>          <numeric>       <numeric>\n",
       "  Smooth Muscle                  0.646              0.517               3\n",
       "            MSC                  0.120              0.022               2\n",
       "  Smooth Muscle                  0.583              0.430               3\n",
       "    Endothelial                  0.754              0.687               2\n",
       "            MSC                  0.887              0.843               4\n",
       "            ...                    ...                ...             ...\n",
       "            MSC                  0.121              0.029               2\n",
       "    Endothelial                  0.043              0.005               2\n",
       "    Endothelial                  0.486              0.312               2\n",
       "    Endothelial                  0.214              0.068               2\n",
       "    Endothelial                  0.296              0.123               2\n",
       "                        GroupReplicate distToGeneStart   nearestGene\n",
       "                           <character>       <integer>   <character>\n",
       "  Smooth Muscle  Smooth Muscle._.Young          551460          Xkr4\n",
       "            MSC          MSC._.Aged_v2          550947          Xkr4\n",
       "  Smooth Muscle Smooth Muscle._.Aged..          549956          Xkr4\n",
       "    Endothelial     Endothelial._.Aged             454          Xkr4\n",
       "            MSC             MSC._.Aged             157          Xkr4\n",
       "            ...                    ...             ...           ...\n",
       "            MSC            MSC._.Young          119553 4933400A11Rik\n",
       "    Endothelial Endothelial._.Young_v2          120128 4933400A11Rik\n",
       "    Endothelial    Endothelial._.Young          130422 4933400A11Rik\n",
       "    Endothelial Endothelial._.Young_v2          136484 4933400A11Rik\n",
       "    Endothelial Endothelial._.Young_v2          157394 4933400A11Rik\n",
       "                   peakType distToTSS  nearestTSS        GC       idx         N\n",
       "                <character> <integer> <character> <numeric> <integer> <numeric>\n",
       "  Smooth Muscle      Distal     95594  uc007aet.1    0.3713         1         0\n",
       "            MSC      Distal     95081  uc007aet.1    0.3792         2         0\n",
       "  Smooth Muscle      Distal     94090  uc007aet.1    0.4491         3         0\n",
       "    Endothelial      Exonic       454  uc007aeu.1    0.7006         4         0\n",
       "            MSC    Promoter       157  uc007aeu.1    0.7864         5         0\n",
       "            ...         ...       ...         ...       ...       ...       ...\n",
       "            MSC    Intronic     19569  uc029xol.2    0.4172      3389         0\n",
       "    Endothelial    Intronic     20144  uc029xol.2    0.3014      3390         0\n",
       "    Endothelial    Intronic     16895  uc009uyf.1    0.4032      3391         0\n",
       "    Endothelial    Intronic     10833  uc009uyf.1    0.5130      3392         0\n",
       "    Endothelial    Intronic     10075  uc009uyf.1    0.4351      3393         0\n",
       "  -------\n",
       "  seqinfo: 20 sequences from an unspecified genome; no seqlengths"
      ]
     },
     "metadata": {},
     "output_type": "display_data"
    }
   ],
   "source": [
    "getPeakSet(projAging5)"
   ]
  },
  {
   "cell_type": "markdown",
   "id": "915afb10-3330-4e4c-a420-fb8a66b35d85",
   "metadata": {},
   "source": [
    "## Add peaks to object"
   ]
  },
  {
   "cell_type": "code",
   "execution_count": 12,
   "id": "29ff6dc0-d557-4fa5-84af-12f535f8828e",
   "metadata": {
    "scrolled": true,
    "tags": []
   },
   "outputs": [
    {
     "name": "stderr",
     "output_type": "stream",
     "text": [
      "ArchR logging to : ArchRLogs/ArchR-addPeakMatrix-259b3cdd9c60-Date-2022-12-23_Time-16-13-47.log\n",
      "If there is an issue, please report to github with logFile!\n",
      "\n",
      "2022-12-23 16:13:48 : Batch Execution w/ safelapply!, 0 mins elapsed.\n",
      "\n",
      "ArchR logging successful to : ArchRLogs/ArchR-addPeakMatrix-259b3cdd9c60-Date-2022-12-23_Time-16-13-47.log\n",
      "\n"
     ]
    }
   ],
   "source": [
    "projAging5 <- addPeakMatrix(projAging5)"
   ]
  },
  {
   "cell_type": "markdown",
   "id": "b20a37c2-83d4-4c73-a3e7-814d5e5b680e",
   "metadata": {},
   "source": [
    "## Marker Features and heatmap"
   ]
  },
  {
   "cell_type": "code",
   "execution_count": 5,
   "id": "137ffc3a-a119-4fb8-84ba-86739a74f6cf",
   "metadata": {},
   "outputs": [
    {
     "name": "stderr",
     "output_type": "stream",
     "text": [
      "ArchR logging to : ArchRLogs/ArchR-getMarkerFeatures-f4b96da378f4-Date-2022-12-25_Time-22-11-34.log\n",
      "If there is an issue, please report to github with logFile!\n",
      "\n",
      "MatrixClass = Sparse.Integer.Matrix\n",
      "\n",
      "2022-12-25 22:11:36 : Matching Known Biases, 0.018 mins elapsed.\n",
      "\n",
      "###########\n",
      "2022-12-25 22:14:52 : Completed Pairwise Tests, 3.291 mins elapsed.\n",
      "###########\n",
      "\n",
      "ArchR logging successful to : ArchRLogs/ArchR-getMarkerFeatures-f4b96da378f4-Date-2022-12-25_Time-22-11-34.log\n",
      "\n"
     ]
    }
   ],
   "source": [
    "markersPeaks <- getMarkerFeatures(\n",
    "    ArchRProj = projAging5, \n",
    "    useMatrix = \"PeakMatrix\", \n",
    "    groupBy = \"celltype\",\n",
    "  bias = c(\"TSSEnrichment\", \"log10(nFrags)\"),\n",
    "  testMethod = \"wilcoxon\"\n",
    ")"
   ]
  },
  {
   "cell_type": "code",
   "execution_count": 6,
   "id": "24768f3e-60f2-43f2-afdd-92642bc92836",
   "metadata": {},
   "outputs": [],
   "source": [
    "markerList <- getMarkers(markersPeaks, cutOff = \"FDR <= 0.01 & Log2FC >= 1\")"
   ]
  },
  {
   "cell_type": "code",
   "execution_count": 20,
   "id": "da7568c6-defd-4082-b0dd-6095db7bf070",
   "metadata": {},
   "outputs": [
    {
     "data": {
      "text/html": [
       "<style>\n",
       ".list-inline {list-style: none; margin:0; padding: 0}\n",
       ".list-inline>li {display: inline-block}\n",
       ".list-inline>li:not(:last-child)::after {content: \"\\00b7\"; padding: 0 .5ex}\n",
       "</style>\n",
       "<ol class=list-inline><li>'B Cell'</li><li>'Endothelial'</li><li>'Macrophage'</li><li>'MSC'</li><li>'MuSC'</li><li>'NK Cell'</li><li>'Schwann Cell'</li><li>'Smooth Muscle'</li><li>'T Cell'</li><li>'Tenocyte'</li></ol>\n"
      ],
      "text/latex": [
       "\\begin{enumerate*}\n",
       "\\item 'B Cell'\n",
       "\\item 'Endothelial'\n",
       "\\item 'Macrophage'\n",
       "\\item 'MSC'\n",
       "\\item 'MuSC'\n",
       "\\item 'NK Cell'\n",
       "\\item 'Schwann Cell'\n",
       "\\item 'Smooth Muscle'\n",
       "\\item 'T Cell'\n",
       "\\item 'Tenocyte'\n",
       "\\end{enumerate*}\n"
      ],
      "text/markdown": [
       "1. 'B Cell'\n",
       "2. 'Endothelial'\n",
       "3. 'Macrophage'\n",
       "4. 'MSC'\n",
       "5. 'MuSC'\n",
       "6. 'NK Cell'\n",
       "7. 'Schwann Cell'\n",
       "8. 'Smooth Muscle'\n",
       "9. 'T Cell'\n",
       "10. 'Tenocyte'\n",
       "\n",
       "\n"
      ],
      "text/plain": [
       " [1] \"B Cell\"        \"Endothelial\"   \"Macrophage\"    \"MSC\"          \n",
       " [5] \"MuSC\"          \"NK Cell\"       \"Schwann Cell\"  \"Smooth Muscle\"\n",
       " [9] \"T Cell\"        \"Tenocyte\"     "
      ]
     },
     "metadata": {},
     "output_type": "display_data"
    }
   ],
   "source": [
    "colnames(markersPeaks)"
   ]
  },
  {
   "cell_type": "code",
   "execution_count": 27,
   "id": "3d429344-627e-4f24-89d0-e2a84375c940",
   "metadata": {
    "scrolled": true,
    "tags": []
   },
   "outputs": [
    {
     "name": "stderr",
     "output_type": "stream",
     "text": [
      "ArchR logging to : ArchRLogs/ArchR-plotMarkerHeatmap-f4b969745532-Date-2022-12-25_Time-22-23-57.log\n",
      "If there is an issue, please report to github with logFile!\n",
      "\n",
      "Identified 92689 markers!\n",
      "\n"
     ]
    },
    {
     "name": "stdout",
     "output_type": "stream",
     "text": [
      "  [1] \"chr1:4471279-4471779\"   \"chr1:4491897-4492397\"   \"chr1:4493405-4493905\"  \n",
      "  [4] \"chr1:4497255-4497755\"   \"chr1:4543959-4544459\"   \"chr1:4571586-4572086\"  \n",
      "  [7] \"chr1:4602322-4602822\"   \"chr1:4622359-4622859\"   \"chr1:4671692-4672192\"  \n",
      " [10] \"chr1:4706101-4706601\"   \"chr1:4766703-4767203\"   \"chr1:7100566-7101066\"  \n",
      " [13] \"chr1:10880268-10880768\" \"chr1:10948561-10949061\" \"chr1:10949115-10949615\"\n",
      " [16] \"chr1:12285441-12285941\" \"chr1:12291722-12292222\" \"chr1:12588641-12589141\"\n",
      " [19] \"chr1:17449225-17449725\" \"chr1:21166182-21166682\" \"chr1:21271941-21272441\"\n",
      " [22] \"chr1:21664944-21665444\" \"chr1:23174176-23174676\" \"chr1:23256640-23257140\"\n",
      " [25] \"chr1:24099573-24100073\" \"chr1:33966331-33966831\" \"chr1:34054927-34055427\"\n",
      " [28] \"chr1:34124776-34125276\" \"chr1:34253954-34254454\" \"chr1:34289430-34289930\"\n",
      " [31] \"chr1:12276169-12276669\" \"chr1:12571990-12572490\" \"chr1:14108384-14108884\"\n",
      " [34] \"chr1:14775170-14775670\" \"chr1:20069635-20070135\" \"chr1:20677942-20678442\"\n",
      " [37] \"chr1:24107303-24107803\" \"chr1:24471112-24471612\" \"chr1:24517424-24517924\"\n",
      " [40] \"chr1:24586368-24586868\" \"chr1:24587172-24587672\" \"chr1:31050259-31050759\"\n",
      " [43] \"chr1:34189420-34189920\" \"chr1:34190004-34190504\" \"chr1:36538636-36539136\"\n",
      " [46] \"chr1:5019186-5019686\"   \"chr1:9145436-9145936\"   \"chr1:9547839-9548339\"  \n",
      " [49] \"chr1:9649183-9649683\"   \"chr1:12612069-12612569\" \"chr1:12693128-12693628\"\n",
      " [52] \"chr1:12714572-12715072\" \"chr1:12715297-12715797\" \"chr1:12771387-12771887\"\n",
      " [55] \"chr1:14754458-14754958\" \"chr1:14755243-14755743\" \"chr1:14755890-14756390\"\n",
      " [58] \"chr1:15286612-15287112\" \"chr1:15637903-15638403\" \"chr1:16606666-16607166\"\n",
      " [61] \"chr1:3978271-3978771\"   \"chr1:3978886-3979386\"   \"chr1:4774151-4774651\"  \n",
      " [64] \"chr1:5127347-5127847\"   \"chr1:5228808-5229308\"   \"chr1:5230090-5230590\"  \n",
      " [67] \"chr1:5230617-5231117\"   \"chr1:8780903-8781403\"   \"chr1:9627286-9627786\"  \n",
      " [70] \"chr1:9629944-9630444\"   \"chr1:10794369-10794869\" \"chr1:12761848-12762348\"\n",
      " [73] \"chr1:12992134-12992634\" \"chr1:13007502-13008002\" \"chr1:13042236-13042736\"\n",
      " [76] \"chr1:6464816-6465316\"   \"chr1:6466974-6467474\"   \"chr1:7395414-7395914\"  \n",
      " [79] \"chr1:7823960-7824460\"   \"chr1:9815707-9816207\"   \"chr1:9825811-9826311\"  \n",
      " [82] \"chr1:9892509-9893009\"   \"chr1:9893034-9893534\"   \"chr1:9945085-9945585\"  \n",
      " [85] \"chr1:9982937-9983437\"   \"chr1:9991777-9992277\"   \"chr1:9997539-9998039\"  \n",
      " [88] \"chr1:10261362-10261862\" \"chr1:10268229-10268729\" \"chr1:10324981-10325481\"\n",
      " [91] \"chr1:4785480-4785980\"   \"chr1:4858527-4859027\"   \"chr1:6214386-6214886\"  \n",
      " [94] \"chr1:7077149-7077649\"   \"chr1:7077681-7078181\"   \"chr1:7085930-7086430\"  \n",
      " [97] \"chr1:7111435-7111935\"   \"chr1:7165278-7165778\"   \"chr1:9573172-9573672\"  \n",
      "[100] \"chr1:9588487-9588987\"   \"chr1:9592008-9592508\"   \"chr1:9621345-9621845\"  \n",
      "[103] \"chr1:9744776-9745276\"   \"chr1:9805257-9805757\"   \"chr1:9841708-9842208\"  \n",
      "[106] \"chr1:7153369-7153869\"   \"chr1:7204691-7205191\"   \"chr1:9700826-9701326\"  \n",
      "[109] \"chr1:12863981-12864481\" \"chr1:13051947-13052447\" \"chr1:13151011-13151511\"\n",
      "[112] \"chr1:13171042-13171542\" \"chr1:13331775-13332275\" \"chr1:13332545-13333045\"\n",
      "[115] \"chr1:13371826-13372326\" \"chr1:13454496-13454996\" \"chr1:20670647-20671147\"\n",
      "[118] \"chr1:20738442-20738942\" \"chr1:20740395-20740895\" \"chr1:20743629-20744129\"\n",
      "[121] \"chr1:7095799-7096299\"   \"chr1:7397187-7397687\"   \"chr1:9883118-9883618\"  \n",
      "[124] \"chr1:10037694-10038194\" \"chr1:10038195-10038695\" \"chr1:13155249-13155749\"\n",
      "[127] \"chr1:13373919-13374419\" \"chr1:13531450-13531950\" \"chr1:13639661-13640161\"\n",
      "[130] \"chr1:15544176-15544676\" \"chr1:16177482-16177982\" \"chr1:16642129-16642629\"\n",
      "[133] \"chr1:20890275-20890775\" \"chr1:21218360-21218860\" \"chr1:21291607-21292107\"\n",
      "[136] \"chr1:4496301-4496801\"  \n"
     ]
    },
    {
     "name": "stderr",
     "output_type": "stream",
     "text": [
      "Adding Annotations..\n",
      "\n",
      "Preparing Main Heatmap..\n",
      "\n",
      "ArchR logging successful to : ArchRLogs/ArchR-plotMarkerHeatmap-f4b969745532-Date-2022-12-25_Time-22-23-57.log\n",
      "\n"
     ]
    }
   ],
   "source": [
    "heatmapPeaks <- plotMarkerHeatmap(\n",
    "    seMarker = markersPeaks[,c('Endothelial','Smooth Muscle','MuSC','MSC','Tenocyte','Macrophage','B Cell','T Cell','NK Cell','Schwann Cell')], \n",
    "    cutOff = \"FDR <= 0.01 & Log2FC >= 0.5\",\n",
    "    transpose = TRUE,\n",
    "    returnMatrix = FALSE\n",
    ")"
   ]
  },
  {
   "cell_type": "code",
   "execution_count": 31,
   "id": "ba3d22be-0f90-45d2-8c69-ca02167218cd",
   "metadata": {
    "scrolled": true,
    "tags": []
   },
   "outputs": [
    {
     "data": {
      "image/png": "[encoded data removed]",
      "text/plain": [
       "plot without title"
      ]
     },
     "metadata": {
      "image/png": {
       "height": 420,
       "width": 420
      }
     },
     "output_type": "display_data"
    }
   ],
   "source": [
    "hmp <- draw(heatmapPeaks, heatmap_legend_side = \"bot\", annotation_legend_side = \"bot\")"
   ]
  },
  {
   "cell_type": "code",
   "execution_count": 34,
   "id": "3d6a5c38-bfd8-4192-a5f5-86e19b25b6f6",
   "metadata": {},
   "outputs": [
    {
     "name": "stderr",
     "output_type": "stream",
     "text": [
      "Plotting ComplexHeatmap!\n",
      "\n"
     ]
    }
   ],
   "source": [
    "plotPDF(hmp, \n",
    "        name = \"Plot-celltype-peaks-heatmap.pdf\", \n",
    "        ArchRProj = projAging5, \n",
    "        addDOC = FALSE, width = 6, height = 5)"
   ]
  },
  {
   "cell_type": "markdown",
   "id": "1ee2a447-83d2-4c09-b02b-775141cf2c10",
   "metadata": {},
   "source": [
    "# Get QC metrics"
   ]
  },
  {
   "cell_type": "code",
   "execution_count": 40,
   "id": "3b7fdf70-ceeb-4077-b8bd-fb3d9f806b1f",
   "metadata": {},
   "outputs": [
    {
     "data": {
      "text/html": [
       "<style>\n",
       ".list-inline {list-style: none; margin:0; padding: 0}\n",
       ".list-inline>li {display: inline-block}\n",
       ".list-inline>li:not(:last-child)::after {content: \"\\00b7\"; padding: 0 .5ex}\n",
       "</style>\n",
       "<ol class=list-inline><li>'Sample'</li><li>'TSSEnrichment'</li><li>'ReadsInTSS'</li><li>'ReadsInPromoter'</li><li>'ReadsInBlacklist'</li><li>'PromoterRatio'</li><li>'PassQC'</li><li>'NucleosomeRatio'</li><li>'nMultiFrags'</li><li>'nMonoFrags'</li><li>'nFrags'</li><li>'nDiFrags'</li><li>'BlacklistRatio'</li><li>'Age'</li><li>'DoubletScore'</li><li>'DoubletEnrichment'</li><li>'Harmony_4iter_Clusters_res0.1'</li><li>'Harmony_4iter_Clusters_res0.2'</li><li>'Harmony_4iter_Clusters_res0.3'</li><li>'Harmony_Age_Clusters_res0.1'</li><li>'Harmony_Age_Clusters_res0.2'</li><li>'Harmony_Age_Clusters_res0.3'</li><li>'New_Harmony_4iter_Clusters_res0.2'</li><li>'Harmony_4iter_predictedCell_Un'</li><li>'Harmony_4iter_predictedGroup_Un'</li><li>'Harmony_4iter_predictedScore_Un'</li><li>'Harmony_4iter_predictedCell_Co'</li><li>'Harmony_4iter_predictedGroup_Co'</li><li>'Harmony_4iter_predictedScore_Co'</li><li>'celltype'</li><li>'ReadsInPeaks'</li><li>'FRIP'</li></ol>\n"
      ],
      "text/latex": [
       "\\begin{enumerate*}\n",
       "\\item 'Sample'\n",
       "\\item 'TSSEnrichment'\n",
       "\\item 'ReadsInTSS'\n",
       "\\item 'ReadsInPromoter'\n",
       "\\item 'ReadsInBlacklist'\n",
       "\\item 'PromoterRatio'\n",
       "\\item 'PassQC'\n",
       "\\item 'NucleosomeRatio'\n",
       "\\item 'nMultiFrags'\n",
       "\\item 'nMonoFrags'\n",
       "\\item 'nFrags'\n",
       "\\item 'nDiFrags'\n",
       "\\item 'BlacklistRatio'\n",
       "\\item 'Age'\n",
       "\\item 'DoubletScore'\n",
       "\\item 'DoubletEnrichment'\n",
       "\\item 'Harmony\\_4iter\\_Clusters\\_res0.1'\n",
       "\\item 'Harmony\\_4iter\\_Clusters\\_res0.2'\n",
       "\\item 'Harmony\\_4iter\\_Clusters\\_res0.3'\n",
       "\\item 'Harmony\\_Age\\_Clusters\\_res0.1'\n",
       "\\item 'Harmony\\_Age\\_Clusters\\_res0.2'\n",
       "\\item 'Harmony\\_Age\\_Clusters\\_res0.3'\n",
       "\\item 'New\\_Harmony\\_4iter\\_Clusters\\_res0.2'\n",
       "\\item 'Harmony\\_4iter\\_predictedCell\\_Un'\n",
       "\\item 'Harmony\\_4iter\\_predictedGroup\\_Un'\n",
       "\\item 'Harmony\\_4iter\\_predictedScore\\_Un'\n",
       "\\item 'Harmony\\_4iter\\_predictedCell\\_Co'\n",
       "\\item 'Harmony\\_4iter\\_predictedGroup\\_Co'\n",
       "\\item 'Harmony\\_4iter\\_predictedScore\\_Co'\n",
       "\\item 'celltype'\n",
       "\\item 'ReadsInPeaks'\n",
       "\\item 'FRIP'\n",
       "\\end{enumerate*}\n"
      ],
      "text/markdown": [
       "1. 'Sample'\n",
       "2. 'TSSEnrichment'\n",
       "3. 'ReadsInTSS'\n",
       "4. 'ReadsInPromoter'\n",
       "5. 'ReadsInBlacklist'\n",
       "6. 'PromoterRatio'\n",
       "7. 'PassQC'\n",
       "8. 'NucleosomeRatio'\n",
       "9. 'nMultiFrags'\n",
       "10. 'nMonoFrags'\n",
       "11. 'nFrags'\n",
       "12. 'nDiFrags'\n",
       "13. 'BlacklistRatio'\n",
       "14. 'Age'\n",
       "15. 'DoubletScore'\n",
       "16. 'DoubletEnrichment'\n",
       "17. 'Harmony_4iter_Clusters_res0.1'\n",
       "18. 'Harmony_4iter_Clusters_res0.2'\n",
       "19. 'Harmony_4iter_Clusters_res0.3'\n",
       "20. 'Harmony_Age_Clusters_res0.1'\n",
       "21. 'Harmony_Age_Clusters_res0.2'\n",
       "22. 'Harmony_Age_Clusters_res0.3'\n",
       "23. 'New_Harmony_4iter_Clusters_res0.2'\n",
       "24. 'Harmony_4iter_predictedCell_Un'\n",
       "25. 'Harmony_4iter_predictedGroup_Un'\n",
       "26. 'Harmony_4iter_predictedScore_Un'\n",
       "27. 'Harmony_4iter_predictedCell_Co'\n",
       "28. 'Harmony_4iter_predictedGroup_Co'\n",
       "29. 'Harmony_4iter_predictedScore_Co'\n",
       "30. 'celltype'\n",
       "31. 'ReadsInPeaks'\n",
       "32. 'FRIP'\n",
       "\n",
       "\n"
      ],
      "text/plain": [
       " [1] \"Sample\"                            \"TSSEnrichment\"                    \n",
       " [3] \"ReadsInTSS\"                        \"ReadsInPromoter\"                  \n",
       " [5] \"ReadsInBlacklist\"                  \"PromoterRatio\"                    \n",
       " [7] \"PassQC\"                            \"NucleosomeRatio\"                  \n",
       " [9] \"nMultiFrags\"                       \"nMonoFrags\"                       \n",
       "[11] \"nFrags\"                            \"nDiFrags\"                         \n",
       "[13] \"BlacklistRatio\"                    \"Age\"                              \n",
       "[15] \"DoubletScore\"                      \"DoubletEnrichment\"                \n",
       "[17] \"Harmony_4iter_Clusters_res0.1\"     \"Harmony_4iter_Clusters_res0.2\"    \n",
       "[19] \"Harmony_4iter_Clusters_res0.3\"     \"Harmony_Age_Clusters_res0.1\"      \n",
       "[21] \"Harmony_Age_Clusters_res0.2\"       \"Harmony_Age_Clusters_res0.3\"      \n",
       "[23] \"New_Harmony_4iter_Clusters_res0.2\" \"Harmony_4iter_predictedCell_Un\"   \n",
       "[25] \"Harmony_4iter_predictedGroup_Un\"   \"Harmony_4iter_predictedScore_Un\"  \n",
       "[27] \"Harmony_4iter_predictedCell_Co\"    \"Harmony_4iter_predictedGroup_Co\"  \n",
       "[29] \"Harmony_4iter_predictedScore_Co\"   \"celltype\"                         \n",
       "[31] \"ReadsInPeaks\"                      \"FRIP\"                             "
      ]
     },
     "metadata": {},
     "output_type": "display_data"
    }
   ],
   "source": [
    "colnames(projAging5@cellColData)"
   ]
  },
  {
   "cell_type": "code",
   "execution_count": 46,
   "id": "d7f4f5bc-3e37-4e53-8823-d0937c3bbf6e",
   "metadata": {},
   "outputs": [],
   "source": [
    "df <- getCellColData(projAging5, select = c(\"Age\",\"nFrags\",\"TSSEnrichment\",\"BlacklistRatio\",\"FRIP\"))"
   ]
  },
  {
   "cell_type": "code",
   "execution_count": 58,
   "id": "2bcb3538-e4fb-4612-a7df-a983fbe7bf2b",
   "metadata": {},
   "outputs": [
    {
     "data": {
      "text/plain": [
       "\n",
       " Aged Young \n",
       "14327 10603 "
      ]
     },
     "metadata": {},
     "output_type": "display_data"
    }
   ],
   "source": [
    "table(df$Age)"
   ]
  },
  {
   "cell_type": "code",
   "execution_count": 57,
   "id": "d5d93907-004f-4df9-8d69-2471e4841d48",
   "metadata": {},
   "outputs": [
    {
     "name": "stderr",
     "output_type": "stream",
     "text": [
      "\u001b[1m\u001b[22m`summarise()` has grouped output by 'Age'. You can override using the `.groups` argument.\n"
     ]
    },
    {
     "data": {
      "text/html": [
       "<table class=\"dataframe\">\n",
       "<caption>A grouped_df: 2 × 5</caption>\n",
       "<thead>\n",
       "\t<tr><th scope=col>Age</th><th scope=col>BlacklistRatio</th><th scope=col>FRIP</th><th scope=col>nFrags</th><th scope=col>TSSEnrichment</th></tr>\n",
       "\t<tr><th scope=col>&lt;chr&gt;</th><th scope=col>&lt;dbl&gt;</th><th scope=col>&lt;dbl&gt;</th><th scope=col>&lt;dbl&gt;</th><th scope=col>&lt;dbl&gt;</th></tr>\n",
       "</thead>\n",
       "<tbody>\n",
       "\t<tr><td>Aged </td><td>0.02299889</td><td>0.5293303</td><td>10016</td><td>19.407</td></tr>\n",
       "\t<tr><td>Young</td><td>0.02278177</td><td>0.5516091</td><td> 5451</td><td>25.149</td></tr>\n",
       "</tbody>\n",
       "</table>\n"
      ],
      "text/latex": [
       "A grouped\\_df: 2 × 5\n",
       "\\begin{tabular}{lllll}\n",
       " Age & BlacklistRatio & FRIP & nFrags & TSSEnrichment\\\\\n",
       " <chr> & <dbl> & <dbl> & <dbl> & <dbl>\\\\\n",
       "\\hline\n",
       "\t Aged  & 0.02299889 & 0.5293303 & 10016 & 19.407\\\\\n",
       "\t Young & 0.02278177 & 0.5516091 &  5451 & 25.149\\\\\n",
       "\\end{tabular}\n"
      ],
      "text/markdown": [
       "\n",
       "A grouped_df: 2 × 5\n",
       "\n",
       "| Age &lt;chr&gt; | BlacklistRatio &lt;dbl&gt; | FRIP &lt;dbl&gt; | nFrags &lt;dbl&gt; | TSSEnrichment &lt;dbl&gt; |\n",
       "|---|---|---|---|---|\n",
       "| Aged  | 0.02299889 | 0.5293303 | 10016 | 19.407 |\n",
       "| Young | 0.02278177 | 0.5516091 |  5451 | 25.149 |\n",
       "\n"
      ],
      "text/plain": [
       "  Age   BlacklistRatio FRIP      nFrags TSSEnrichment\n",
       "1 Aged  0.02299889     0.5293303 10016  19.407       \n",
       "2 Young 0.02278177     0.5516091  5451  25.149       "
      ]
     },
     "metadata": {},
     "output_type": "display_data"
    }
   ],
   "source": [
    "df %>% \n",
    "    as.data.frame() %>% \n",
    "    pivot_longer(!Age, names_to=\"metrics\", values_to=\"value\") %>% \n",
    "    group_by(Age, metrics) %>% \n",
    "    summarise(med = median(value)) %>% \n",
    "    pivot_wider(id_cols = Age, names_from = \"metrics\", values_from = \"med\")"
   ]
  },
  {
   "cell_type": "markdown",
   "id": "afbdcefd-6c08-4006-bbc3-d655872c1518",
   "metadata": {},
   "source": [
    "## get peak matrices for median peaks per cell"
   ]
  },
  {
   "cell_type": "code",
   "execution_count": 51,
   "id": "f1a78cdc-fda4-4b2f-8d2d-d6160b108733",
   "metadata": {
    "scrolled": true,
    "tags": []
   },
   "outputs": [
    {
     "name": "stderr",
     "output_type": "stream",
     "text": [
      "ArchR logging to : ArchRLogs/ArchR-getMatrixFromProject-259b9290663-Date-2022-12-23_Time-16-59-33.log\n",
      "If there is an issue, please report to github with logFile!\n",
      "\n",
      "2022-12-23 17:00:23 : Organizing colData, 0.848 mins elapsed.\n",
      "\n",
      "2022-12-23 17:00:24 : Organizing rowData, 0.852 mins elapsed.\n",
      "\n",
      "2022-12-23 17:00:24 : Organizing rowRanges, 0.852 mins elapsed.\n",
      "\n",
      "2022-12-23 17:00:24 : Organizing Assays (1 of 1), 0.853 mins elapsed.\n",
      "\n",
      "2022-12-23 17:00:31 : Constructing SummarizedExperiment, 0.966 mins elapsed.\n",
      "\n",
      "2022-12-23 17:00:53 : Finished Matrix Creation, 1.349 mins elapsed.\n",
      "\n"
     ]
    },
    {
     "data": {
      "text/plain": [
       "   Min. 1st Qu.  Median    Mean 3rd Qu.    Max. \n",
       "    193    1280    3144    4595    6954   30999 "
      ]
     },
     "metadata": {},
     "output_type": "display_data"
    },
    {
     "data": {
      "text/plain": [
       "   Min. 1st Qu.  Median    Mean 3rd Qu.    Max. \n",
       "    224    1969    5273    7124   11452   37519 "
      ]
     },
     "metadata": {},
     "output_type": "display_data"
    }
   ],
   "source": [
    "peakmatrix <- getMatrixFromProject(projAging5, \"PeakMatrix\")\n",
    "young_cellnames <- rownames(colData(peakmatrix)[(colData(peakmatrix)$Age == \"Young\"),])\n",
    "aged_cellnames <- rownames(colData(peakmatrix)[(colData(peakmatrix)$Age == \"Aged\"),])\n",
    "\n",
    "summary(Matrix::colSums(assay(peakmatrix)[,young_cellnames] > 0))\n",
    "summary(Matrix::colSums(assay(peakmatrix)[,aged_cellnames] > 0))"
   ]
  },
  {
   "cell_type": "markdown",
   "id": "07119167-bd78-4d4f-af86-9e625b1787af",
   "metadata": {},
   "source": [
    "# Save object"
   ]
  },
  {
   "cell_type": "code",
   "execution_count": 30,
   "id": "8eb8602e-0aea-40c5-8d5c-db5e17b203cb",
   "metadata": {
    "scrolled": true,
    "tags": []
   },
   "outputs": [
    {
     "name": "stderr",
     "output_type": "stream",
     "text": [
      "Copying ArchRProject to new outputDirectory : /nas/homes/benyang/HiC/13_MultiOme/ArchR_analysis/Save-projAging5-02\n",
      "\n",
      "Copying Arrow Files...\n",
      "\n",
      "Copying Arrow Files (1 of 4)\n",
      "\n",
      "Copying Arrow Files (2 of 4)\n",
      "\n",
      "Copying Arrow Files (3 of 4)\n",
      "\n",
      "Copying Arrow Files (4 of 4)\n",
      "\n",
      "Getting ImputeWeights\n",
      "\n",
      "No imputeWeights found, returning NULL\n",
      "\n",
      "Copying Other Files...\n",
      "\n",
      "Copying Other Files (1 of 25): Aged\n",
      "\n",
      "Copying Other Files (2 of 25): Aged_v2\n",
      "\n",
      "Copying Other Files (3 of 25): celltype_markersGS.RDS\n",
      "\n",
      "Copying Other Files (4 of 25): Embeddings\n",
      "\n",
      "Copying Other Files (5 of 25): GroupCoverages\n",
      "\n",
      "Copying Other Files (6 of 25): Harmony_4iter_Clusters_res0.2_cluster_markersGS.RDS\n",
      "\n",
      "Copying Other Files (7 of 25): Harmony_Age_Clusters_res0.3_cluster_markersGS.RDS\n",
      "\n",
      "Copying Other Files (8 of 25): IterativeLSI\n",
      "\n",
      "Copying Other Files (9 of 25): IterativeLSI_4iter\n",
      "\n",
      "Copying Other Files (10 of 25): IterativeLSI_4iter_10kvar\n",
      "\n",
      "Copying Other Files (11 of 25): New_Harmony_4iter_Clusters_res0.2_cluster_markersGS.RDS\n",
      "\n",
      "Copying Other Files (12 of 25): PeakCalls\n",
      "\n",
      "Copying Other Files (13 of 25): Plots\n",
      "\n",
      "Copying Other Files (14 of 25): projAging1-01.RDS\n",
      "\n",
      "Copying Other Files (15 of 25): projAging2-01-doubScores.RDS\n",
      "\n",
      "Copying Other Files (16 of 25): projAging2-01-filtered.RDS\n",
      "\n",
      "Copying Other Files (17 of 25): projAging2-01.RDS\n",
      "\n",
      "Copying Other Files (18 of 25): projAging3-01-scoreMat.RDS\n",
      "\n",
      "Copying Other Files (19 of 25): projAging3-01.RDS\n",
      "\n",
      "Copying Other Files (20 of 25): QualityControl\n",
      "\n",
      "Copying Other Files (21 of 25): RNAIntegration\n",
      "\n",
      "Copying Other Files (22 of 25): Save-projAging1-01\n",
      "\n",
      "Copying Other Files (23 of 25): tmp.png\n",
      "\n",
      "Copying Other Files (24 of 25): Young\n",
      "\n",
      "Copying Other Files (25 of 25): Young_v2\n",
      "\n",
      "Saving ArchRProject...\n",
      "\n"
     ]
    }
   ],
   "source": [
    "saveArchRProject(ArchRProj = projAging5, outputDirectory = file.path(projdir,\"Save-projAging5-02\"), load = FALSE)"
   ]
  },
  {
   "cell_type": "code",
   "execution_count": 4,
   "id": "333c7960-b348-42e8-b9bd-c58ed4e3be51",
   "metadata": {},
   "outputs": [],
   "source": [
    "projAging5 <- readRDS(file.path(projdir,\"Save-projAging5-02\",\"Save-ArchR-Project.rds\"))"
   ]
  },
  {
   "cell_type": "markdown",
   "id": "23675737-8b6f-4d41-aa27-b937de23927a",
   "metadata": {},
   "source": [
    "# Subset MuSCs and save as separate object"
   ]
  },
  {
   "cell_type": "code",
   "execution_count": 36,
   "id": "30fc0468-e30d-497a-9e27-c887f74e5542",
   "metadata": {},
   "outputs": [],
   "source": [
    "dir.create(file.path(projdir, \"MuSC_subset\", \"all_MuSCs\"), recursive = TRUE)"
   ]
  },
  {
   "cell_type": "code",
   "execution_count": 38,
   "id": "82b8e2a5-a9e1-40a9-9084-6af040b4ff07",
   "metadata": {
    "scrolled": true,
    "tags": []
   },
   "outputs": [
    {
     "name": "stderr",
     "output_type": "stream",
     "text": [
      "Copying ArchRProject to new outputDirectory : /nas/homes/benyang/HiC/13_MultiOme/ArchR_analysis/MuSC_subset/all_MuSCs\n",
      "\n",
      "Copying Arrow Files...\n",
      "\n",
      "Getting ImputeWeights\n",
      "\n",
      "No imputeWeights found, returning NULL\n",
      "\n",
      "Copying Other Files...\n",
      "\n",
      "Copying Other Files (1 of 25): Aged\n",
      "\n",
      "Copying Other Files (2 of 25): Aged_v2\n",
      "\n",
      "Copying Other Files (3 of 25): celltype_markersGS.RDS\n",
      "\n",
      "Copying Other Files (4 of 25): Embeddings\n",
      "\n",
      "Copying Other Files (5 of 25): GroupCoverages\n",
      "\n",
      "Copying Other Files (6 of 25): Harmony_4iter_Clusters_res0.2_cluster_markersGS.RDS\n",
      "\n",
      "Copying Other Files (7 of 25): Harmony_Age_Clusters_res0.3_cluster_markersGS.RDS\n",
      "\n",
      "Copying Other Files (8 of 25): IterativeLSI\n",
      "\n",
      "Copying Other Files (9 of 25): IterativeLSI_4iter\n",
      "\n",
      "Copying Other Files (10 of 25): IterativeLSI_4iter_10kvar\n",
      "\n",
      "Copying Other Files (11 of 25): New_Harmony_4iter_Clusters_res0.2_cluster_markersGS.RDS\n",
      "\n",
      "Copying Other Files (12 of 25): PeakCalls\n",
      "\n",
      "Copying Other Files (13 of 25): Plots\n",
      "\n",
      "Copying Other Files (14 of 25): projAging1-01.RDS\n",
      "\n",
      "Copying Other Files (15 of 25): projAging2-01-doubScores.RDS\n",
      "\n",
      "Copying Other Files (16 of 25): projAging2-01-filtered.RDS\n",
      "\n",
      "Copying Other Files (17 of 25): projAging2-01.RDS\n",
      "\n",
      "Copying Other Files (18 of 25): projAging3-01-scoreMat.RDS\n",
      "\n",
      "Copying Other Files (19 of 25): projAging3-01.RDS\n",
      "\n",
      "Copying Other Files (20 of 25): QualityControl\n",
      "\n",
      "Copying Other Files (21 of 25): RNAIntegration\n",
      "\n",
      "Copying Other Files (22 of 25): Save-projAging1-01\n",
      "\n",
      "Copying Other Files (23 of 25): tmp.png\n",
      "\n",
      "Copying Other Files (24 of 25): Young\n",
      "\n",
      "Copying Other Files (25 of 25): Young_v2\n",
      "\n",
      "Saving ArchRProject...\n",
      "\n",
      "Loading ArchRProject...\n",
      "\n",
      "Successfully loaded ArchRProject!\n",
      "\n",
      "\n",
      "                                                   / |\n",
      "                                                 /    \\\n",
      "            .                                  /      |.\n",
      "            \\\\\\                              /        |.\n",
      "              \\\\\\                          /           `|.\n",
      "                \\\\\\                      /              |.\n",
      "                  \\                    /                |\\\n",
      "                  \\\\#####\\           /                  ||\n",
      "                ==###########>      /                   ||\n",
      "                 \\\\##==......\\    /                     ||\n",
      "            ______ =       =|__ /__                     ||      \\\\\\\n",
      "        ,--' ,----`-,__ ___/'  --,-`-===================##========>\n",
      "       \\               '        ##_______ _____ ,--,__,=##,__   ///\n",
      "        ,    __==    ___,-,__,--'#'  ==='      `-'    | ##,-/\n",
      "        -,____,---'       \\\\####\\\\________________,--\\\\_##,/\n",
      "           ___      .______        ______  __    __  .______      \n",
      "          /   \\     |   _  \\      /      ||  |  |  | |   _  \\     \n",
      "         /  ^  \\    |  |_)  |    |  ,----'|  |__|  | |  |_)  |    \n",
      "        /  /_\\  \\   |      /     |  |     |   __   | |      /     \n",
      "       /  _____  \\  |  |\\  \\\\___ |  `----.|  |  |  | |  |\\  \\\\___.\n",
      "      /__/     \\__\\ | _| `._____| \\______||__|  |__| | _| `._____|\n",
      "    \n",
      "\n"
     ]
    }
   ],
   "source": [
    "projAging_MuSC <- subsetArchRProject(projAging5, cells = getCellNames(projAging5[projAging5$celltype==\"MuSC\",]), \n",
    "                                     outputDirectory = file.path(projdir, \"MuSC_subset\", \"all_MuSCs\"), dropCells = TRUE, force = TRUE)"
   ]
  }
 ],
 "metadata": {
  "kernelspec": {
   "display_name": "R",
   "language": "R",
   "name": "ir"
  },
  "language_info": {
   "codemirror_mode": "r",
   "file_extension": ".r",
   "mimetype": "text/x-r-source",
   "name": "R",
   "pygments_lexer": "r",
   "version": "4.2.1"
  },
  "toc-autonumbering": true
 },
 "nbformat": 4,
 "nbformat_minor": 5
}
